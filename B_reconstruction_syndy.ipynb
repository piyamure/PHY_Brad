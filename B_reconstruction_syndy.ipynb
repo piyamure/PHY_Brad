{
 "cells": [
  {
   "cell_type": "code",
   "execution_count": 12,
   "metadata": {},
   "outputs": [],
   "source": [
    "import numpy as np\n",
    "import matplotlib.pyplot as plt\n",
    "from generate_magnetic_field import get_mag_field\n",
    "from create_poly_lib import get_poly_lib"
   ]
  },
  {
   "cell_type": "code",
   "execution_count": 5,
   "metadata": {},
   "outputs": [],
   "source": [
    "# genrate coordinate mesh \n",
    "x_data_points = 11\n",
    "x_array = np.linspace(-1,1,x_data_points)\n",
    "x_array\n",
    "xv,yv,zv = np.meshgrid(x_array,x_array,x_array,indexing='ij')"
   ]
  },
  {
   "cell_type": "code",
   "execution_count": 6,
   "metadata": {},
   "outputs": [],
   "source": [
    "# create BV mask \n",
    "xyv_mask    = ((xv==-1) + (xv==0) + (xv==1)) * ((yv==-1) + (yv==0) + (yv==1))\n",
    "zv_mask     = (zv==-1) + (zv ==1) + (zv==0)\n",
    "center_mask = (xv==0)*(yv==0)*(zv==0)\n",
    "bv_mask     = (xyv_mask) * (zv_mask)* (~center_mask)"
   ]
  },
  {
   "cell_type": "code",
   "execution_count": 10,
   "metadata": {},
   "outputs": [],
   "source": [
    "# calculate B(B_x,B_y,B_z) field at x,y,z meshgrid \n",
    "B = get_mag_field(2,xv,yv,zv)       # get B at x,y,z mesh \n",
    "B = B.reshape(*xv.shape,3)          # reshape B to have shape as coordinate mesh \n",
    "Bv = B[bv_mask]                     # get the BV (26 values)\n",
    "B[~bv_mask] = 0                     # set phyics BV =0 "
   ]
  },
  {
   "cell_type": "code",
   "execution_count": 11,
   "metadata": {},
   "outputs": [
    {
     "data": {
      "text/plain": [
       "array([[-4.3300e-02, -2.3550e-02,  9.5380e-01],\n",
       "       [-2.5400e-02,  1.2450e-02,  9.2760e-01],\n",
       "       [ 7.1000e-03,  5.9650e-02,  9.0820e-01],\n",
       "       [-5.0175e-02, -1.9900e-02,  9.7690e-01],\n",
       "       [-2.3275e-02,  1.5000e-03,  9.6190e-01],\n",
       "       [ 1.8225e-02,  3.4100e-02,  9.5370e-01],\n",
       "       [-6.4100e-02, -2.9250e-02,  9.8540e-01],\n",
       "       [-2.8200e-02, -2.2450e-02,  9.8160e-01],\n",
       "       [ 2.2300e-02, -4.4500e-03,  9.8460e-01],\n",
       "       [-2.7625e-02, -2.6000e-02,  9.6830e-01],\n",
       "       [-1.9250e-03,  1.9000e-02,  9.5670e-01],\n",
       "       [ 3.8375e-02,  7.5200e-02,  9.5190e-01],\n",
       "       [-3.2700e-02, -2.9400e-02,  1.0004e+00],\n",
       "       [ 5.1300e-02,  4.2600e-02,  1.0064e+00],\n",
       "       [-4.4825e-02, -4.5800e-02,  1.0179e+00],\n",
       "       [-1.1250e-03, -3.0000e-02,  1.0287e+00],\n",
       "       [ 5.7175e-02, -3.0000e-03,  1.0463e+00],\n",
       "       [-1.9500e-02, -2.6650e-02,  9.9060e-01],\n",
       "       [ 1.4000e-02,  2.7350e-02,  9.9360e-01],\n",
       "       [ 6.2100e-02,  9.2550e-02,  1.0034e+00],\n",
       "       [-2.2775e-02, -3.7100e-02,  1.0317e+00],\n",
       "       [ 1.9725e-02,  2.3000e-03,  1.0459e+00],\n",
       "       [ 7.6825e-02,  5.2900e-02,  1.0669e+00],\n",
       "       [-3.3100e-02, -6.0550e-02,  1.0582e+00],\n",
       "       [ 1.8400e-02, -3.5750e-02,  1.0836e+00],\n",
       "       [ 8.4500e-02,  2.5000e-04,  1.1158e+00]])"
      ]
     },
     "execution_count": 11,
     "metadata": {},
     "output_type": "execute_result"
    }
   ],
   "source": [
    "Bv"
   ]
  },
  {
   "cell_type": "code",
   "execution_count": 8,
   "metadata": {},
   "outputs": [
    {
     "data": {
      "text/plain": [
       "array([[-1., -1., -1.],\n",
       "       [-1., -1.,  0.],\n",
       "       [-1., -1.,  1.],\n",
       "       [-1.,  0., -1.],\n",
       "       [-1.,  0.,  0.],\n",
       "       [-1.,  0.,  1.],\n",
       "       [-1.,  1., -1.],\n",
       "       [-1.,  1.,  0.],\n",
       "       [-1.,  1.,  1.],\n",
       "       [ 0., -1., -1.],\n",
       "       [ 0., -1.,  0.],\n",
       "       [ 0., -1.,  1.],\n",
       "       [ 0.,  0., -1.],\n",
       "       [ 0.,  0.,  1.],\n",
       "       [ 0.,  1., -1.],\n",
       "       [ 0.,  1.,  0.],\n",
       "       [ 0.,  1.,  1.],\n",
       "       [ 1., -1., -1.],\n",
       "       [ 1., -1.,  0.],\n",
       "       [ 1., -1.,  1.],\n",
       "       [ 1.,  0., -1.],\n",
       "       [ 1.,  0.,  0.],\n",
       "       [ 1.,  0.,  1.],\n",
       "       [ 1.,  1., -1.],\n",
       "       [ 1.,  1.,  0.],\n",
       "       [ 1.,  1.,  1.]])"
      ]
     },
     "execution_count": 8,
     "metadata": {},
     "output_type": "execute_result"
    }
   ],
   "source": [
    "# bv coordinates \n",
    "Bv_coords = np.array([xv[bv_mask],yv[bv_mask],zv[bv_mask]]).T\n",
    "Bv_coords"
   ]
  },
  {
   "cell_type": "code",
   "execution_count": 13,
   "metadata": {},
   "outputs": [],
   "source": [
    "X = get_poly_lib(4,Bv_coords)"
   ]
  },
  {
   "cell_type": "code",
   "execution_count": 18,
   "metadata": {},
   "outputs": [
    {
     "data": {
      "text/plain": [
       "array([[ 2.00000000e-03,  1.00000000e-03,  1.00000000e+00],\n",
       "       [ 1.07500000e-02,  2.00000000e-04,  2.10000000e-02],\n",
       "       [ 2.00000000e-04, -1.22500000e-02,  1.80000000e-02],\n",
       "       [ 2.10000000e-02,  1.80000000e-02,  1.50000000e-03],\n",
       "       [-1.88750000e-03,  4.50000000e-04,  1.95000000e-03],\n",
       "       [ 6.00000000e-04, -2.35000000e-03,  3.00000000e-03],\n",
       "       [ 2.60000000e-03,  3.00000000e-03,  4.86666667e-03],\n",
       "       [-1.76250000e-03, -3.25000000e-03, -3.65000000e-03],\n",
       "       [ 3.00000000e-03, -4.86666667e-03,  3.73333333e-03],\n",
       "       [ 3.65000000e-03,  2.80000000e-03,  1.70000000e-03],\n",
       "       [ 1.07500000e-02,  2.00000000e-04,  2.10000000e-02],\n",
       "       [ 2.05983265e-17, -1.82160981e-18,  1.66687688e-16],\n",
       "       [-1.20361589e-17,  3.05729997e-18,  1.54234713e-19],\n",
       "       [ 1.47436348e-17, -5.77894774e-18, -5.53569165e-17],\n",
       "       [-3.03728087e-18, -2.07951478e-17,  8.34209616e-17],\n",
       "       [-3.36254153e-18,  6.74358735e-18,  8.34209616e-17],\n",
       "       [ 2.00000000e-04, -1.22500000e-02,  1.80000000e-02],\n",
       "       [ 5.31107585e-18,  3.49098083e-18,  1.38932113e-16],\n",
       "       [ 8.45526215e-18, -8.76050371e-18,  3.60976718e-16],\n",
       "       [ 2.10000000e-02,  1.80000000e-02,  1.50000000e-03],\n",
       "       [-1.88750000e-03,  4.50000000e-04,  1.95000000e-03],\n",
       "       [ 6.00000000e-04, -2.35000000e-03,  3.00000000e-03],\n",
       "       [ 2.60000000e-03,  3.00000000e-03,  4.86666667e-03],\n",
       "       [-1.98393850e-17,  2.41019645e-17, -1.54234713e-19],\n",
       "       [-5.41949607e-18, -1.31945903e-17,  3.60668248e-16],\n",
       "       [-1.02984058e-17,  2.38309139e-17, -1.38932113e-16],\n",
       "       [ 6.00000000e-04, -2.35000000e-03,  3.00000000e-03],\n",
       "       [-1.34425921e-17, -1.52545744e-17, -2.22198840e-16],\n",
       "       [-2.60057042e-18,  1.16336395e-17, -4.16487869e-16],\n",
       "       [ 2.60000000e-03,  3.00000000e-03,  4.86666667e-03],\n",
       "       [-1.76250000e-03, -3.25000000e-03, -3.65000000e-03],\n",
       "       [ 3.00000000e-03, -4.86666667e-03,  3.73333333e-03],\n",
       "       [ 7.69935022e-18,  3.34803132e-17,  8.31124921e-17],\n",
       "       [ 3.00000000e-03, -4.86666667e-03,  3.73333333e-03],\n",
       "       [ 3.65000000e-03,  2.80000000e-03,  1.70000000e-03]])"
      ]
     },
     "execution_count": 18,
     "metadata": {},
     "output_type": "execute_result"
    }
   ],
   "source": [
    "w = np.linalg.lstsq(X,Bv,rcond=None)[0]\n",
    "w"
   ]
  },
  {
   "cell_type": "code",
   "execution_count": 23,
   "metadata": {},
   "outputs": [
    {
     "data": {
      "text/plain": [
       "array([[0.002     , 0.001     , 1.        ],\n",
       "       [0.01075   , 0.        , 0.021     ],\n",
       "       [0.        , 0.        , 0.018     ],\n",
       "       [0.021     , 0.018     , 0.0015    ],\n",
       "       [0.        , 0.        , 0.00195   ],\n",
       "       [0.        , 0.        , 0.003     ],\n",
       "       [0.0026    , 0.003     , 0.00486667],\n",
       "       [0.        , 0.        , 0.        ],\n",
       "       [0.003     , 0.        , 0.00373333],\n",
       "       [0.00365   , 0.0028    , 0.0017    ],\n",
       "       [0.01075   , 0.        , 0.021     ],\n",
       "       [0.        , 0.        , 0.        ],\n",
       "       [0.        , 0.        , 0.        ],\n",
       "       [0.        , 0.        , 0.        ],\n",
       "       [0.        , 0.        , 0.        ],\n",
       "       [0.        , 0.        , 0.        ],\n",
       "       [0.        , 0.        , 0.018     ],\n",
       "       [0.        , 0.        , 0.        ],\n",
       "       [0.        , 0.        , 0.        ],\n",
       "       [0.021     , 0.018     , 0.0015    ],\n",
       "       [0.        , 0.        , 0.00195   ],\n",
       "       [0.        , 0.        , 0.003     ],\n",
       "       [0.0026    , 0.003     , 0.00486667],\n",
       "       [0.        , 0.        , 0.        ],\n",
       "       [0.        , 0.        , 0.        ],\n",
       "       [0.        , 0.        , 0.        ],\n",
       "       [0.        , 0.        , 0.003     ],\n",
       "       [0.        , 0.        , 0.        ],\n",
       "       [0.        , 0.        , 0.        ],\n",
       "       [0.0026    , 0.003     , 0.00486667],\n",
       "       [0.        , 0.        , 0.        ],\n",
       "       [0.003     , 0.        , 0.00373333],\n",
       "       [0.        , 0.        , 0.        ],\n",
       "       [0.003     , 0.        , 0.00373333],\n",
       "       [0.00365   , 0.0028    , 0.0017    ]])"
      ]
     },
     "execution_count": 23,
     "metadata": {},
     "output_type": "execute_result"
    }
   ],
   "source": [
    "lam = 1e-3\n",
    "small_ind = w < lam\n",
    "w[small_ind] = 0\n",
    "w"
   ]
  },
  {
   "cell_type": "code",
   "execution_count": 63,
   "metadata": {},
   "outputs": [],
   "source": [
    "def SYNDy(X,Bv,lam):\n",
    "    w = np.linalg.lstsq(X,Bv,rcond=None)[0]\n",
    "    for i in range(10):\n",
    "        small_ind = w < lam\n",
    "        w[small_ind] = 0\n",
    "        for ind in range(3):\n",
    "            big_ind = ~small_ind[:,ind]\n",
    "            w[big_ind,ind] = np.linalg.lstsq(X[:,big_ind],Bv[:,ind],rcond=None)[0]\n",
    "    return w"
   ]
  },
  {
   "cell_type": "code",
   "execution_count": 64,
   "metadata": {},
   "outputs": [
    {
     "data": {
      "text/plain": [
       "array([[0.        , 0.        , 0.99402727],\n",
       "       [0.01075   , 0.        , 0.021     ],\n",
       "       [0.        , 0.        , 0.018     ],\n",
       "       [0.021     , 0.018     , 0.0015    ],\n",
       "       [0.        , 0.        , 0.00228182],\n",
       "       [0.        , 0.        , 0.003     ],\n",
       "       [0.0026    , 0.003     , 0.00486667],\n",
       "       [0.        , 0.        , 0.        ],\n",
       "       [0.003     , 0.        , 0.00373333],\n",
       "       [0.00221667, 0.00143333, 0.00203182],\n",
       "       [0.01075   , 0.        , 0.021     ],\n",
       "       [0.        , 0.        , 0.        ],\n",
       "       [0.        , 0.        , 0.        ],\n",
       "       [0.        , 0.        , 0.        ],\n",
       "       [0.        , 0.        , 0.        ],\n",
       "       [0.        , 0.        , 0.        ],\n",
       "       [0.        , 0.        , 0.018     ],\n",
       "       [0.        , 0.        , 0.        ],\n",
       "       [0.        , 0.        , 0.        ],\n",
       "       [0.021     , 0.018     , 0.0015    ],\n",
       "       [0.        , 0.        , 0.00228182],\n",
       "       [0.        , 0.        , 0.003     ],\n",
       "       [0.0026    , 0.003     , 0.00486667],\n",
       "       [0.        , 0.        , 0.        ],\n",
       "       [0.        , 0.        , 0.        ],\n",
       "       [0.        , 0.        , 0.        ],\n",
       "       [0.        , 0.        , 0.003     ],\n",
       "       [0.        , 0.        , 0.        ],\n",
       "       [0.        , 0.        , 0.        ],\n",
       "       [0.0026    , 0.003     , 0.00486667],\n",
       "       [0.        , 0.        , 0.        ],\n",
       "       [0.003     , 0.        , 0.00373333],\n",
       "       [0.        , 0.        , 0.        ],\n",
       "       [0.003     , 0.        , 0.00373333],\n",
       "       [0.00221667, 0.00143333, 0.00203182]])"
      ]
     },
     "execution_count": 64,
     "metadata": {},
     "output_type": "execute_result"
    }
   ],
   "source": [
    "w_mod = SYNDy(X,Bv,1e-3)\n",
    "w_mod"
   ]
  },
  {
   "cell_type": "code",
   "execution_count": 6,
   "metadata": {},
   "outputs": [
    {
     "data": {
      "text/plain": [
       "tensor([[-1.0000, -1.0000, -0.8000],\n",
       "        [-1.0000, -1.0000, -0.6000],\n",
       "        [-1.0000, -1.0000, -0.4000],\n",
       "        ...,\n",
       "        [ 1.0000,  1.0000,  0.4000],\n",
       "        [ 1.0000,  1.0000,  0.6000],\n",
       "        [ 1.0000,  1.0000,  0.8000]], requires_grad=True)"
      ]
     },
     "execution_count": 6,
     "metadata": {},
     "output_type": "execute_result"
    }
   ],
   "source": [
    "# physics BV coords \n",
    "PBv_coords = np.array([xv[~bv_mask],yv[~bv_mask],zv[~bv_mask]]).T"
   ]
  },
  {
   "cell_type": "code",
   "execution_count": 34,
   "metadata": {},
   "outputs": [
    {
     "data": {
      "text/plain": [
       "array([[-3.270000e-02, -2.940000e-02,  1.000400e+00],\n",
       "       [-2.692800e-02, -2.421600e-02,  9.997760e-01],\n",
       "       [-2.057200e-02, -1.858400e-02,  9.994240e-01],\n",
       "       [-1.363200e-02, -1.250400e-02,  9.993440e-01],\n",
       "       [-6.108000e-03, -5.976000e-03,  9.995360e-01],\n",
       "       [ 2.000000e-03,  1.000000e-03,  1.000000e+00],\n",
       "       [ 1.069200e-02,  8.424000e-03,  1.000736e+00],\n",
       "       [ 1.996800e-02,  1.629600e-02,  1.001744e+00],\n",
       "       [ 2.982800e-02,  2.461600e-02,  1.003024e+00],\n",
       "       [ 4.027200e-02,  3.338400e-02,  1.004576e+00],\n",
       "       [ 5.130000e-02,  4.260000e-02,  1.006400e+00]])"
      ]
     },
     "execution_count": 34,
     "metadata": {},
     "output_type": "execute_result"
    }
   ],
   "source": [
    "z_axis_mask = (xv==0) * (yv==0)     # mask to select data along z axis \n",
    "B = get_mag_field(2,xv,yv,zv)       # get B at x,y,z mesh \n",
    "B = B.reshape(*xv.shape,3)          # reshape B to have shape as coordinate mesh \n",
    "Bz = B[z_axis_mask]                 # Bz along z axis \n",
    "Bz"
   ]
  },
  {
   "cell_type": "code",
   "execution_count": 33,
   "metadata": {},
   "outputs": [
    {
     "data": {
      "text/plain": [
       "Text(0, 0.5, '$B_y$')"
      ]
     },
     "execution_count": 33,
     "metadata": {},
     "output_type": "execute_result"
    },
    {
     "data": {
      "image/png": "[encoded data removed]",
      "text/plain": [
       "<Figure size 1400x400 with 3 Axes>"
      ]
     },
     "metadata": {},
     "output_type": "display_data"
    }
   ],
   "source": [
    "# plot the magnetic field \n",
    "fig, (ax1, ax2,ax3) = plt.subplots(1, 3, figsize=(14, 4))\n",
    "\n",
    "ax1.plot(z[:,2],Bz_pred[:,2],'r--',label='pred')\n",
    "ax1.plot(z[:,2],Bz[:,2],'b--',label='actaul')\n",
    "ax1.set_xlabel('z')\n",
    "ax1.set_ylabel(r'$B_z$')\n",
    "\n",
    "ax2.plot(z[:,2],Bz_pred[:,0],'r--',label='pred')\n",
    "ax2.plot(z[:,2],Bz[:,0],'b--',label='actaul')\n",
    "ax2.set_xlabel('z')\n",
    "ax2.set_ylabel(r'$B_x$')\n",
    "\n",
    "ax3.plot(z[:,2],Bz_pred[:,1],'r--',label='pred')\n",
    "ax3.plot(z[:,2],Bz[:,1],'b--',label='actaul')\n",
    "ax3.set_xlabel('z')\n",
    "ax3.set_ylabel(r'$B_y$')"
   ]
  },
  {
   "cell_type": "code",
   "execution_count": null,
   "metadata": {},
   "outputs": [],
   "source": []
  }
 ],
 "metadata": {
  "kernelspec": {
   "display_name": "base",
   "language": "python",
   "name": "python3"
  },
  "language_info": {
   "codemirror_mode": {
    "name": "ipython",
    "version": 3
   },
   "file_extension": ".py",
   "mimetype": "text/x-python",
   "name": "python",
   "nbconvert_exporter": "python",
   "pygments_lexer": "ipython3",
   "version": "3.9.13"
  }
 },
 "nbformat": 4,
 "nbformat_minor": 2
}

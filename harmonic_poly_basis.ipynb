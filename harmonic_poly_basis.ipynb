{
 "cells": [
  {
   "cell_type": "code",
   "execution_count": 1,
   "metadata": {},
   "outputs": [],
   "source": [
    "import numpy as np\n",
    "import sympy as sp \n",
    "from sympy import assoc_legendre\n",
    "import matplotlib.pyplot as plt"
   ]
  },
  {
   "cell_type": "markdown",
   "metadata": {},
   "source": [
    "* If we consider the $B_x$ component of the field\n",
    "\n",
    "$\\hspace{1cm} \\begin{bmatrix}\n",
    "    B^{(x)}_1\\\\\n",
    "    B^{(x)}_2\\\\\n",
    "    B^{(x)}_3\\\\\n",
    "    .\\\\\n",
    "    .\\\\\n",
    "    B^{(x)}_m\n",
    "    \\end{bmatrix} = \\begin{bmatrix}\n",
    "    0 & 0 & 1 & y_1 & 0 &-\\frac{x_1}{2} & z_1 & x_1\\\\\n",
    "    0 & 0 & 1 & y_2 & 0 &-\\frac{x_2}{2} & z_2 & x_2\\\\\n",
    "    0 & 0 & 1 & y_3 & 0 &-\\frac{x_3}{2} & z_3 & x_3\\\\\n",
    "    . & . & . & . & . & . & . & .\\\\\n",
    "    . & . & . & . & . & . & . & .\\\\\n",
    "    0 & 0 & 1 & y_m & 0 &-\\frac{x_m}{2} & z_m & x_m\\\\\n",
    "    \\end{bmatrix} \\begin{bmatrix}\n",
    "    a_{0,-1}\\\\\n",
    "    a_{0,0}\\\\\n",
    "    a_{0,1}\\\\\n",
    "    .\\\\\n",
    "    a_{1,1}\\\\\n",
    "    a_{1,2}\n",
    "    \\end{bmatrix} \n",
    "    $ "
   ]
  },
  {
   "cell_type": "markdown",
   "metadata": {},
   "source": [
    "* If we consider the $B_y$ component of the field\n",
    "\n",
    "$\\hspace{1cm} \\begin{bmatrix}\n",
    "    B^{(y)}_1\\\\\n",
    "    B^{(y)}_2\\\\\n",
    "    B^{(y)}_3\\\\\n",
    "    .\\\\\n",
    "    .\\\\\n",
    "    B^{(y)}_m\n",
    "    \\end{bmatrix} = \\begin{bmatrix}\n",
    "    1 & 0 & 0 & x_1 & z_1 &-\\frac{y_1}{2} & 0 & y_1\\\\\n",
    "    1 & 0 & 0 & x_2 & z_2 &-\\frac{y_2}{2} & 0 & y_2\\\\\n",
    "    1 & 0 & 0 & x_3 & z_3 &-\\frac{y_3}{2} & 0 & y_3\\\\\n",
    "    . & . & . & . & . & . & . & .\\\\\n",
    "    . & . & . & . & . & . & . & .\\\\\n",
    "    1 & 0 & 0 & x_m & z_m &-\\frac{y_m}{2} & 0 & y_m\\\\\n",
    "    \\end{bmatrix} \\begin{bmatrix}\n",
    "    a_{0,-1}\\\\\n",
    "    a_{0,0}\\\\\n",
    "    a_{0,1}\\\\\n",
    "    .\\\\\n",
    "    a_{1,1}\\\\\n",
    "    a_{1,2}\n",
    "    \\end{bmatrix} \n",
    "    $ "
   ]
  },
  {
   "cell_type": "markdown",
   "metadata": {},
   "source": [
    "* If we consider the $B_z$ component of the field\n",
    "\n",
    "$\\hspace{1cm} \\begin{bmatrix}\n",
    "    B^{(z)}_1\\\\\n",
    "    B^{(z)}_2\\\\\n",
    "    B^{(z)}_3\\\\\n",
    "    .\\\\\n",
    "    .\\\\\n",
    "    B^{(z)}_m\n",
    "    \\end{bmatrix} = \\begin{bmatrix}\n",
    "    0 & 1 & 0 & 0 & y_1 & z_1 & x_1 & 0\\\\\n",
    "    0 & 1 & 0 & 0 & y_2 & z_2 & x_2 & 0\\\\\n",
    "    0 & 1 & 0 & 0 & y_3 & z_3 & x_3 & 0\\\\\n",
    "    . & . & . & . & . & . & . & .\\\\\n",
    "    . & . & . & . & . & . & . & .\\\\\n",
    "    0 & 1 & 0 & 0 & y_m & z_m & x_m & 0\\\\\n",
    "    \\end{bmatrix} \\begin{bmatrix}\n",
    "    a_{0,-1}\\\\\n",
    "    a_{0,0}\\\\\n",
    "    a_{0,1}\\\\\n",
    "    .\\\\\n",
    "    a_{1,1}\\\\\n",
    "    a_{1,2}\n",
    "    \\end{bmatrix} \n",
    "    $ "
   ]
  },
  {
   "cell_type": "code",
   "execution_count": null,
   "metadata": {},
   "outputs": [],
   "source": []
  }
 ],
 "metadata": {
  "kernelspec": {
   "display_name": "base",
   "language": "python",
   "name": "python3"
  },
  "language_info": {
   "codemirror_mode": {
    "name": "ipython",
    "version": 3
   },
   "file_extension": ".py",
   "mimetype": "text/x-python",
   "name": "python",
   "nbconvert_exporter": "python",
   "pygments_lexer": "ipython3",
   "version": "3.9.13"
  }
 },
 "nbformat": 4,
 "nbformat_minor": 2
}

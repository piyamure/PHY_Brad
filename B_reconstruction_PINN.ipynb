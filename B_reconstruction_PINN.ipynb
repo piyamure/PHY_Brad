{
 "cells": [
  {
   "cell_type": "code",
   "execution_count": 1,
   "metadata": {},
   "outputs": [],
   "source": [
    "import numpy as np\n",
    "import matplotlib.pyplot as plt\n",
    "from generate_magnetic_field import get_mag_field\n",
    "import torch.nn as nn\n",
    "import torch"
   ]
  },
  {
   "cell_type": "code",
   "execution_count": 2,
   "metadata": {},
   "outputs": [],
   "source": [
    "# genrate coordinate mesh \n",
    "x_data_points = 11\n",
    "x_array = np.linspace(-1,1,x_data_points)\n",
    "x_array\n",
    "xv,yv,zv = np.meshgrid(x_array,x_array,x_array,indexing='ij')"
   ]
  },
  {
   "cell_type": "code",
   "execution_count": 3,
   "metadata": {},
   "outputs": [],
   "source": [
    "# create BV mask \n",
    "xyv_mask    = ((xv==-1) + (xv==0) + (xv==1)) * ((yv==-1) + (yv==0) + (yv==1))\n",
    "zv_mask     = (zv==-1) + (zv ==1) + (zv==0)\n",
    "center_mask = (xv==0)*(yv==0)*(zv==0)\n",
    "bv_mask     = (xyv_mask) * (zv_mask)* (~center_mask)"
   ]
  },
  {
   "cell_type": "code",
   "execution_count": 4,
   "metadata": {},
   "outputs": [],
   "source": [
    "# calculate B(B_x,B_y,B_z) field at x,y,z meshgrid \n",
    "B = get_mag_field(2,xv,yv,zv)       # get B at x,y,z mesh \n",
    "B = B.reshape(*xv.shape,3)          # reshape B to have shape as coordinate mesh \n",
    "Bv = B[bv_mask]                     # get the BV (26 values)\n",
    "B[~bv_mask] = 0                     # set phyics BV =0 "
   ]
  },
  {
   "cell_type": "code",
   "execution_count": 5,
   "metadata": {},
   "outputs": [
    {
     "data": {
      "text/plain": [
       "array([[-4.3300e-02, -2.3550e-02,  9.5380e-01],\n",
       "       [-2.5400e-02,  1.2450e-02,  9.2760e-01],\n",
       "       [ 7.1000e-03,  5.9650e-02,  9.0820e-01],\n",
       "       [-5.0175e-02, -1.9900e-02,  9.7690e-01],\n",
       "       [-2.3275e-02,  1.5000e-03,  9.6190e-01],\n",
       "       [ 1.8225e-02,  3.4100e-02,  9.5370e-01],\n",
       "       [-6.4100e-02, -2.9250e-02,  9.8540e-01],\n",
       "       [-2.8200e-02, -2.2450e-02,  9.8160e-01],\n",
       "       [ 2.2300e-02, -4.4500e-03,  9.8460e-01],\n",
       "       [-2.7625e-02, -2.6000e-02,  9.6830e-01],\n",
       "       [-1.9250e-03,  1.9000e-02,  9.5670e-01],\n",
       "       [ 3.8375e-02,  7.5200e-02,  9.5190e-01],\n",
       "       [-3.2700e-02, -2.9400e-02,  1.0004e+00],\n",
       "       [ 5.1300e-02,  4.2600e-02,  1.0064e+00],\n",
       "       [-4.4825e-02, -4.5800e-02,  1.0179e+00],\n",
       "       [-1.1250e-03, -3.0000e-02,  1.0287e+00],\n",
       "       [ 5.7175e-02, -3.0000e-03,  1.0463e+00],\n",
       "       [-1.9500e-02, -2.6650e-02,  9.9060e-01],\n",
       "       [ 1.4000e-02,  2.7350e-02,  9.9360e-01],\n",
       "       [ 6.2100e-02,  9.2550e-02,  1.0034e+00],\n",
       "       [-2.2775e-02, -3.7100e-02,  1.0317e+00],\n",
       "       [ 1.9725e-02,  2.3000e-03,  1.0459e+00],\n",
       "       [ 7.6825e-02,  5.2900e-02,  1.0669e+00],\n",
       "       [-3.3100e-02, -6.0550e-02,  1.0582e+00],\n",
       "       [ 1.8400e-02, -3.5750e-02,  1.0836e+00],\n",
       "       [ 8.4500e-02,  2.5000e-04,  1.1158e+00]])"
      ]
     },
     "execution_count": 5,
     "metadata": {},
     "output_type": "execute_result"
    }
   ],
   "source": [
    "Bv"
   ]
  },
  {
   "cell_type": "code",
   "execution_count": 6,
   "metadata": {},
   "outputs": [],
   "source": [
    "# normalized the data, but note that we are dividing all the columns by a constant value \n",
    "# (so that they will satisfy the Maxwell's equations) \n",
    "def normalized_data(data):\n",
    "    data_mean = np.mean(data,axis=0)\n",
    "    data_std  = np.std(data,axis=0)\n",
    "    data_mag  = data_std.sum()\n",
    "    data_norm = (data -data_mean)/data_mag\n",
    "    return data_mean,data_mag,data_norm\n",
    "    "
   ]
  },
  {
   "cell_type": "code",
   "execution_count": 7,
   "metadata": {},
   "outputs": [
    {
     "data": {
      "text/plain": [
       "array([[-0.35596766, -0.19291404, -0.36303987],\n",
       "       [-0.21530936,  0.08997417, -0.56891962],\n",
       "       [ 0.04007583,  0.46087204, -0.72136493],\n",
       "       [-0.40999145, -0.16423232, -0.18151993],\n",
       "       [-0.1986111 ,  0.003929  , -0.29939002],\n",
       "       [ 0.12749614,  0.26009999, -0.36382567],\n",
       "       [-0.51941418, -0.23770467, -0.11472688],\n",
       "       [-0.23731177, -0.18427023, -0.14458731],\n",
       "       [ 0.15951752, -0.04282613, -0.12101329],\n",
       "       [-0.23279342, -0.21216615, -0.24909878],\n",
       "       [-0.03084267,  0.1414441 , -0.34025165],\n",
       "       [ 0.28583496,  0.58306403, -0.37797008],\n",
       "       [-0.2726728 , -0.23888337,  0.0031432 ],\n",
       "       [ 0.38739968,  0.32689304,  0.05029124],\n",
       "       [-0.36795112, -0.36775467,  0.1406583 ],\n",
       "       [-0.02455627, -0.24359818,  0.22552476],\n",
       "       [ 0.43356547, -0.03143202,  0.36382567],\n",
       "       [-0.16894712, -0.21727386, -0.07386525],\n",
       "       [ 0.09429607,  0.20705845, -0.05029124],\n",
       "       [ 0.47226614,  0.71940043,  0.02671722],\n",
       "       [-0.19468209, -0.29939002,  0.24909878],\n",
       "       [ 0.13928315,  0.01021541,  0.36068246],\n",
       "       [ 0.58797528,  0.4078305 ,  0.52570058],\n",
       "       [-0.275816  , -0.48366025,  0.45733593],\n",
       "       [ 0.12887129, -0.28878171,  0.65692928],\n",
       "       [ 0.64828547, -0.0058935 ,  0.90995706]])"
      ]
     },
     "execution_count": 7,
     "metadata": {},
     "output_type": "execute_result"
    }
   ],
   "source": [
    "Bv_mean,Bv_mag,Bv_norm = normalized_data(Bv)\n",
    "Bv_norm                                             # normalized BVs "
   ]
  },
  {
   "cell_type": "code",
   "execution_count": 8,
   "metadata": {},
   "outputs": [],
   "source": [
    "# function to scale the field back to original scale \n",
    "def un_normalied_data(norm_data,norm_data_mag,norm_data_mean):\n",
    "    return (norm_data*norm_data_mag + norm_data_mean)"
   ]
  },
  {
   "cell_type": "code",
   "execution_count": 9,
   "metadata": {},
   "outputs": [],
   "source": [
    "Bv_back = un_normalied_data(Bv_norm,Bv_mag,Bv_mean)"
   ]
  },
  {
   "cell_type": "code",
   "execution_count": 10,
   "metadata": {},
   "outputs": [
    {
     "data": {
      "text/plain": [
       "array([[-4.3300e-02, -2.3550e-02,  9.5380e-01],\n",
       "       [-2.5400e-02,  1.2450e-02,  9.2760e-01],\n",
       "       [ 7.1000e-03,  5.9650e-02,  9.0820e-01],\n",
       "       [-5.0175e-02, -1.9900e-02,  9.7690e-01],\n",
       "       [-2.3275e-02,  1.5000e-03,  9.6190e-01],\n",
       "       [ 1.8225e-02,  3.4100e-02,  9.5370e-01],\n",
       "       [-6.4100e-02, -2.9250e-02,  9.8540e-01],\n",
       "       [-2.8200e-02, -2.2450e-02,  9.8160e-01],\n",
       "       [ 2.2300e-02, -4.4500e-03,  9.8460e-01],\n",
       "       [-2.7625e-02, -2.6000e-02,  9.6830e-01],\n",
       "       [-1.9250e-03,  1.9000e-02,  9.5670e-01],\n",
       "       [ 3.8375e-02,  7.5200e-02,  9.5190e-01],\n",
       "       [-3.2700e-02, -2.9400e-02,  1.0004e+00],\n",
       "       [ 5.1300e-02,  4.2600e-02,  1.0064e+00],\n",
       "       [-4.4825e-02, -4.5800e-02,  1.0179e+00],\n",
       "       [-1.1250e-03, -3.0000e-02,  1.0287e+00],\n",
       "       [ 5.7175e-02, -3.0000e-03,  1.0463e+00],\n",
       "       [-1.9500e-02, -2.6650e-02,  9.9060e-01],\n",
       "       [ 1.4000e-02,  2.7350e-02,  9.9360e-01],\n",
       "       [ 6.2100e-02,  9.2550e-02,  1.0034e+00],\n",
       "       [-2.2775e-02, -3.7100e-02,  1.0317e+00],\n",
       "       [ 1.9725e-02,  2.3000e-03,  1.0459e+00],\n",
       "       [ 7.6825e-02,  5.2900e-02,  1.0669e+00],\n",
       "       [-3.3100e-02, -6.0550e-02,  1.0582e+00],\n",
       "       [ 1.8400e-02, -3.5750e-02,  1.0836e+00],\n",
       "       [ 8.4500e-02,  2.5000e-04,  1.1158e+00]])"
      ]
     },
     "execution_count": 10,
     "metadata": {},
     "output_type": "execute_result"
    }
   ],
   "source": [
    "Bv_back"
   ]
  },
  {
   "cell_type": "code",
   "execution_count": 11,
   "metadata": {},
   "outputs": [],
   "source": [
    "# bv coordinates \n",
    "Bv_coords = np.array([xv[bv_mask],yv[bv_mask],zv[bv_mask]]).T\n",
    "Bv_coords = torch.from_numpy(Bv_coords).type(torch.float32)      # convert to torch.tensor"
   ]
  },
  {
   "cell_type": "code",
   "execution_count": 12,
   "metadata": {},
   "outputs": [
    {
     "data": {
      "text/plain": [
       "tensor([[-1.0000, -1.0000, -0.8000],\n",
       "        [-1.0000, -1.0000, -0.6000],\n",
       "        [-1.0000, -1.0000, -0.4000],\n",
       "        ...,\n",
       "        [ 1.0000,  1.0000,  0.4000],\n",
       "        [ 1.0000,  1.0000,  0.6000],\n",
       "        [ 1.0000,  1.0000,  0.8000]], requires_grad=True)"
      ]
     },
     "execution_count": 12,
     "metadata": {},
     "output_type": "execute_result"
    }
   ],
   "source": [
    "# physics BV coords \n",
    "PBv_coords = np.array([xv[~bv_mask],yv[~bv_mask],zv[~bv_mask]]).T\n",
    "PBv_coords = torch.from_numpy(PBv_coords).type(torch.float32).requires_grad_(True)     \n",
    "PBv_coords"
   ]
  },
  {
   "cell_type": "code",
   "execution_count": 13,
   "metadata": {},
   "outputs": [],
   "source": [
    "# Bvs (magentic field at boundaries)-> note we are using normalized values \n",
    "Bv = torch.from_numpy(Bv_norm).type(torch.float32)"
   ]
  },
  {
   "cell_type": "code",
   "execution_count": 14,
   "metadata": {},
   "outputs": [],
   "source": [
    "class FFNN(nn.Module):\n",
    "    def __init__(self,input_features,output_features,hidden_feature):\n",
    "        super().__init__()\n",
    "        self.layer_1 = nn.Linear(input_features,hidden_feature)\n",
    "        self.layer_2 = nn.Linear(hidden_feature,hidden_feature)\n",
    "        self.layer_3 = nn.Linear(hidden_feature,hidden_feature)\n",
    "        self.layer_4 = nn.Linear(hidden_feature,output_features)\n",
    "        self.activation = nn.Tanh()\n",
    "        \n",
    "    def forward(self,x):\n",
    "        x = self.activation(self.layer_1(x))\n",
    "        x = self.activation(self.layer_2(x))\n",
    "        x = self.activation(self.layer_3(x))\n",
    "        x = self.layer_4(x)\n",
    "        return x \n",
    "        "
   ]
  },
  {
   "cell_type": "code",
   "execution_count": 15,
   "metadata": {},
   "outputs": [],
   "source": [
    "model = FFNN(3,3,12)\n",
    "loss_fn = nn.MSELoss()\n",
    "optimizer = torch.optim.Adam(model.parameters(),lr=0.001)"
   ]
  },
  {
   "cell_type": "code",
   "execution_count": 16,
   "metadata": {},
   "outputs": [
    {
     "name": "stdout",
     "output_type": "stream",
     "text": [
      "epoch:0 | train loss:0.136\n",
      "epoch:100 | train loss:0.011\n",
      "epoch:200 | train loss:0.007\n"
     ]
    },
    {
     "name": "stdout",
     "output_type": "stream",
     "text": [
      "epoch:300 | train loss:0.004\n",
      "epoch:400 | train loss:0.002\n",
      "epoch:500 | train loss:0.001\n",
      "epoch:600 | train loss:0.001\n",
      "epoch:700 | train loss:0.001\n",
      "epoch:800 | train loss:0.001\n",
      "epoch:900 | train loss:0.000\n"
     ]
    }
   ],
   "source": [
    "epochs = 1000\n",
    "\n",
    "for epoch in range(epochs):\n",
    "    model.train()\n",
    "    B_pred = model(Bv_coords) # prediction from FFNN \n",
    "    loss = loss_fn(B_pred,Bv) # data loss, using the BVs \n",
    "    optimizer.zero_grad()\n",
    "    loss.backward()\n",
    "    optimizer.step()\n",
    "    if epoch%100 ==0:\n",
    "        print(f'epoch:{epoch} | train loss:{loss:.3f}')\n",
    "    "
   ]
  },
  {
   "cell_type": "code",
   "execution_count": 17,
   "metadata": {},
   "outputs": [],
   "source": [
    "# test the PINN model \n",
    "\n",
    "z = torch.from_numpy(np.array([[0,0,i] for i in np.linspace(-1,1,11)])).type(torch.float32)\n",
    "Bz_pred = model(z)\n",
    "Bz_pred = Bz_pred.detach().numpy()\n",
    "Bz_pred = un_normalied_data(Bz_pred,Bv_mag,Bv_mean) # go back to the original scale \n",
    "\n",
    "z_axis_mask = (xv==0) * (yv==0)     # mask to select data along z axis \n",
    "B = get_mag_field(2,xv,yv,zv)       # get B at x,y,z mesh \n",
    "B = B.reshape(*xv.shape,3)          # reshape B to have shape as coordinate mesh \n",
    "Bz = B[z_axis_mask]                 # Bz along z axis "
   ]
  },
  {
   "cell_type": "code",
   "execution_count": 18,
   "metadata": {},
   "outputs": [
    {
     "data": {
      "text/plain": [
       "Text(0, 0.5, '$B_y$')"
      ]
     },
     "execution_count": 18,
     "metadata": {},
     "output_type": "execute_result"
    },
    {
     "data": {
      "image/png": "[encoded data removed]",
      "text/plain": [
       "<Figure size 1400x400 with 3 Axes>"
      ]
     },
     "metadata": {},
     "output_type": "display_data"
    }
   ],
   "source": [
    "# plot the magnetic field \n",
    "fig, (ax1, ax2,ax3) = plt.subplots(1, 3, figsize=(14, 4))\n",
    "\n",
    "ax1.plot(z[:,2],Bz_pred[:,2],'r--',label='pred')\n",
    "ax1.plot(z[:,2],Bz[:,2],'b--',label='actaul')\n",
    "ax1.set_xlabel('z')\n",
    "ax1.set_ylabel(r'$B_z$')\n",
    "\n",
    "ax2.plot(z[:,2],Bz_pred[:,0],'r--',label='pred')\n",
    "ax2.plot(z[:,2],Bz[:,0],'b--',label='actaul')\n",
    "ax2.set_xlabel('z')\n",
    "ax2.set_ylabel(r'$B_x$')\n",
    "\n",
    "ax3.plot(z[:,2],Bz_pred[:,1],'r--',label='pred')\n",
    "ax3.plot(z[:,2],Bz[:,1],'b--',label='actaul')\n",
    "ax3.set_xlabel('z')\n",
    "ax3.set_ylabel(r'$B_y$')"
   ]
  },
  {
   "cell_type": "code",
   "execution_count": 19,
   "metadata": {},
   "outputs": [
    {
     "data": {
      "text/plain": [
       "tensor([[-0.3185, -0.1281, -0.4088],\n",
       "        [-0.2938, -0.0811, -0.4444],\n",
       "        [-0.2659, -0.0289, -0.4820],\n",
       "        ...,\n",
       "        [ 0.3575, -0.1877,  0.7722],\n",
       "        [ 0.4613, -0.1241,  0.8144],\n",
       "        [ 0.5592, -0.0575,  0.8493]], grad_fn=<AddmmBackward0>)"
      ]
     },
     "execution_count": 19,
     "metadata": {},
     "output_type": "execute_result"
    }
   ],
   "source": [
    "Bhp = model(PBv_coords)\n",
    "Bhp"
   ]
  },
  {
   "cell_type": "code",
   "execution_count": 20,
   "metadata": {},
   "outputs": [
    {
     "data": {
      "text/plain": [
       "torch.Size([1305, 3])"
      ]
     },
     "execution_count": 20,
     "metadata": {},
     "output_type": "execute_result"
    }
   ],
   "source": [
    "torch.autograd.grad(Bhp,PBv_coords,torch.ones_like(Bhp))[0].shape"
   ]
  },
  {
   "cell_type": "markdown",
   "metadata": {},
   "source": [
    "### Why we didn't get [batch_size,output_dim,input_dim]?\n",
    "\n",
    "* Jacobian matrix find the gradients and it is normally has shape of [output_dim,input_dim]\n",
    "\n",
    "* But when we called **torch.autograd.grad** we get [batch_size,input_dim], this is because the grad function sums the gradients along the \"output dim\"\n",
    "\n",
    "* To get the full Jacobian matrix we can use **torch.autograd.functional.jacobian()**, this returns [batch_size,output_dim,batch_size,input_dim]"
   ]
  },
  {
   "cell_type": "code",
   "execution_count": 21,
   "metadata": {},
   "outputs": [],
   "source": [
    "#using torch.autograd.functional.jacobian\n",
    "B_jacob = torch.autograd.functional.jacobian(lambda t:model(t),PBv_coords) # (batch_size, output_dim, batch_size, input_dim)\n",
    "#the off-diagonal elements of 0th and 2nd dimension are all zero. So we remove them\n",
    "B_grad  = torch.diagonal(B_jacob,offset=0,dim1=0,dim2=2)                   # (output_dim, input_dim, batch_size)\n",
    "B_grad  = B_grad.permute(2,0,1)                                            # (batch_size, output_dim, input_dim)    "
   ]
  },
  {
   "cell_type": "code",
   "execution_count": 22,
   "metadata": {},
   "outputs": [
    {
     "data": {
      "text/plain": [
       "tensor([[[ 0.0826, -0.0408,  0.1169],\n",
       "         [-0.0287, -0.0105,  0.2228],\n",
       "         [ 0.1419,  0.2640, -0.1724]],\n",
       "\n",
       "        [[ 0.0863, -0.0296,  0.1308],\n",
       "         [-0.0185, -0.0097,  0.2481],\n",
       "         [ 0.1501,  0.2700, -0.1835]],\n",
       "\n",
       "        [[ 0.0900, -0.0160,  0.1495],\n",
       "         [-0.0059, -0.0133,  0.2737],\n",
       "         [ 0.1589,  0.2766, -0.1923]],\n",
       "\n",
       "        ...,\n",
       "\n",
       "        [[ 0.2244, -0.0143,  0.5268],\n",
       "         [ 0.0534, -0.3167,  0.3049],\n",
       "         [ 0.4412,  0.2255,  0.2266]],\n",
       "\n",
       "        [[ 0.2170, -0.0163,  0.5074],\n",
       "         [ 0.0715, -0.3390,  0.3281],\n",
       "         [ 0.4401,  0.2242,  0.1937]],\n",
       "\n",
       "        [[ 0.2046, -0.0183,  0.4684],\n",
       "         [ 0.0828, -0.3559,  0.3349],\n",
       "         [ 0.4315,  0.2212,  0.1537]]])"
      ]
     },
     "execution_count": 22,
     "metadata": {},
     "output_type": "execute_result"
    }
   ],
   "source": [
    "B_grad"
   ]
  },
  {
   "cell_type": "code",
   "execution_count": 23,
   "metadata": {},
   "outputs": [],
   "source": [
    "# implement del.B = 0 \n",
    "del_dot_B = torch.diagonal(B_grad,offset=0,dim1=1,dim2=2).sum(dim=1)"
   ]
  },
  {
   "cell_type": "code",
   "execution_count": 24,
   "metadata": {},
   "outputs": [
    {
     "data": {
      "text/plain": [
       "tensor([0.6760, 0.7508, 0.8369,  ..., 1.5376, 1.5549, 1.5206])"
      ]
     },
     "execution_count": 24,
     "metadata": {},
     "output_type": "execute_result"
    }
   ],
   "source": [
    "# implement del.cross.B \n",
    "del_cross_B = B_grad[:,0,1] + B_grad[:,1,0] + B_grad[:,0,2] + B_grad[:,2,0] + B_grad[:,1,2] + B_grad[:,2,1]\n",
    "del_cross_B"
   ]
  },
  {
   "cell_type": "code",
   "execution_count": 25,
   "metadata": {},
   "outputs": [
    {
     "name": "stdout",
     "output_type": "stream",
     "text": [
      "epoch:0 | train loss:0.11084\n",
      "epoch:50 | train loss:0.02789\n",
      "epoch:100 | train loss:0.01806\n",
      "epoch:150 | train loss:0.01555\n",
      "epoch:200 | train loss:0.01362\n",
      "epoch:250 | train loss:0.01213\n",
      "epoch:300 | train loss:0.01120\n",
      "epoch:350 | train loss:0.01064\n",
      "epoch:400 | train loss:0.01021\n",
      "epoch:450 | train loss:0.00986\n"
     ]
    }
   ],
   "source": [
    "# physics infromed NN \n",
    "\n",
    "phy_model = FFNN(3,3,12)\n",
    "loss_fn = nn.MSELoss()\n",
    "optimizer = torch.optim.Adam(phy_model.parameters(),lr=0.001)\n",
    "phy_loss_strength = 1e-2\n",
    "\n",
    "epochs = 500\n",
    "\n",
    "for epoch in range(epochs):\n",
    "    phy_model.train()\n",
    "    # BCs \n",
    "    B_pred = phy_model(Bv_coords) # prediction from FFNN\n",
    "    bv_loss = loss_fn(B_pred,Bv) # data loss, using the BVs, note: here Bvs are normalized values \n",
    "    \n",
    "    # use physics BCs \n",
    "    B_jacob = torch.autograd.functional.jacobian(lambda t:phy_model(t),PBv_coords)\n",
    "    B_grad  = torch.diagonal(B_jacob,offset=0,dim1=0,dim2=2)                   \n",
    "    B_grad  = B_grad.permute(2,0,1)\n",
    "    \n",
    "    # implement del.B = 0 \n",
    "    del_dot_B = torch.diagonal(B_grad,offset=0,dim1=1,dim2=2).sum(dim=1)\n",
    "    # implement del.cross.B(Note: each x,y and z components need to be zero -seperatly)\n",
    "    del_cross_B_x = B_grad[:,0,1] + B_grad[:,1,0] \n",
    "    del_cross_B_y = B_grad[:,0,2] + B_grad[:,2,0] \n",
    "    del_cross_B_z = B_grad[:,1,2] + B_grad[:,2,1]\n",
    "    # physics loss \n",
    "    phy_loss = phy_loss_strength * (torch.mean(del_dot_B**2) + torch.mean(del_cross_B_x**2) +\\\n",
    "                        torch.mean(del_cross_B_y**2) + torch.mean(del_cross_B_z**2))\n",
    "    # total loss \n",
    "    loss = bv_loss + phy_loss\n",
    "    \n",
    "    optimizer.zero_grad()\n",
    "    loss.backward()\n",
    "    optimizer.step()\n",
    "    if epoch%50 ==0:\n",
    "        print(f'epoch:{epoch} | train loss:{loss:.5f}')\n",
    "    "
   ]
  },
  {
   "cell_type": "code",
   "execution_count": 26,
   "metadata": {},
   "outputs": [],
   "source": [
    "# test the PINN model \n",
    "\n",
    "z = torch.from_numpy(np.array([[0,0,i] for i in np.linspace(-1,1,11)])).type(torch.float32)\n",
    "Bz_pred = phy_model(z)\n",
    "Bz_pred = Bz_pred.detach().numpy()\n",
    "Bz_pred = un_normalied_data(Bz_pred,Bv_mag,Bv_mean) # go back to the original scale \n"
   ]
  },
  {
   "cell_type": "code",
   "execution_count": 27,
   "metadata": {},
   "outputs": [
    {
     "data": {
      "text/plain": [
       "array([[-3.270000e-02, -2.940000e-02,  1.000400e+00],\n",
       "       [-2.692800e-02, -2.421600e-02,  9.997760e-01],\n",
       "       [-2.057200e-02, -1.858400e-02,  9.994240e-01],\n",
       "       [-1.363200e-02, -1.250400e-02,  9.993440e-01],\n",
       "       [-6.108000e-03, -5.976000e-03,  9.995360e-01],\n",
       "       [ 2.000000e-03,  1.000000e-03,  1.000000e+00],\n",
       "       [ 1.069200e-02,  8.424000e-03,  1.000736e+00],\n",
       "       [ 1.996800e-02,  1.629600e-02,  1.001744e+00],\n",
       "       [ 2.982800e-02,  2.461600e-02,  1.003024e+00],\n",
       "       [ 4.027200e-02,  3.338400e-02,  1.004576e+00],\n",
       "       [ 5.130000e-02,  4.260000e-02,  1.006400e+00]])"
      ]
     },
     "execution_count": 27,
     "metadata": {},
     "output_type": "execute_result"
    }
   ],
   "source": [
    "z_axis_mask = (xv==0) * (yv==0)     # mask to select data along z axis \n",
    "B = get_mag_field(2,xv,yv,zv)       # get B at x,y,z mesh \n",
    "B = B.reshape(*xv.shape,3)          # reshape B to have shape as coordinate mesh \n",
    "Bz = B[z_axis_mask]                 # Bz along z axis \n",
    "Bz"
   ]
  },
  {
   "cell_type": "code",
   "execution_count": 28,
   "metadata": {},
   "outputs": [
    {
     "data": {
      "text/plain": [
       "Text(0, 0.5, '$B_y$')"
      ]
     },
     "execution_count": 28,
     "metadata": {},
     "output_type": "execute_result"
    },
    {
     "data": {
      "image/png": "[encoded data removed]",
      "text/plain": [
       "<Figure size 1400x400 with 3 Axes>"
      ]
     },
     "metadata": {},
     "output_type": "display_data"
    }
   ],
   "source": [
    "# plot the magnetic field \n",
    "fig, (ax1, ax2,ax3) = plt.subplots(1, 3, figsize=(14, 4))\n",
    "\n",
    "ax1.plot(z[:,2],Bz_pred[:,2],'r--',label='pred')\n",
    "ax1.plot(z[:,2],Bz[:,2],'b--',label='actaul')\n",
    "ax1.set_xlabel('z')\n",
    "ax1.set_ylabel(r'$B_z$')\n",
    "\n",
    "ax2.plot(z[:,2],Bz_pred[:,0],'r--',label='pred')\n",
    "ax2.plot(z[:,2],Bz[:,0],'b--',label='actaul')\n",
    "ax2.set_xlabel('z')\n",
    "ax2.set_ylabel(r'$B_x$')\n",
    "\n",
    "ax3.plot(z[:,2],Bz_pred[:,1],'r--',label='pred')\n",
    "ax3.plot(z[:,2],Bz[:,1],'b--',label='actaul')\n",
    "ax3.set_xlabel('z')\n",
    "ax3.set_ylabel(r'$B_y$')"
   ]
  },
  {
   "cell_type": "code",
   "execution_count": null,
   "metadata": {},
   "outputs": [],
   "source": []
  }
 ],
 "metadata": {
  "kernelspec": {
   "display_name": "base",
   "language": "python",
   "name": "python3"
  },
  "language_info": {
   "codemirror_mode": {
    "name": "ipython",
    "version": 3
   },
   "file_extension": ".py",
   "mimetype": "text/x-python",
   "name": "python",
   "nbconvert_exporter": "python",
   "pygments_lexer": "ipython3",
   "version": "3.9.13"
  }
 },
 "nbformat": 4,
 "nbformat_minor": 2
}

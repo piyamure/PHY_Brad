{
 "cells": [
  {
   "cell_type": "code",
   "execution_count": 39,
   "metadata": {},
   "outputs": [],
   "source": [
    "import numpy as np\n",
    "import matplotlib.pyplot as plt\n",
    "from generate_magnetic_field import get_mag_field\n",
    "import torch.nn as nn\n",
    "import torch"
   ]
  },
  {
   "cell_type": "code",
   "execution_count": 40,
   "metadata": {},
   "outputs": [],
   "source": [
    "# genrate coordinate mesh \n",
    "x_data_points = 11\n",
    "x_array = np.linspace(-1,1,x_data_points)\n",
    "x_array\n",
    "xv,yv,zv = np.meshgrid(x_array,x_array,x_array,indexing='ij')"
   ]
  },
  {
   "cell_type": "code",
   "execution_count": 41,
   "metadata": {},
   "outputs": [],
   "source": [
    "# create BV mask \n",
    "xyv_mask    = ((xv==-1) + (xv==0) + (xv==1)) * ((yv==-1) + (yv==0) + (yv==1))\n",
    "zv_mask     = (zv==-1) + (zv ==1) + (zv==0)\n",
    "center_mask = (xv==0)*(yv==0)*(zv==0)\n",
    "bv_mask     = (xyv_mask) * (zv_mask)* (~center_mask)"
   ]
  },
  {
   "cell_type": "code",
   "execution_count": 42,
   "metadata": {},
   "outputs": [],
   "source": [
    "# calculate B(B_x,B_y,B_z) field at x,y,z meshgrid \n",
    "B = get_mag_field(2,xv,yv,zv)       # get B at x,y,z mesh \n",
    "B = B.reshape(*xv.shape,3)          # reshape B to have shape as coordinate mesh \n",
    "Bv = B[bv_mask]                     # get the BV (26 values)\n",
    "B[~bv_mask] = 0                     # set phyics BV =0 "
   ]
  },
  {
   "cell_type": "code",
   "execution_count": 43,
   "metadata": {},
   "outputs": [],
   "source": [
    "# bv coordinates \n",
    "Bv_coords = np.array([xv[bv_mask],yv[bv_mask],zv[bv_mask]]).T\n",
    "Bv_coords = torch.from_numpy(Bv_coords).type(torch.float32)      # convert to torch.tensor"
   ]
  },
  {
   "cell_type": "code",
   "execution_count": 44,
   "metadata": {},
   "outputs": [
    {
     "data": {
      "text/plain": [
       "tensor([[-1.0000, -1.0000, -0.8000],\n",
       "        [-1.0000, -1.0000, -0.6000],\n",
       "        [-1.0000, -1.0000, -0.4000],\n",
       "        ...,\n",
       "        [ 1.0000,  1.0000,  0.4000],\n",
       "        [ 1.0000,  1.0000,  0.6000],\n",
       "        [ 1.0000,  1.0000,  0.8000]], requires_grad=True)"
      ]
     },
     "execution_count": 44,
     "metadata": {},
     "output_type": "execute_result"
    }
   ],
   "source": [
    "# physics BV coords \n",
    "PBv_coords = np.array([xv[~bv_mask],yv[~bv_mask],zv[~bv_mask]]).T\n",
    "PBv_coords = torch.from_numpy(PBv_coords).type(torch.float32).requires_grad_(True)     # convert to torch.tensor\n",
    "PBv_coords"
   ]
  },
  {
   "cell_type": "code",
   "execution_count": 45,
   "metadata": {},
   "outputs": [],
   "source": [
    "# Bvs (magentic field at boundaries)\n",
    "Bv = torch.from_numpy(Bv).type(torch.float32)"
   ]
  },
  {
   "cell_type": "code",
   "execution_count": 46,
   "metadata": {},
   "outputs": [
    {
     "data": {
      "text/plain": [
       "tensor([[-4.3300e-02, -2.3550e-02,  9.5380e-01],\n",
       "        [-2.5400e-02,  1.2450e-02,  9.2760e-01],\n",
       "        [ 7.1000e-03,  5.9650e-02,  9.0820e-01],\n",
       "        [-5.0175e-02, -1.9900e-02,  9.7690e-01],\n",
       "        [-2.3275e-02,  1.5000e-03,  9.6190e-01],\n",
       "        [ 1.8225e-02,  3.4100e-02,  9.5370e-01],\n",
       "        [-6.4100e-02, -2.9250e-02,  9.8540e-01],\n",
       "        [-2.8200e-02, -2.2450e-02,  9.8160e-01],\n",
       "        [ 2.2300e-02, -4.4500e-03,  9.8460e-01],\n",
       "        [-2.7625e-02, -2.6000e-02,  9.6830e-01],\n",
       "        [-1.9250e-03,  1.9000e-02,  9.5670e-01],\n",
       "        [ 3.8375e-02,  7.5200e-02,  9.5190e-01],\n",
       "        [-3.2700e-02, -2.9400e-02,  1.0004e+00],\n",
       "        [ 5.1300e-02,  4.2600e-02,  1.0064e+00],\n",
       "        [-4.4825e-02, -4.5800e-02,  1.0179e+00],\n",
       "        [-1.1250e-03, -3.0000e-02,  1.0287e+00],\n",
       "        [ 5.7175e-02, -3.0000e-03,  1.0463e+00],\n",
       "        [-1.9500e-02, -2.6650e-02,  9.9060e-01],\n",
       "        [ 1.4000e-02,  2.7350e-02,  9.9360e-01],\n",
       "        [ 6.2100e-02,  9.2550e-02,  1.0034e+00],\n",
       "        [-2.2775e-02, -3.7100e-02,  1.0317e+00],\n",
       "        [ 1.9725e-02,  2.3000e-03,  1.0459e+00],\n",
       "        [ 7.6825e-02,  5.2900e-02,  1.0669e+00],\n",
       "        [-3.3100e-02, -6.0550e-02,  1.0582e+00],\n",
       "        [ 1.8400e-02, -3.5750e-02,  1.0836e+00],\n",
       "        [ 8.4500e-02,  2.5000e-04,  1.1158e+00]])"
      ]
     },
     "execution_count": 46,
     "metadata": {},
     "output_type": "execute_result"
    }
   ],
   "source": [
    "Bv"
   ]
  },
  {
   "cell_type": "code",
   "execution_count": 47,
   "metadata": {},
   "outputs": [],
   "source": [
    "class FFNN(nn.Module):\n",
    "    def __init__(self,input_features,output_features,hidden_feature):\n",
    "        super().__init__()\n",
    "        self.layer_1 = nn.Linear(input_features,hidden_feature)\n",
    "        self.layer_2 = nn.Linear(hidden_feature,hidden_feature)\n",
    "        self.layer_3 = nn.Linear(hidden_feature,hidden_feature)\n",
    "        self.layer_4 = nn.Linear(hidden_feature,output_features)\n",
    "        self.activation = nn.Tanh()\n",
    "        \n",
    "    def forward(self,x):\n",
    "        x = self.activation(self.layer_1(x))\n",
    "        x = self.activation(self.layer_2(x))\n",
    "        x = self.activation(self.layer_3(x))\n",
    "        x = self.layer_4(x)\n",
    "        return x \n",
    "        "
   ]
  },
  {
   "cell_type": "code",
   "execution_count": 48,
   "metadata": {},
   "outputs": [],
   "source": [
    "model = FFNN(3,3,12)\n",
    "loss_fn = nn.MSELoss()\n",
    "optimizer = torch.optim.Adam(model.parameters(),lr=0.001)"
   ]
  },
  {
   "cell_type": "code",
   "execution_count": 49,
   "metadata": {},
   "outputs": [
    {
     "name": "stdout",
     "output_type": "stream",
     "text": [
      "epoch:0 | train loss:0.245\n",
      "epoch:100 | train loss:0.001\n",
      "epoch:200 | train loss:0.000\n",
      "epoch:300 | train loss:0.000\n",
      "epoch:400 | train loss:0.000\n",
      "epoch:500 | train loss:0.000\n",
      "epoch:600 | train loss:0.000\n"
     ]
    },
    {
     "name": "stdout",
     "output_type": "stream",
     "text": [
      "epoch:700 | train loss:0.000\n",
      "epoch:800 | train loss:0.000\n",
      "epoch:900 | train loss:0.000\n"
     ]
    }
   ],
   "source": [
    "epochs = 1000\n",
    "\n",
    "for epoch in range(epochs):\n",
    "    model.train()\n",
    "    B_pred = model(Bv_coords)\n",
    "    loss = loss_fn(B_pred,Bv)\n",
    "    optimizer.zero_grad()\n",
    "    loss.backward()\n",
    "    optimizer.step()\n",
    "    if epoch%100 ==0:\n",
    "        print(f'epoch:{epoch} | train loss:{loss:.3f}')\n",
    "    "
   ]
  },
  {
   "cell_type": "code",
   "execution_count": 50,
   "metadata": {},
   "outputs": [],
   "source": [
    "Bh = model(Bv_coords)\n",
    "Bh = Bh.detach().numpy()"
   ]
  },
  {
   "cell_type": "code",
   "execution_count": 51,
   "metadata": {},
   "outputs": [
    {
     "data": {
      "text/plain": [
       "[<matplotlib.lines.Line2D at 0x7f8e60128520>]"
      ]
     },
     "execution_count": 51,
     "metadata": {},
     "output_type": "execute_result"
    },
    {
     "data": {
      "image/png": "[encoded data removed]",
      "text/plain": [
       "<Figure size 640x480 with 1 Axes>"
      ]
     },
     "metadata": {},
     "output_type": "display_data"
    }
   ],
   "source": [
    "plt.plot(np.arange(len(Bh)),Bh[:,2])\n",
    "plt.plot(np.arange(len(Bh)),Bv[:,2])"
   ]
  },
  {
   "cell_type": "code",
   "execution_count": 52,
   "metadata": {},
   "outputs": [
    {
     "data": {
      "text/plain": [
       "tensor([[-4.8342e-02, -9.3524e-03,  9.3221e-01],\n",
       "        [-4.3016e-02,  6.9961e-05,  9.3252e-01],\n",
       "        [-3.7173e-02,  9.5728e-03,  9.3163e-01],\n",
       "        ...,\n",
       "        [ 4.6704e-02, -1.1846e-02,  1.0858e+00],\n",
       "        [ 5.7560e-02, -5.8051e-03,  1.0874e+00],\n",
       "        [ 6.7801e-02,  6.1677e-04,  1.0880e+00]], grad_fn=<AddmmBackward0>)"
      ]
     },
     "execution_count": 52,
     "metadata": {},
     "output_type": "execute_result"
    }
   ],
   "source": [
    "Bhp = model(PBv_coords)\n",
    "Bhp"
   ]
  },
  {
   "cell_type": "code",
   "execution_count": 53,
   "metadata": {},
   "outputs": [
    {
     "data": {
      "text/plain": [
       "torch.Size([1305, 3])"
      ]
     },
     "execution_count": 53,
     "metadata": {},
     "output_type": "execute_result"
    }
   ],
   "source": [
    "torch.autograd.grad(Bhp,PBv_coords,torch.ones_like(Bhp))[0].shape"
   ]
  },
  {
   "cell_type": "code",
   "execution_count": 54,
   "metadata": {},
   "outputs": [
    {
     "data": {
      "text/plain": [
       "torch.Size([1305, 3])"
      ]
     },
     "execution_count": 54,
     "metadata": {},
     "output_type": "execute_result"
    }
   ],
   "source": [
    "Bhp.shape"
   ]
  },
  {
   "cell_type": "code",
   "execution_count": 56,
   "metadata": {},
   "outputs": [
    {
     "name": "stdout",
     "output_type": "stream",
     "text": [
      " using grad dydx1: torch.Size([10, 3])\n",
      " using jacobian dydx2: torch.Size([10, 2, 3])\n",
      "[[ True  True  True]\n",
      " [ True  True  True]\n",
      " [ True  True  True]\n",
      " [ True  True  True]\n",
      " [ True  True  True]\n",
      " [ True  True  True]\n",
      " [ True  True  True]\n",
      " [False  True  True]\n",
      " [ True  True  True]\n",
      " [ True  True  True]]\n"
     ]
    }
   ],
   "source": [
    "batch_size = 10\n",
    "hidden_dim = 20\n",
    "input_dim = 3\n",
    "output_dim = 2 \n",
    "\n",
    "model = nn.Sequential(nn.Linear(input_dim, hidden_dim), nn.Tanh(), nn.Linear(hidden_dim, output_dim)).double()\n",
    "x = torch.rand(batch_size, input_dim, requires_grad=True, dtype=torch.float64) #(batch_size, input_dim)\n",
    "y = model(x) #y: (batch_size, output_dim) \n",
    "\n",
    "#using torch.autograd.grad\n",
    "dydx1 = torch.autograd.grad(y, x, retain_graph=True, grad_outputs=torch.ones_like(y))[0]  #dydx1: (batch_size, input_dim)\n",
    "print(f' using grad dydx1: {dydx1.shape}')\n",
    "\n",
    "#using torch.autograd.functional.jacobian\n",
    "j = torch.autograd.functional.jacobian(lambda t: model(t), x) #j: (batch_size, output_dim, batch_size, input_dim)\n",
    "\n",
    "#the off-diagonal elements of 0th and 2nd dimension are all zero. So we remove them\n",
    "dydx2 = torch.diagonal(j, offset=0, dim1=0, dim2=2) #dydx2: (output_dim, input_dim, batch_size)\n",
    "dydx2 = dydx2.permute(2, 0, 1) #dydx2: (batch_size, output_dim, input_dim)\n",
    "print(f' using jacobian dydx2: {dydx2.shape}')\n",
    "\n",
    "#round to 14 decimal digits to avoid noise \n",
    "print(np.round((dydx2.sum(dim=1)).numpy(), 14) == np.round(dydx1.numpy(), 14))"
   ]
  },
  {
   "cell_type": "code",
   "execution_count": null,
   "metadata": {},
   "outputs": [],
   "source": []
  }
 ],
 "metadata": {
  "kernelspec": {
   "display_name": "base",
   "language": "python",
   "name": "python3"
  },
  "language_info": {
   "codemirror_mode": {
    "name": "ipython",
    "version": 3
   },
   "file_extension": ".py",
   "mimetype": "text/x-python",
   "name": "python",
   "nbconvert_exporter": "python",
   "pygments_lexer": "ipython3",
   "version": "3.9.13"
  }
 },
 "nbformat": 4,
 "nbformat_minor": 2
}

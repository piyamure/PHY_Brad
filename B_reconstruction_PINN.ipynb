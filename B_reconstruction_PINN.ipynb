{
 "cells": [
  {
   "cell_type": "code",
   "execution_count": 151,
   "metadata": {},
   "outputs": [],
   "source": [
    "import numpy as np\n",
    "import matplotlib.pyplot as plt\n",
    "from generate_magnetic_field import get_mag_field\n",
    "import torch.nn as nn\n",
    "import torch"
   ]
  },
  {
   "cell_type": "code",
   "execution_count": 152,
   "metadata": {},
   "outputs": [],
   "source": [
    "# genrate coordinate mesh \n",
    "x_data_points = 11\n",
    "x_array = np.linspace(-1,1,x_data_points)\n",
    "x_array\n",
    "xv,yv,zv = np.meshgrid(x_array,x_array,x_array,indexing='ij')"
   ]
  },
  {
   "cell_type": "code",
   "execution_count": 153,
   "metadata": {},
   "outputs": [],
   "source": [
    "# create BV mask \n",
    "xyv_mask    = ((xv==-1) + (xv==0) + (xv==1)) * ((yv==-1) + (yv==0) + (yv==1))\n",
    "zv_mask     = (zv==-1) + (zv ==1) + (zv==0)\n",
    "center_mask = (xv==0)*(yv==0)*(zv==0)\n",
    "bv_mask     = (xyv_mask) * (zv_mask)* (~center_mask)"
   ]
  },
  {
   "cell_type": "code",
   "execution_count": 154,
   "metadata": {},
   "outputs": [],
   "source": [
    "# calculate B(B_x,B_y,B_z) field at x,y,z meshgrid \n",
    "B = get_mag_field(2,xv,yv,zv)       # get B at x,y,z mesh \n",
    "B = B.reshape(*xv.shape,3)          # reshape B to have shape as coordinate mesh \n",
    "Bv = B[bv_mask]                     # get the BV (26 values)\n",
    "B[~bv_mask] = 0                     # set phyics BV =0 "
   ]
  },
  {
   "cell_type": "code",
   "execution_count": 155,
   "metadata": {},
   "outputs": [],
   "source": [
    "# bv coordinates \n",
    "Bv_coords = np.array([xv[bv_mask],yv[bv_mask],zv[bv_mask]]).T\n",
    "Bv_coords = torch.from_numpy(Bv_coords).type(torch.float32)      # convert to torch.tensor"
   ]
  },
  {
   "cell_type": "code",
   "execution_count": 156,
   "metadata": {},
   "outputs": [
    {
     "data": {
      "text/plain": [
       "tensor([[-1.0000, -1.0000, -0.8000],\n",
       "        [-1.0000, -1.0000, -0.6000],\n",
       "        [-1.0000, -1.0000, -0.4000],\n",
       "        ...,\n",
       "        [ 1.0000,  1.0000,  0.4000],\n",
       "        [ 1.0000,  1.0000,  0.6000],\n",
       "        [ 1.0000,  1.0000,  0.8000]], requires_grad=True)"
      ]
     },
     "execution_count": 156,
     "metadata": {},
     "output_type": "execute_result"
    }
   ],
   "source": [
    "# physics BV coords \n",
    "PBv_coords = np.array([xv[~bv_mask],yv[~bv_mask],zv[~bv_mask]]).T\n",
    "PBv_coords = torch.from_numpy(PBv_coords).type(torch.float32).requires_grad_(True)     # convert to torch.tensor\n",
    "PBv_coords"
   ]
  },
  {
   "cell_type": "code",
   "execution_count": 157,
   "metadata": {},
   "outputs": [],
   "source": [
    "# Bvs (magentic field at boundaries)\n",
    "Bv = torch.from_numpy(Bv).type(torch.float32)"
   ]
  },
  {
   "cell_type": "code",
   "execution_count": 158,
   "metadata": {},
   "outputs": [
    {
     "data": {
      "text/plain": [
       "tensor([[-4.3300e-02, -2.3550e-02,  9.5380e-01],\n",
       "        [-2.5400e-02,  1.2450e-02,  9.2760e-01],\n",
       "        [ 7.1000e-03,  5.9650e-02,  9.0820e-01],\n",
       "        [-5.0175e-02, -1.9900e-02,  9.7690e-01],\n",
       "        [-2.3275e-02,  1.5000e-03,  9.6190e-01],\n",
       "        [ 1.8225e-02,  3.4100e-02,  9.5370e-01],\n",
       "        [-6.4100e-02, -2.9250e-02,  9.8540e-01],\n",
       "        [-2.8200e-02, -2.2450e-02,  9.8160e-01],\n",
       "        [ 2.2300e-02, -4.4500e-03,  9.8460e-01],\n",
       "        [-2.7625e-02, -2.6000e-02,  9.6830e-01],\n",
       "        [-1.9250e-03,  1.9000e-02,  9.5670e-01],\n",
       "        [ 3.8375e-02,  7.5200e-02,  9.5190e-01],\n",
       "        [-3.2700e-02, -2.9400e-02,  1.0004e+00],\n",
       "        [ 5.1300e-02,  4.2600e-02,  1.0064e+00],\n",
       "        [-4.4825e-02, -4.5800e-02,  1.0179e+00],\n",
       "        [-1.1250e-03, -3.0000e-02,  1.0287e+00],\n",
       "        [ 5.7175e-02, -3.0000e-03,  1.0463e+00],\n",
       "        [-1.9500e-02, -2.6650e-02,  9.9060e-01],\n",
       "        [ 1.4000e-02,  2.7350e-02,  9.9360e-01],\n",
       "        [ 6.2100e-02,  9.2550e-02,  1.0034e+00],\n",
       "        [-2.2775e-02, -3.7100e-02,  1.0317e+00],\n",
       "        [ 1.9725e-02,  2.3000e-03,  1.0459e+00],\n",
       "        [ 7.6825e-02,  5.2900e-02,  1.0669e+00],\n",
       "        [-3.3100e-02, -6.0550e-02,  1.0582e+00],\n",
       "        [ 1.8400e-02, -3.5750e-02,  1.0836e+00],\n",
       "        [ 8.4500e-02,  2.5000e-04,  1.1158e+00]])"
      ]
     },
     "execution_count": 158,
     "metadata": {},
     "output_type": "execute_result"
    }
   ],
   "source": [
    "Bv"
   ]
  },
  {
   "cell_type": "code",
   "execution_count": 159,
   "metadata": {},
   "outputs": [],
   "source": [
    "class FFNN(nn.Module):\n",
    "    def __init__(self,input_features,output_features,hidden_feature):\n",
    "        super().__init__()\n",
    "        self.layer_1 = nn.Linear(input_features,hidden_feature)\n",
    "        self.layer_2 = nn.Linear(hidden_feature,hidden_feature)\n",
    "        self.layer_3 = nn.Linear(hidden_feature,hidden_feature)\n",
    "        self.layer_4 = nn.Linear(hidden_feature,output_features)\n",
    "        self.activation = nn.Tanh()\n",
    "        \n",
    "    def forward(self,x):\n",
    "        x = self.activation(self.layer_1(x))\n",
    "        x = self.activation(self.layer_2(x))\n",
    "        x = self.activation(self.layer_3(x))\n",
    "        x = self.layer_4(x)\n",
    "        return x \n",
    "        "
   ]
  },
  {
   "cell_type": "code",
   "execution_count": 160,
   "metadata": {},
   "outputs": [],
   "source": [
    "model = FFNN(3,3,12)\n",
    "loss_fn = nn.MSELoss()\n",
    "optimizer = torch.optim.Adam(model.parameters(),lr=0.001)"
   ]
  },
  {
   "cell_type": "code",
   "execution_count": 161,
   "metadata": {},
   "outputs": [
    {
     "name": "stdout",
     "output_type": "stream",
     "text": [
      "epoch:0 | train loss:0.558\n",
      "epoch:100 | train loss:0.002\n",
      "epoch:200 | train loss:0.001\n",
      "epoch:300 | train loss:0.001\n",
      "epoch:400 | train loss:0.000\n",
      "epoch:500 | train loss:0.000\n"
     ]
    },
    {
     "name": "stdout",
     "output_type": "stream",
     "text": [
      "epoch:600 | train loss:0.000\n",
      "epoch:700 | train loss:0.000\n",
      "epoch:800 | train loss:0.000\n",
      "epoch:900 | train loss:0.000\n"
     ]
    }
   ],
   "source": [
    "epochs = 1000\n",
    "\n",
    "for epoch in range(epochs):\n",
    "    model.train()\n",
    "    B_pred = model(Bv_coords)\n",
    "    loss = loss_fn(B_pred,Bv)\n",
    "    optimizer.zero_grad()\n",
    "    loss.backward()\n",
    "    optimizer.step()\n",
    "    if epoch%100 ==0:\n",
    "        print(f'epoch:{epoch} | train loss:{loss:.3f}')\n",
    "    "
   ]
  },
  {
   "cell_type": "code",
   "execution_count": 162,
   "metadata": {},
   "outputs": [],
   "source": [
    "Bh = model(Bv_coords)\n",
    "Bh = Bh.detach().numpy()"
   ]
  },
  {
   "cell_type": "code",
   "execution_count": 163,
   "metadata": {},
   "outputs": [
    {
     "data": {
      "text/plain": [
       "[<matplotlib.lines.Line2D at 0x7fae111210f0>]"
      ]
     },
     "execution_count": 163,
     "metadata": {},
     "output_type": "execute_result"
    },
    {
     "data": {
      "image/png": "[encoded data removed]",
      "text/plain": [
       "<Figure size 640x480 with 1 Axes>"
      ]
     },
     "metadata": {},
     "output_type": "display_data"
    }
   ],
   "source": [
    "plt.plot(np.arange(len(Bh)),Bh[:,2])\n",
    "plt.plot(np.arange(len(Bh)),Bv[:,2])"
   ]
  },
  {
   "cell_type": "code",
   "execution_count": 164,
   "metadata": {},
   "outputs": [
    {
     "data": {
      "text/plain": [
       "tensor([[-0.0413, -0.0011,  0.9382],\n",
       "        [-0.0371,  0.0058,  0.9402],\n",
       "        [-0.0325,  0.0124,  0.9399],\n",
       "        ...,\n",
       "        [ 0.0418, -0.0086,  1.0852],\n",
       "        [ 0.0484, -0.0026,  1.0834],\n",
       "        [ 0.0546,  0.0032,  1.0796]], grad_fn=<AddmmBackward0>)"
      ]
     },
     "execution_count": 164,
     "metadata": {},
     "output_type": "execute_result"
    }
   ],
   "source": [
    "Bhp = model(PBv_coords)\n",
    "Bhp"
   ]
  },
  {
   "cell_type": "code",
   "execution_count": 165,
   "metadata": {},
   "outputs": [
    {
     "data": {
      "text/plain": [
       "torch.Size([1305, 3])"
      ]
     },
     "execution_count": 165,
     "metadata": {},
     "output_type": "execute_result"
    }
   ],
   "source": [
    "torch.autograd.grad(Bhp,PBv_coords,torch.ones_like(Bhp))[0].shape"
   ]
  },
  {
   "cell_type": "markdown",
   "metadata": {},
   "source": [
    "### Why we didn't get [batch_size,output_dim,input_dim]?\n",
    "\n",
    "* Jacobian matrix find the gradients and it is normally has shape of [output_dim,input_dim]\n",
    "* But when we called **torch.autograd.grad** we get [batch_size,input_dim], this is because the grad function average the gradeints along the \"output dim\"\n",
    "\n",
    "* To get the full Jacobian matrix we can use **torch.autograd.functional.jacobian()**, this returns [batch_size,output_dim,batch_size,input_dim]"
   ]
  },
  {
   "cell_type": "code",
   "execution_count": 166,
   "metadata": {},
   "outputs": [],
   "source": [
    "#using torch.autograd.functional.jacobian\n",
    "B_jacob = torch.autograd.functional.jacobian(lambda t:model(t),PBv_coords) # (batch_size, output_dim, batch_size, input_dim)\n",
    "#the off-diagonal elements of 0th and 2nd dimension are all zero. So we remove them\n",
    "B_grad  = torch.diagonal(B_jacob,offset=0,dim1=0,dim2=2)                   # (output_dim, input_dim, batch_size)\n",
    "B_grad  = B_grad.permute(2,0,1)                                            # (batch_size, output_dim, input_dim)    "
   ]
  },
  {
   "cell_type": "code",
   "execution_count": 177,
   "metadata": {},
   "outputs": [
    {
     "data": {
      "text/plain": [
       "tensor([[[ 7.4248e-03, -1.2660e-02,  2.0391e-02],\n",
       "         [-1.3365e-04, -1.9863e-02,  3.4928e-02],\n",
       "         [ 6.4957e-02,  3.5294e-02,  1.6318e-02]],\n",
       "\n",
       "        [[ 7.5842e-03, -1.1356e-02,  2.1860e-02],\n",
       "         [-3.5156e-05, -1.8732e-02,  3.3767e-02],\n",
       "         [ 6.9404e-02,  3.9184e-02,  4.1613e-03]],\n",
       "\n",
       "        [[ 7.9738e-03, -9.8804e-03,  2.3743e-02],\n",
       "         [ 1.4826e-04, -1.7608e-02,  3.2705e-02],\n",
       "         [ 7.3372e-02,  4.3226e-02, -7.0585e-03]],\n",
       "\n",
       "        ...,\n",
       "\n",
       "        [[ 1.5601e-02, -4.3756e-03,  3.4176e-02],\n",
       "         [-4.4849e-03, -2.7995e-02,  3.1153e-02],\n",
       "         [-9.7032e-03, -4.0518e-02, -3.7287e-03]],\n",
       "\n",
       "        [[ 1.2508e-02, -5.9616e-03,  3.1952e-02],\n",
       "         [-4.5651e-03, -2.7914e-02,  2.9538e-02],\n",
       "         [-4.0484e-03, -3.9226e-02, -1.3988e-02]],\n",
       "\n",
       "        [[ 9.5836e-03, -7.4205e-03,  2.9940e-02],\n",
       "         [-4.6189e-03, -2.7747e-02,  2.8057e-02],\n",
       "         [ 1.4618e-03, -3.7515e-02, -2.3773e-02]]])"
      ]
     },
     "execution_count": 177,
     "metadata": {},
     "output_type": "execute_result"
    }
   ],
   "source": [
    "B_grad"
   ]
  },
  {
   "cell_type": "code",
   "execution_count": 185,
   "metadata": {},
   "outputs": [],
   "source": [
    "# implement del.B = 0 \n",
    "del_dot_B = torch.diagonal(B_grad,offset=0,dim1=1,dim2=2).sum(dim=1)"
   ]
  },
  {
   "cell_type": "code",
   "execution_count": 188,
   "metadata": {},
   "outputs": [
    {
     "data": {
      "text/plain": [
       "tensor([0.1428, 0.1528, 0.1633,  ..., 0.0062, 0.0077, 0.0099])"
      ]
     },
     "execution_count": 188,
     "metadata": {},
     "output_type": "execute_result"
    }
   ],
   "source": [
    "# implement del.cross.B \n",
    "del_cross_B = B_grad[:,0,1] + B_grad[:,1,0] + B_grad[:,0,2] + B_grad[:,2,0] + B_grad[:,1,2] + B_grad[:,2,1]\n",
    "del_cross_B"
   ]
  },
  {
   "cell_type": "code",
   "execution_count": 189,
   "metadata": {},
   "outputs": [
    {
     "data": {
      "text/plain": [
       "torch.Size([1305])"
      ]
     },
     "execution_count": 189,
     "metadata": {},
     "output_type": "execute_result"
    }
   ],
   "source": [
    "del_dot_B.shape"
   ]
  },
  {
   "cell_type": "code",
   "execution_count": 190,
   "metadata": {},
   "outputs": [
    {
     "data": {
      "text/plain": [
       "torch.Size([1305])"
      ]
     },
     "execution_count": 190,
     "metadata": {},
     "output_type": "execute_result"
    }
   ],
   "source": [
    "del_cross_B.shape"
   ]
  },
  {
   "cell_type": "code",
   "execution_count": null,
   "metadata": {},
   "outputs": [],
   "source": []
  }
 ],
 "metadata": {
  "kernelspec": {
   "display_name": "base",
   "language": "python",
   "name": "python3"
  },
  "language_info": {
   "codemirror_mode": {
    "name": "ipython",
    "version": 3
   },
   "file_extension": ".py",
   "mimetype": "text/x-python",
   "name": "python",
   "nbconvert_exporter": "python",
   "pygments_lexer": "ipython3",
   "version": "3.10.9"
  }
 },
 "nbformat": 4,
 "nbformat_minor": 2
}

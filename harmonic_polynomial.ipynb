{
 "cells": [
  {
   "cell_type": "code",
   "execution_count": 1,
   "metadata": {
    "id": "DGYmStoHjwM7"
   },
   "outputs": [],
   "source": [
    "import numpy as np\n",
    "import sympy as sp \n",
    "from sympy import assoc_legendre\n",
    "import matplotlib.pyplot as plt\n",
    "from harmonic_poly import basisFunction"
   ]
  },
  {
   "cell_type": "code",
   "execution_count": 3,
   "metadata": {},
   "outputs": [],
   "source": [
    "# define varibales in sympy \n",
    "x,y,z = sp.symbols('x,y,z',real=True,positive=True)"
   ]
  },
  {
   "cell_type": "code",
   "execution_count": 4,
   "metadata": {},
   "outputs": [],
   "source": [
    "# function to evaluate a given basis function (l,m) at given cartisian coordinate point(u,v,z)\n",
    "def get_basis_fv(u,v,w,l,m):\n",
    "    bf = basisFunction(l,m)\n",
    "    bfv = sp.lambdify([x,y,z],bf)\n",
    "    return bfv(u,v,w)"
   ]
  },
  {
   "cell_type": "code",
   "execution_count": 5,
   "metadata": {},
   "outputs": [],
   "source": [
    "# fucntion to filter coordinates from a grid using boolean masking  \n",
    "def get_selected_coords(xv,yv,zv,bool_mask):\n",
    "    x_coords = xv[bool_mask]\n",
    "    y_coords = yv[bool_mask]\n",
    "    z_coords = zv[bool_mask] \n",
    "    return np.array([x_coords,y_coords,z_coords])"
   ]
  },
  {
   "cell_type": "code",
   "execution_count": 6,
   "metadata": {},
   "outputs": [],
   "source": [
    "# function to evaluate a given harmonics on selected coordinate mesh \n",
    "def get_harmonics_on_selected(xv,yv,zv,bool_mask,l,m):\n",
    "    xx,yy,zz = get_selected_coords(xv,yv,zv,bool_mask)\n",
    "    fvx,fvy,fvz  = get_basis_fv(xx,yy,zz,l,m)\n",
    "    return [fvx,fvy,fvz]"
   ]
  },
  {
   "cell_type": "code",
   "execution_count": 7,
   "metadata": {},
   "outputs": [],
   "source": [
    "# helper function to get the index of array where a fucntion is max \n",
    "def get_idx_maxf(func, pos_bool):\n",
    "    max_val = np.max(func[pos_bool])\n",
    "    idx = np.where(func[pos_bool]==max_val)[0]\n",
    "    return idx\n",
    "\n",
    "# this finds the x,y and z coordinates where the function is max on given surface \n",
    "def get_coords_maxf(func,pos_bool,xv,yv,zv):\n",
    "    idx = get_idx_maxf(func,pos_bool)\n",
    "    x_coords = xv[pos_bool][idx]\n",
    "    y_coords = yv[pos_bool][idx]\n",
    "    z_coords = zv[pos_bool][idx]\n",
    "    return np.array([x_coords,y_coords,z_coords]).T\n",
    "    "
   ]
  },
  {
   "cell_type": "code",
   "execution_count": 8,
   "metadata": {},
   "outputs": [
    {
     "data": {
      "text/plain": [
       "[x**2 - y**2, -2*x*y, 0]"
      ]
     },
     "execution_count": 8,
     "metadata": {},
     "output_type": "execute_result"
    }
   ],
   "source": [
    "# basis function with l=2 and m=3 \n",
    "basisFunction(2,3)"
   ]
  },
  {
   "cell_type": "code",
   "execution_count": 9,
   "metadata": {},
   "outputs": [
    {
     "data": {
      "text/plain": [
       "[3, -4, 0]"
      ]
     },
     "execution_count": 9,
     "metadata": {},
     "output_type": "execute_result"
    }
   ],
   "source": [
    "# test above function \n",
    "get_basis_fv(2,1,0,2,3)"
   ]
  },
  {
   "cell_type": "code",
   "execution_count": 10,
   "metadata": {},
   "outputs": [],
   "source": [
    "# create a mesh grid to evalute basis function \n",
    "length = np.linspace(-1,1,11)\n",
    "xv,yv,zv= np.meshgrid(length,length,length)"
   ]
  },
  {
   "cell_type": "code",
   "execution_count": 11,
   "metadata": {},
   "outputs": [],
   "source": [
    "# get the (x,y,z) components of basis function on a grid \n",
    "fvx,fvy,fvz  = get_basis_fv(xv,yv,zv,2,3)"
   ]
  },
  {
   "cell_type": "code",
   "execution_count": 12,
   "metadata": {},
   "outputs": [],
   "source": [
    "# define boolean mask on the surface of cube \n",
    "surface_bool = (xv==1) + (xv==-1) + (yv==1) + (yv==-1) + (zv==1) + (zv ==-1)"
   ]
  },
  {
   "cell_type": "code",
   "execution_count": 13,
   "metadata": {},
   "outputs": [
    {
     "data": {
      "text/plain": [
       "array([[ 1. , -1. , -1. ],\n",
       "       [ 1. , -1. , -0.8],\n",
       "       [ 1. , -1. , -0.6],\n",
       "       [ 1. , -1. , -0.4],\n",
       "       [ 1. , -1. , -0.2],\n",
       "       [ 1. , -1. ,  0. ],\n",
       "       [ 1. , -1. ,  0.2],\n",
       "       [ 1. , -1. ,  0.4],\n",
       "       [ 1. , -1. ,  0.6],\n",
       "       [ 1. , -1. ,  0.8],\n",
       "       [ 1. , -1. ,  1. ],\n",
       "       [-1. ,  1. , -1. ],\n",
       "       [-1. ,  1. , -0.8],\n",
       "       [-1. ,  1. , -0.6],\n",
       "       [-1. ,  1. , -0.4],\n",
       "       [-1. ,  1. , -0.2],\n",
       "       [-1. ,  1. ,  0. ],\n",
       "       [-1. ,  1. ,  0.2],\n",
       "       [-1. ,  1. ,  0.4],\n",
       "       [-1. ,  1. ,  0.6],\n",
       "       [-1. ,  1. ,  0.8],\n",
       "       [-1. ,  1. ,  1. ]])"
      ]
     },
     "execution_count": 13,
     "metadata": {},
     "output_type": "execute_result"
    }
   ],
   "source": [
    "max_coords = get_coords_maxf(fvy,surface_bool,xv,yv,zv)\n",
    "max_coords"
   ]
  },
  {
   "cell_type": "code",
   "execution_count": 14,
   "metadata": {},
   "outputs": [],
   "source": [
    "# top surface \n",
    "top_bool = zv==1\n",
    "Bx,By,Bz = get_harmonics_on_selected(xv,yv,zv,top_bool,2,3)\n"
   ]
  },
  {
   "cell_type": "code",
   "execution_count": 15,
   "metadata": {},
   "outputs": [
    {
     "data": {
      "text/plain": [
       "(121,)"
      ]
     },
     "execution_count": 15,
     "metadata": {},
     "output_type": "execute_result"
    }
   ],
   "source": [
    "Bx.shape"
   ]
  }
 ],
 "metadata": {
  "colab": {
   "authorship_tag": "ABX9TyN7rb8b5k0KgGNKJS7BCvCK",
   "collapsed_sections": [],
   "name": "probe_array.ipynb",
   "provenance": []
  },
  "kernelspec": {
   "display_name": "Python 3 (ipykernel)",
   "language": "python",
   "name": "python3"
  },
  "language_info": {
   "codemirror_mode": {
    "name": "ipython",
    "version": 3
   },
   "file_extension": ".py",
   "mimetype": "text/x-python",
   "name": "python",
   "nbconvert_exporter": "python",
   "pygments_lexer": "ipython3",
   "version": "3.10.9"
  }
 },
 "nbformat": 4,
 "nbformat_minor": 1
}

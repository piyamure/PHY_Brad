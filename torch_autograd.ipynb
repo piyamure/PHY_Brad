{
 "cells": [
  {
   "cell_type": "code",
   "execution_count": 18,
   "metadata": {},
   "outputs": [],
   "source": [
    "import numpy as np\n",
    "import torch "
   ]
  },
  {
   "cell_type": "markdown",
   "metadata": {},
   "source": [
    "### Pytorch gradient calculation "
   ]
  },
  {
   "cell_type": "markdown",
   "metadata": {},
   "source": [
    "* If we deine a varibale with **requires_grad=True**, then we can find a gradient of that function with respect to that variable\n",
    "\n",
    "* If the final function is a scaler then, the gradient implimentation w.r.t. that variable is simple\n",
    "    - for ex: f = average(), then f.balkward() and x.grad is enough \n",
    "\n",
    "* But if the final function is a vector valued function, then when we call backward function we need to insert another array to get the correct gradient out\n",
    "    - ex. f = torch.sin(x), then f.backward(torch.ones_like(f)), AND  x.grad is needed "
   ]
  },
  {
   "cell_type": "markdown",
   "metadata": {},
   "source": [
    "### Example 01: Gradient of vector function "
   ]
  },
  {
   "cell_type": "code",
   "execution_count": 19,
   "metadata": {},
   "outputs": [
    {
     "name": "stdout",
     "output_type": "stream",
     "text": [
      "tensor([0.4420, 0.6609, 0.0305], requires_grad=True)\n"
     ]
    }
   ],
   "source": [
    "x = torch.rand(3,requires_grad=True)\n",
    "print(x)"
   ]
  },
  {
   "cell_type": "code",
   "execution_count": 20,
   "metadata": {},
   "outputs": [
    {
     "name": "stdout",
     "output_type": "stream",
     "text": [
      "tensor([2.4420, 2.6609, 2.0305], grad_fn=<AddBackward0>)\n"
     ]
    }
   ],
   "source": [
    "y = x + 2 \n",
    "print(y)"
   ]
  },
  {
   "cell_type": "code",
   "execution_count": 21,
   "metadata": {},
   "outputs": [
    {
     "data": {
      "text/plain": [
       "tensor([1., 1., 1.])"
      ]
     },
     "execution_count": 21,
     "metadata": {},
     "output_type": "execute_result"
    }
   ],
   "source": [
    "y.backward(torch.ones_like(y))\n",
    "x.grad"
   ]
  },
  {
   "cell_type": "code",
   "execution_count": 22,
   "metadata": {},
   "outputs": [
    {
     "name": "stdout",
     "output_type": "stream",
     "text": [
      "tensor([11.9269, 14.1607,  8.2458], grad_fn=<MulBackward0>)\n"
     ]
    }
   ],
   "source": [
    "z = y*y*2\n",
    "print(z)"
   ]
  },
  {
   "cell_type": "markdown",
   "metadata": {},
   "source": [
    "### Example 02: Gradient of scaler valued fucntion "
   ]
  },
  {
   "cell_type": "code",
   "execution_count": 23,
   "metadata": {},
   "outputs": [
    {
     "name": "stdout",
     "output_type": "stream",
     "text": [
      "tensor(11.4445, grad_fn=<MeanBackward0>)\n"
     ]
    }
   ],
   "source": [
    "z = z.mean()\n",
    "print(z)"
   ]
  },
  {
   "cell_type": "code",
   "execution_count": 24,
   "metadata": {},
   "outputs": [
    {
     "data": {
      "text/plain": [
       "tensor([4.2560, 4.5479, 3.7073])"
      ]
     },
     "execution_count": 24,
     "metadata": {},
     "output_type": "execute_result"
    }
   ],
   "source": [
    "z.backward()\n",
    "x.grad"
   ]
  },
  {
   "cell_type": "markdown",
   "metadata": {},
   "source": [
    "### How to prevent gradient tracking of a varibale  \n",
    "\n",
    "- x.requires_grad_(False)\n",
    "- x.detach()\n",
    "- or using torch.no_grad() context manager "
   ]
  },
  {
   "cell_type": "code",
   "execution_count": 25,
   "metadata": {},
   "outputs": [
    {
     "name": "stdout",
     "output_type": "stream",
     "text": [
      "tensor([0.7598, 0.5327, 0.4899], requires_grad=True)\n",
      "tensor([0.7598, 0.5327, 0.4899])\n"
     ]
    }
   ],
   "source": [
    "x = torch.rand(3,requires_grad=True)\n",
    "print(x)\n",
    "\n",
    "# if we want to prevent gradient tracking of varible x \n",
    "x.requires_grad_(False)\n",
    "print(x)"
   ]
  },
  {
   "cell_type": "code",
   "execution_count": 26,
   "metadata": {},
   "outputs": [
    {
     "name": "stdout",
     "output_type": "stream",
     "text": [
      "tensor([0.4271, 0.2189, 0.8690], requires_grad=True)\n",
      "tensor([0.4271, 0.2189, 0.8690])\n"
     ]
    }
   ],
   "source": [
    "x = torch.rand(3,requires_grad=True)\n",
    "print(x)\n",
    "\n",
    "# remove gradient tracking of variable x \n",
    "y = x.detach()\n",
    "print(y)"
   ]
  },
  {
   "cell_type": "code",
   "execution_count": 27,
   "metadata": {},
   "outputs": [
    {
     "name": "stdout",
     "output_type": "stream",
     "text": [
      "tensor([3.0992, 1.4607, 0.9361])\n"
     ]
    }
   ],
   "source": [
    "x = torch.randn(3,requires_grad=True)\n",
    "\n",
    "with torch.no_grad(): # don't track gradient here \n",
    "    y = x+2 \n",
    "    print(y)"
   ]
  },
  {
   "cell_type": "markdown",
   "metadata": {},
   "source": [
    "### How to stop accumulation of gradients (zero-outing gradients)"
   ]
  },
  {
   "cell_type": "code",
   "execution_count": 28,
   "metadata": {},
   "outputs": [
    {
     "name": "stdout",
     "output_type": "stream",
     "text": [
      "tensor(12., grad_fn=<SumBackward0>)\n",
      "tensor([3., 3., 3., 3.])\n",
      "tensor(12., grad_fn=<SumBackward0>)\n",
      "tensor([6., 6., 6., 6.])\n",
      "tensor(12., grad_fn=<SumBackward0>)\n",
      "tensor([9., 9., 9., 9.])\n"
     ]
    }
   ],
   "source": [
    "weights = torch.ones(4,requires_grad=True)\n",
    "\n",
    "for eopoch in range(3):\n",
    "    model_output = (weights*3).sum()\n",
    "    print(model_output)\n",
    "    model_output.backward()\n",
    "    print(weights.grad)"
   ]
  },
  {
   "cell_type": "code",
   "execution_count": 29,
   "metadata": {},
   "outputs": [
    {
     "name": "stdout",
     "output_type": "stream",
     "text": [
      "tensor([3., 3., 3., 3.])\n",
      "tensor([3., 3., 3., 3.])\n",
      "tensor([3., 3., 3., 3.])\n"
     ]
    }
   ],
   "source": [
    "weights = torch.tensor([1.,2.,3.,4.],dtype=torch.float32,requires_grad=True)\n",
    "\n",
    "for eopoch in range(3):\n",
    "    model_output = (weights*3).sum()\n",
    "    model_output.backward()\n",
    "    print(weights.grad)\n",
    "    weights.grad.zero_()"
   ]
  },
  {
   "cell_type": "markdown",
   "metadata": {},
   "source": [
    "### Backpropergation: chain rule to get the derivtive of function (final) w.r.t wieght parameter\n",
    "\n",
    "* y = a(x)\n",
    "* z = b(y)\n",
    "\n",
    "* chain rule : $\\frac{\\partial z}{\\partial x} = \\frac{\\partial z}{\\partial y} \\cdot \\frac{\\partial y}{\\partial x}$\n",
    "\n",
    "* at each node (**one type of computation is done here**) of the computational graph it finds the local gradient "
   ]
  },
  {
   "cell_type": "code",
   "execution_count": 35,
   "metadata": {},
   "outputs": [
    {
     "name": "stdout",
     "output_type": "stream",
     "text": [
      "loss value = 0.25\n",
      "gradient of loss w.r.t. w = -1.0\n"
     ]
    }
   ],
   "source": [
    "x = torch.tensor(1.0)\n",
    "y = torch.tensor(2.0)\n",
    "\n",
    "w = torch.tensor(1.5,requires_grad=True)\n",
    "\n",
    "# forward pass\n",
    "y_hat = w*x\n",
    "loss = (y_hat - y)**2 \n",
    "print(f'loss value = {loss}')\n",
    "\n",
    "# backward pass \n",
    "loss.backward()\n",
    "print(f'gradient of loss w.r.t. w = {w.grad}')\n"
   ]
  },
  {
   "cell_type": "markdown",
   "metadata": {},
   "source": [
    "### Gradient descent: Way to optimize the weight to reduce the error function \n",
    "\n",
    "1. First we are going to update weights using **numpy** , note that we need to know the derivatives of the error function w.r.t. weights  \n",
    "\n",
    "2. Advantage of using **Pytorch** is it find the gradient for us, we don't need to manually implement the gradient computation w.r.t. weights "
   ]
  },
  {
   "cell_type": "code",
   "execution_count": 31,
   "metadata": {},
   "outputs": [
    {
     "name": "stdout",
     "output_type": "stream",
     "text": [
      "Prediction before training:f(5)=0.000\n",
      "epoch 1: w = 1.500,loss=30.00000000\n",
      "epoch 2: w = 1.500,loss=4.79999924\n",
      "epoch 3: w = 1.500,loss=0.76800019\n",
      "epoch 4: w = 1.500,loss=0.12288000\n",
      "epoch 5: w = 1.500,loss=0.01966083\n",
      "epoch 6: w = 1.500,loss=0.00314570\n",
      "epoch 7: w = 1.500,loss=0.00050332\n",
      "epoch 8: w = 1.500,loss=0.00008053\n",
      "epoch 9: w = 1.500,loss=0.00001288\n",
      "epoch 10: w = 1.500,loss=0.00000206\n",
      "Prediction after training:f(5)=9.999\n"
     ]
    }
   ],
   "source": [
    "# f = w*x with w=2 \n",
    "X = np.array([1,2,3,4],dtype=np.float32)\n",
    "Y = np.array([2,4,6,8],dtype=np.float32)\n",
    "\n",
    "# weight paramter (we want to update this)\n",
    "W = 0.0 \n",
    "\n",
    "# model prediction \n",
    "def forward(x):\n",
    "    return W*x\n",
    "\n",
    "# loss \n",
    "def loss(y,y_pred):\n",
    "    return ((y-y_pred)**2).mean()\n",
    "\n",
    "# gradient \n",
    "# MSE = 1/N * (w*x-y)**2 \n",
    "# dJ/dw = 1/N* 2x * (w*x -y)\n",
    "\n",
    "# gradinet of loss w.r.t. weight \n",
    "def gradient(x,y,y_pred):\n",
    "    return np.dot(2*x, y_pred-y).mean()\n",
    "\n",
    "print(f'Prediction before training:f(5)={forward(5):.3f}')\n",
    "\n",
    "# training \n",
    "lr = 0.01\n",
    "n_iters = 10 \n",
    "\n",
    "for epoch in range(n_iters):\n",
    "    y_pred = forward(X)             # y_pred \n",
    "    l = loss(Y,y_pred)              # loss   \n",
    "    dw = gradient(X,Y,y_pred)       # dL/dw\n",
    "    W-=lr*dw                        # update w \n",
    "    \n",
    "    if epoch % 1 ==0:\n",
    "        print(f'epoch {epoch +1}: w = {w:.3f},loss={l:.8f}')\n",
    "    \n",
    "    \n",
    "print(f'Prediction after training:f(5)={forward(5):.3f}')"
   ]
  },
  {
   "cell_type": "code",
   "execution_count": 59,
   "metadata": {},
   "outputs": [
    {
     "name": "stdout",
     "output_type": "stream",
     "text": [
      "epoch 1: w = 0.300,loss=30.00000000\n",
      "epoch 3: w = 0.772,loss=15.66018772\n",
      "epoch 5: w = 1.113,loss=8.17471695\n",
      "epoch 7: w = 1.359,loss=4.26725292\n",
      "epoch 9: w = 1.537,loss=2.22753215\n"
     ]
    }
   ],
   "source": [
    "# f = w*x with w=2 \n",
    "X = torch.tensor([1,2,3,4],dtype=torch.float32) \n",
    "Y = torch.tensor([2,4,6,8],dtype=torch.float32)\n",
    "W = torch.tensor(0.0,dtype=torch.float32,requires_grad=True)  \n",
    "\n",
    "# model prediction \n",
    "def forward(x):\n",
    "    return W*x\n",
    "\n",
    "# loss \n",
    "def loss(y,y_pred):\n",
    "    return ((y-y_pred)**2).mean()\n",
    "\n",
    "# training \n",
    "lr = 0.01\n",
    "n_iters = 10 \n",
    "\n",
    "for epoch in range(n_iters):\n",
    "    y_pred = forward(X)      # y_pred \n",
    "    l = loss(Y,y_pred)       # loss \n",
    "    l.backward()             # dL/dw \n",
    "    with torch.no_grad():\n",
    "        W-=lr*W.grad         # update weight \n",
    "    W.grad.zero_()           # zero-out gradient \n",
    "        \n",
    "    if epoch % 2 ==0:\n",
    "        print(f'epoch {epoch +1}: w = {W:.3f},loss={l:.8f}')"
   ]
  },
  {
   "cell_type": "markdown",
   "metadata": {},
   "source": [
    "#### This example shows the usage of **pytorch** in-buit functions to make the gradient descent easy\n",
    "- nn.MSELoss() to get the error \n",
    "- torch.optim.SGD() to manully update the weights s.t. minimize the error(or to do gradient decent)"
   ]
  },
  {
   "cell_type": "code",
   "execution_count": 60,
   "metadata": {},
   "outputs": [
    {
     "name": "stdout",
     "output_type": "stream",
     "text": [
      "epoch 1: w = 0.300,loss=30.00000000\n",
      "epoch 2: w = 0.555,loss=21.67499924\n",
      "epoch 3: w = 0.772,loss=15.66018772\n",
      "epoch 4: w = 0.956,loss=11.31448650\n",
      "epoch 5: w = 1.113,loss=8.17471695\n",
      "epoch 6: w = 1.246,loss=5.90623236\n",
      "epoch 7: w = 1.359,loss=4.26725292\n",
      "epoch 8: w = 1.455,loss=3.08308983\n",
      "epoch 9: w = 1.537,loss=2.22753215\n",
      "epoch 10: w = 1.606,loss=1.60939169\n"
     ]
    }
   ],
   "source": [
    "import torch.nn as nn\n",
    "import torch\n",
    "\n",
    "X = torch.tensor([1,2,3,4],dtype=torch.float32)\n",
    "Y = torch.tensor([2,4,6,8],dtype=torch.float32)\n",
    "\n",
    "W = torch.tensor(0.0,dtype=torch.float32,requires_grad=True) \n",
    "\n",
    "# model prediction \n",
    "def forward(x):\n",
    "    return W*x\n",
    "\n",
    "# loss \n",
    "loss = nn.MSELoss()\n",
    "optimizer = torch.optim.SGD([W],lr=0.01)\n",
    "\n",
    "# training \n",
    "n_iters = 10 \n",
    "\n",
    "for epoch in range(n_iters):\n",
    "    y_pred = forward(X)         # y_pred \n",
    "    l = loss(Y,y_pred)          # loss \n",
    "    l.backward()                # dl/dw\n",
    "    optimizer.step()            # update w \n",
    "    optimizer.zero_grad()       # zero-out gradient \n",
    "    \n",
    "    if epoch % 1 ==0:\n",
    "        print(f'epoch {epoch +1}: w = {W:.3f},loss={l:.8f}')\n",
    "    \n"
   ]
  },
  {
   "cell_type": "markdown",
   "metadata": {},
   "source": [
    "### Using all **Pytorch** functions "
   ]
  },
  {
   "cell_type": "markdown",
   "metadata": {},
   "source": [
    "1. Design the model (input size, output size, forward pass)\n",
    "\n",
    "2. Construct loss and optimizer \n",
    "\n",
    "3. Training loop:\n",
    "\n",
    "    - forward pass: compute prediction \n",
    "    - backward pass: gradients \n",
    "    - update the weights "
   ]
  },
  {
   "cell_type": "code",
   "execution_count": 61,
   "metadata": {},
   "outputs": [
    {
     "name": "stdout",
     "output_type": "stream",
     "text": [
      "Prediction before training:f(5)=2.831\n",
      "epoch 1: w = 0.763,loss=18.12822723\n",
      "epoch 101: w = 1.875,loss=0.64779180\n",
      "epoch 201: w = 2.078,loss=0.04428379\n",
      "epoch 301: w = 2.113,loss=0.02221767\n",
      "epoch 401: w = 2.117,loss=0.02025468\n",
      "epoch 501: w = 2.115,loss=0.01905417\n",
      "epoch 601: w = 2.111,loss=0.01794574\n",
      "epoch 701: w = 2.108,loss=0.01690265\n",
      "epoch 801: w = 2.105,loss=0.01592013\n",
      "epoch 901: w = 2.102,loss=0.01499469\n",
      "Prediction after training:f(5)=10.204\n"
     ]
    }
   ],
   "source": [
    "import torch.nn as nn\n",
    "import torch\n",
    "\n",
    "X = torch.tensor([[1],[2],[3],[4]],dtype=torch.float32)\n",
    "Y = torch.tensor([[2],[4],[6],[8]],dtype=torch.float32)\n",
    "X_test = torch.tensor([5],dtype=torch.float32)\n",
    "num_smaples,num_features = X.shape\n",
    "\n",
    "# model prediction \n",
    "model = nn.Linear(num_features,num_features)           # this gves y_pred \n",
    "\n",
    "# loss \n",
    "loss = nn.MSELoss()\n",
    "optimizer = torch.optim.SGD(model.parameters(),lr=0.001)\n",
    "\n",
    "print(f'Prediction before training:f(5)={model(X_test.detach()).item():.3f}')\n",
    "\n",
    "# training \n",
    "n_iters = 1000\n",
    "\n",
    "for epoch in range(n_iters):\n",
    "    y_pred = model(X)              # y_pred \n",
    "    l = loss(Y,y_pred)             # loss \n",
    "    l.backward()                   # dL/dw\n",
    "    optimizer.step()               # update w \n",
    "    optimizer.zero_grad()          # zero grad \n",
    "        \n",
    "    if epoch % 100 ==0:\n",
    "        [w,b] = model.parameters()\n",
    "        print(f'epoch {epoch +1}: w = {w[0][0]:.3f},loss={l:.8f}')\n",
    "    \n",
    "    \n",
    "print(f'Prediction after training:f(5)={model(X_test.detach()).item():.3f}')"
   ]
  },
  {
   "cell_type": "code",
   "execution_count": null,
   "metadata": {},
   "outputs": [],
   "source": []
  }
 ],
 "metadata": {
  "kernelspec": {
   "display_name": "base",
   "language": "python",
   "name": "python3"
  },
  "language_info": {
   "codemirror_mode": {
    "name": "ipython",
    "version": 3
   },
   "file_extension": ".py",
   "mimetype": "text/x-python",
   "name": "python",
   "nbconvert_exporter": "python",
   "pygments_lexer": "ipython3",
   "version": "3.9.13"
  }
 },
 "nbformat": 4,
 "nbformat_minor": 2
}

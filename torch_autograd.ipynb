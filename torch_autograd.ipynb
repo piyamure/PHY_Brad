{
 "cells": [
  {
   "cell_type": "code",
   "execution_count": 16,
   "metadata": {},
   "outputs": [],
   "source": [
    "import numpy as np\n",
    "import torch "
   ]
  },
  {
   "cell_type": "code",
   "execution_count": 17,
   "metadata": {},
   "outputs": [
    {
     "name": "stdout",
     "output_type": "stream",
     "text": [
      "tensor([0.8152, 0.0337, 0.0456], requires_grad=True)\n"
     ]
    }
   ],
   "source": [
    "x = torch.rand(3,requires_grad=True)\n",
    "print(x)"
   ]
  },
  {
   "cell_type": "code",
   "execution_count": 18,
   "metadata": {},
   "outputs": [
    {
     "name": "stdout",
     "output_type": "stream",
     "text": [
      "tensor([2.8152, 2.0337, 2.0456], grad_fn=<AddBackward0>)\n"
     ]
    }
   ],
   "source": [
    "y = x +2 \n",
    "print(y)"
   ]
  },
  {
   "cell_type": "code",
   "execution_count": 22,
   "metadata": {},
   "outputs": [
    {
     "data": {
      "text/plain": [
       "tensor([1., 1., 1.])"
      ]
     },
     "execution_count": 22,
     "metadata": {},
     "output_type": "execute_result"
    }
   ],
   "source": [
    "y.backward(torch.ones_like(y))\n",
    "x.grad"
   ]
  },
  {
   "cell_type": "code",
   "execution_count": null,
   "metadata": {},
   "outputs": [
    {
     "name": "stdout",
     "output_type": "stream",
     "text": [
      "tensor([12.3585, 12.4411, 16.0932], grad_fn=<MulBackward0>)\n"
     ]
    }
   ],
   "source": [
    "z = y*y*2\n",
    "print(z)"
   ]
  },
  {
   "cell_type": "code",
   "execution_count": null,
   "metadata": {},
   "outputs": [
    {
     "name": "stdout",
     "output_type": "stream",
     "text": [
      "tensor(13.6309, grad_fn=<MeanBackward0>)\n"
     ]
    }
   ],
   "source": [
    "z = z.mean()\n",
    "print(z)"
   ]
  },
  {
   "cell_type": "code",
   "execution_count": null,
   "metadata": {},
   "outputs": [
    {
     "data": {
      "text/plain": [
       "tensor([3.3144, 3.3255, 3.7822])"
      ]
     },
     "execution_count": 13,
     "metadata": {},
     "output_type": "execute_result"
    }
   ],
   "source": [
    "z.backward()\n",
    "x.grad"
   ]
  },
  {
   "cell_type": "code",
   "execution_count": 26,
   "metadata": {},
   "outputs": [
    {
     "name": "stdout",
     "output_type": "stream",
     "text": [
      "tensor([0.2691, 0.6979, 0.4606], requires_grad=True)\n",
      "tensor([0.2691, 0.6979, 0.4606])\n"
     ]
    }
   ],
   "source": [
    "x = torch.rand(3,requires_grad=True)\n",
    "print(x)\n",
    "\n",
    "x.requires_grad_(False)\n",
    "print(x)"
   ]
  },
  {
   "cell_type": "code",
   "execution_count": 28,
   "metadata": {},
   "outputs": [
    {
     "name": "stdout",
     "output_type": "stream",
     "text": [
      "tensor([0.2794, 0.3515, 0.1432], requires_grad=True)\n",
      "tensor([0.2794, 0.3515, 0.1432])\n"
     ]
    }
   ],
   "source": [
    "x = torch.rand(3,requires_grad=True)\n",
    "print(x)\n",
    "\n",
    "y = x.detach()\n",
    "print(y)"
   ]
  },
  {
   "cell_type": "code",
   "execution_count": 30,
   "metadata": {},
   "outputs": [
    {
     "name": "stdout",
     "output_type": "stream",
     "text": [
      "tensor([3.6148, 1.6176, 1.7307])\n"
     ]
    }
   ],
   "source": [
    "x = torch.randn(3,requires_grad=True)\n",
    "with torch.no_grad():\n",
    "    y = x+2 \n",
    "    print(y)"
   ]
  },
  {
   "cell_type": "code",
   "execution_count": 32,
   "metadata": {},
   "outputs": [
    {
     "name": "stdout",
     "output_type": "stream",
     "text": [
      "tensor(12., grad_fn=<SumBackward0>)\n",
      "tensor([3., 3., 3., 3.])\n",
      "tensor(12., grad_fn=<SumBackward0>)\n",
      "tensor([6., 6., 6., 6.])\n",
      "tensor(12., grad_fn=<SumBackward0>)\n",
      "tensor([9., 9., 9., 9.])\n"
     ]
    }
   ],
   "source": [
    "weights = torch.ones(4,requires_grad=True)\n",
    "\n",
    "for eopoch in range(3):\n",
    "    model_output = (weights*3).sum()\n",
    "    print(model_output)\n",
    "    model_output.backward()\n",
    "    print(weights.grad)"
   ]
  },
  {
   "cell_type": "code",
   "execution_count": 33,
   "metadata": {},
   "outputs": [
    {
     "name": "stdout",
     "output_type": "stream",
     "text": [
      "tensor([3., 3., 3., 3.])\n",
      "tensor([3., 3., 3., 3.])\n",
      "tensor([3., 3., 3., 3.])\n"
     ]
    }
   ],
   "source": [
    "weights = torch.ones(4,requires_grad=True)\n",
    "\n",
    "for eopoch in range(3):\n",
    "    model_output = (weights*3).sum()\n",
    "    model_output.backward()\n",
    "    print(weights.grad)\n",
    "    weights.grad.zero_()"
   ]
  },
  {
   "cell_type": "markdown",
   "metadata": {},
   "source": [
    "### backpropergation \n",
    "\n",
    "* y = a(x)\n",
    "* z = b(y)\n",
    "\n",
    "* chain rule : $\\frac{\\partial z}{\\partial x} = \\frac{\\partial z}{\\partial y} \\cdot \\frac{\\partial y}{\\partial x}$\n",
    "\n",
    "* at each node (here, one computation is done) of the computational graph it finds the local gradient "
   ]
  },
  {
   "cell_type": "code",
   "execution_count": 35,
   "metadata": {},
   "outputs": [
    {
     "name": "stdout",
     "output_type": "stream",
     "text": [
      "tensor(0.2500, grad_fn=<PowBackward0>)\n"
     ]
    },
    {
     "data": {
      "text/plain": [
       "tensor(-1.)"
      ]
     },
     "execution_count": 35,
     "metadata": {},
     "output_type": "execute_result"
    }
   ],
   "source": [
    "x = torch.tensor(1.0)\n",
    "y = torch.tensor(2.0)\n",
    "\n",
    "w = torch.tensor(1.5,requires_grad=True)\n",
    "\n",
    "# forward pass\n",
    "y_hat = w*x\n",
    "loss = (y_hat - y)**2 \n",
    "print(loss)\n",
    "\n",
    "# backward pass \n",
    "loss.backward()\n",
    "w.grad\n"
   ]
  },
  {
   "cell_type": "markdown",
   "metadata": {},
   "source": [
    "### Gradient descent from backpropergation and autograd\n",
    "\n",
    "* 1. using numpy \n",
    "* 2. using pytorch"
   ]
  },
  {
   "cell_type": "code",
   "execution_count": 52,
   "metadata": {},
   "outputs": [
    {
     "name": "stdout",
     "output_type": "stream",
     "text": [
      "Prediction before training:f(5)=0.000\n",
      "epoch 1: w = 1.500,loss=30.00000000\n",
      "epoch 2: w = 1.500,loss=4.79999924\n",
      "epoch 3: w = 1.500,loss=0.76800019\n",
      "epoch 4: w = 1.500,loss=0.12288000\n",
      "epoch 5: w = 1.500,loss=0.01966083\n",
      "epoch 6: w = 1.500,loss=0.00314570\n",
      "epoch 7: w = 1.500,loss=0.00050332\n",
      "epoch 8: w = 1.500,loss=0.00008053\n",
      "epoch 9: w = 1.500,loss=0.00001288\n",
      "epoch 10: w = 1.500,loss=0.00000206\n",
      "Prediction after training:f(5)=9.999\n"
     ]
    }
   ],
   "source": [
    "# f = w*x with w=2 \n",
    "X = np.array([1,2,3,4],dtype=np.float32)\n",
    "Y = np.array([2,4,6,8],dtype=np.float32)\n",
    "\n",
    "W = 0.0 \n",
    "\n",
    "# model prediction \n",
    "def forward(x):\n",
    "    return W*x\n",
    "\n",
    "# loss \n",
    "def loss(y,y_pred):\n",
    "    return ((y-y_pred)**2).mean()\n",
    "\n",
    "# gradient \n",
    "# MSE = 1/N * (w*x-y)**2 \n",
    "# dJ/dw = 1/N* 2x * (w*x -y)\n",
    "\n",
    "def gradient(x,y,y_pred):\n",
    "    return np.dot(2*x, y_pred-y).mean()\n",
    "\n",
    "print(f'Prediction before training:f(5)={forward(5):.3f}')\n",
    "\n",
    "# training \n",
    "lr = 0.01\n",
    "n_iters = 10 \n",
    "\n",
    "for epoch in range(n_iters):\n",
    "    y_pred = forward(X)\n",
    "    l = loss(Y,y_pred)\n",
    "    \n",
    "    dw = gradient(X,Y,y_pred)\n",
    "    \n",
    "    W-=lr*dw\n",
    "    \n",
    "    if epoch % 1 ==0:\n",
    "        print(f'epoch {epoch +1}: w = {w:.3f},loss={l:.8f}')\n",
    "    \n",
    "    \n",
    "print(f'Prediction after training:f(5)={forward(5):.3f}')"
   ]
  },
  {
   "cell_type": "code",
   "execution_count": 51,
   "metadata": {},
   "outputs": [
    {
     "name": "stdout",
     "output_type": "stream",
     "text": [
      "epoch 1: w = 1.500,loss=30.00000000\n",
      "epoch 2: w = 1.500,loss=30.00000000\n",
      "epoch 3: w = 1.500,loss=30.00000000\n",
      "epoch 4: w = 1.500,loss=30.00000000\n",
      "epoch 5: w = 1.500,loss=30.00000000\n",
      "epoch 6: w = 1.500,loss=30.00000000\n",
      "epoch 7: w = 1.500,loss=30.00000000\n",
      "epoch 8: w = 1.500,loss=30.00000000\n",
      "epoch 9: w = 1.500,loss=30.00000000\n",
      "epoch 10: w = 1.500,loss=30.00000000\n"
     ]
    }
   ],
   "source": [
    "# f = w*x with w=2 \n",
    "X = torch.tensor([1,2,3,4],dtype=torch.float32)\n",
    "Y = torch.tensor([2,4,6,8],dtype=torch.float32)\n",
    "\n",
    "W = torch.tensor([0.0],dtype=torch.float32,requires_grad=True) \n",
    "\n",
    "# model prediction \n",
    "def forward(x):\n",
    "    return W*x\n",
    "\n",
    "# loss \n",
    "def loss(y,y_pred):\n",
    "    return ((y-y_pred)**2).mean()\n",
    "\n",
    "''' ### No gradient calculation is needed with pytorch\n",
    "# gradient \n",
    "# MSE = 1/N * (w*x-y)**2 \n",
    "# dJ/dw = 1/N* 2x * (w*x -y)\n",
    "\n",
    "def gradient(x,y,y_pred):\n",
    "    return np.dot(2*x, y_pred-y).mean()  '''\n",
    "\n",
    "#print(f'Prediction before training:f(5)={forward(5):.3f}')\n",
    "\n",
    "# training \n",
    "lr = 0.01\n",
    "n_iters = 10 \n",
    "\n",
    "for epoch in range(n_iters):\n",
    "    y_pred = forward(X)\n",
    "    \n",
    "    l = loss(Y,y_pred)\n",
    "    \n",
    "    #dw = gradient(X,Y,y_pred)\n",
    "    l.backward()\n",
    "    # W-=lr*dw\n",
    "    \n",
    "    with torch.no_grad():\n",
    "        W-=lr*w.grad\n",
    "        \n",
    "    w.grad.zero_()\n",
    "        \n",
    "    \n",
    "    if epoch % 1 ==0:\n",
    "        print(f'epoch {epoch +1}: w = {w:.3f},loss={l:.8f}')\n",
    "    \n",
    "    \n",
    "#print(f'Prediction after training:f(5)={forward(5):.3f}')"
   ]
  },
  {
   "cell_type": "markdown",
   "metadata": {},
   "source": [
    "1. design our model (input size, output size, forward pass)\n",
    "\n",
    "2. construct loss and optimizer \n",
    "\n",
    "3. Training loop\n",
    "\n",
    "    - forward pass: compute prediction \n",
    "    - backward pass: gradients \n",
    "    - update the weights \n",
    "\n",
    "    "
   ]
  },
  {
   "cell_type": "code",
   "execution_count": 12,
   "metadata": {},
   "outputs": [
    {
     "name": "stdout",
     "output_type": "stream",
     "text": [
      "epoch 1: w = 0.300,loss=30.00000000\n",
      "epoch 2: w = 0.555,loss=21.67499924\n",
      "epoch 3: w = 0.772,loss=15.66018772\n",
      "epoch 4: w = 0.956,loss=11.31448650\n",
      "epoch 5: w = 1.113,loss=8.17471695\n",
      "epoch 6: w = 1.246,loss=5.90623236\n",
      "epoch 7: w = 1.359,loss=4.26725292\n",
      "epoch 8: w = 1.455,loss=3.08308983\n",
      "epoch 9: w = 1.537,loss=2.22753215\n",
      "epoch 10: w = 1.606,loss=1.60939169\n"
     ]
    }
   ],
   "source": [
    "import torch.nn as nn\n",
    "import torch\n",
    "\n",
    "X = torch.tensor([1,2,3,4],dtype=torch.float32)\n",
    "Y = torch.tensor([2,4,6,8],dtype=torch.float32)\n",
    "\n",
    "W = torch.tensor(0.0,dtype=torch.float32,requires_grad=True) \n",
    "\n",
    "# model prediction \n",
    "def forward(x):\n",
    "    return W*x\n",
    "\n",
    "# loss \n",
    "loss = nn.MSELoss()\n",
    "optimizer = torch.optim.SGD([W],lr=0.01)\n",
    "\n",
    "\n",
    "#print(f'Prediction before training:f(5)={forward(5):.3f}')\n",
    "\n",
    "# training \n",
    "n_iters = 10 \n",
    "\n",
    "for epoch in range(n_iters):\n",
    "    y_pred = forward(X)\n",
    "    \n",
    "    l = loss(Y,y_pred)\n",
    "    \n",
    "    #dw = gradient(X,Y,y_pred)\n",
    "    l.backward()\n",
    "    # W-=lr*dw\n",
    "    \n",
    "    optimizer.step()\n",
    "        \n",
    "    optimizer.zero_grad()\n",
    "        \n",
    "    \n",
    "    if epoch % 1 ==0:\n",
    "        print(f'epoch {epoch +1}: w = {W:.3f},loss={l:.8f}')\n",
    "    \n"
   ]
  },
  {
   "cell_type": "code",
   "execution_count": 23,
   "metadata": {},
   "outputs": [
    {
     "name": "stdout",
     "output_type": "stream",
     "text": [
      "epoch 1: w = -0.378,loss=39.10869217\n",
      "epoch 101: w = 1.270,loss=1.52484441\n",
      "epoch 201: w = 1.584,loss=0.21986008\n",
      "epoch 301: w = 1.651,loss=0.16517991\n",
      "epoch 401: w = 1.671,loss=0.15413493\n",
      "epoch 501: w = 1.683,loss=0.14512549\n",
      "epoch 601: w = 1.692,loss=0.13668759\n",
      "epoch 701: w = 1.701,loss=0.12874195\n",
      "epoch 801: w = 1.710,loss=0.12125830\n",
      "epoch 901: w = 1.719,loss=0.11420970\n",
      "Prediction after training:f(5)=9.438\n"
     ]
    }
   ],
   "source": [
    "import torch.nn as nn\n",
    "import torch\n",
    "\n",
    "X = torch.tensor([[1],[2],[3],[4]],dtype=torch.float32)\n",
    "Y = torch.tensor([[2],[4],[6],[8]],dtype=torch.float32)\n",
    "X_test = torch.tensor([5],dtype=torch.float32)\n",
    "num_smaples,num_features = X.shape\n",
    "\n",
    "# model prediction \n",
    "model = nn.Linear(num_features,num_features)\n",
    "\n",
    "# loss \n",
    "loss = nn.MSELoss()\n",
    "optimizer = torch.optim.SGD(model.parameters(),lr=0.001)\n",
    "\n",
    "\n",
    "#print(f'Prediction before training:f(5)={forward(5):.3f}')\n",
    "\n",
    "# training \n",
    "n_iters = 1000\n",
    "\n",
    "for epoch in range(n_iters):\n",
    "    y_pred = model(X)\n",
    "    \n",
    "    l = loss(Y,y_pred)\n",
    "    \n",
    "    #dw = gradient(X,Y,y_pred)\n",
    "    l.backward()\n",
    "    # W-=lr*dw\n",
    "    \n",
    "    optimizer.step()\n",
    "        \n",
    "    optimizer.zero_grad()\n",
    "        \n",
    "    \n",
    "    if epoch % 100 ==0:\n",
    "        [w,b] = model.parameters()\n",
    "        print(f'epoch {epoch +1}: w = {w[0][0]:.3f},loss={l:.8f}')\n",
    "    \n",
    "    \n",
    "print(f'Prediction after training:f(5)={model(X_test).item():.3f}')"
   ]
  },
  {
   "cell_type": "code",
   "execution_count": null,
   "metadata": {},
   "outputs": [],
   "source": []
  }
 ],
 "metadata": {
  "kernelspec": {
   "display_name": "base",
   "language": "python",
   "name": "python3"
  },
  "language_info": {
   "codemirror_mode": {
    "name": "ipython",
    "version": 3
   },
   "file_extension": ".py",
   "mimetype": "text/x-python",
   "name": "python",
   "nbconvert_exporter": "python",
   "pygments_lexer": "ipython3",
   "version": "3.9.13"
  }
 },
 "nbformat": 4,
 "nbformat_minor": 2
}

{
 "cells": [
  {
   "cell_type": "code",
   "execution_count": 1,
   "metadata": {},
   "outputs": [],
   "source": [
    "import numpy as np\n",
    "import torch "
   ]
  },
  {
   "cell_type": "markdown",
   "metadata": {},
   "source": [
    "### Pytorch gradient calculation "
   ]
  },
  {
   "cell_type": "markdown",
   "metadata": {},
   "source": [
    "* If we deine a varibale with **requires_grad=True**, then we can find a gradient of that function with respect to that variable\n",
    "\n",
    "* If the final function is a scaler then, the gradient implimentation w.r.t. that variable is simple\n",
    "    - for ex: f = average(), then f.balkward() and x.grad is enough \n",
    "\n",
    "* But if the final function is a vector valued function, then when we call backward function we need to insert another array to get the correct gradient out\n",
    "    - ex. f = torch.sin(x), then f.backward(torch.ones_like(f)), AND  x.grad is needed "
   ]
  },
  {
   "cell_type": "markdown",
   "metadata": {},
   "source": [
    "### Example 01: Gradient of vector function "
   ]
  },
  {
   "cell_type": "code",
   "execution_count": 2,
   "metadata": {},
   "outputs": [
    {
     "name": "stdout",
     "output_type": "stream",
     "text": [
      "tensor([0.8099, 0.9596, 0.7738], requires_grad=True)\n"
     ]
    }
   ],
   "source": [
    "x = torch.rand(3,requires_grad=True)\n",
    "print(x)"
   ]
  },
  {
   "cell_type": "code",
   "execution_count": 3,
   "metadata": {},
   "outputs": [
    {
     "name": "stdout",
     "output_type": "stream",
     "text": [
      "tensor([2.8099, 2.9596, 2.7738], grad_fn=<AddBackward0>)\n"
     ]
    }
   ],
   "source": [
    "y = x + 2 \n",
    "print(y)"
   ]
  },
  {
   "cell_type": "code",
   "execution_count": 4,
   "metadata": {},
   "outputs": [
    {
     "data": {
      "text/plain": [
       "tensor([1., 1., 1.])"
      ]
     },
     "execution_count": 4,
     "metadata": {},
     "output_type": "execute_result"
    }
   ],
   "source": [
    "y.backward(torch.ones_like(y))\n",
    "x.grad"
   ]
  },
  {
   "cell_type": "code",
   "execution_count": 5,
   "metadata": {},
   "outputs": [
    {
     "name": "stdout",
     "output_type": "stream",
     "text": [
      "tensor([15.7907, 17.5183, 15.3877], grad_fn=<MulBackward0>)\n"
     ]
    }
   ],
   "source": [
    "z = y*y*2\n",
    "print(z)"
   ]
  },
  {
   "cell_type": "markdown",
   "metadata": {},
   "source": [
    "### Example 02: Gradient of scaler valued fucntion "
   ]
  },
  {
   "cell_type": "code",
   "execution_count": 6,
   "metadata": {},
   "outputs": [
    {
     "name": "stdout",
     "output_type": "stream",
     "text": [
      "tensor(16.2323, grad_fn=<MeanBackward0>)\n"
     ]
    }
   ],
   "source": [
    "z = z.mean()\n",
    "print(z)"
   ]
  },
  {
   "cell_type": "code",
   "execution_count": 7,
   "metadata": {},
   "outputs": [
    {
     "data": {
      "text/plain": [
       "tensor([4.7465, 4.9461, 4.6984])"
      ]
     },
     "execution_count": 7,
     "metadata": {},
     "output_type": "execute_result"
    }
   ],
   "source": [
    "z.backward()\n",
    "x.grad"
   ]
  },
  {
   "cell_type": "markdown",
   "metadata": {},
   "source": [
    "### Example 03: How to get the jacobian of a matrix? \n",
    "\n",
    "1. using the torch inbuilt jacobian function (Note:this is very slow in computing)\n",
    "\n",
    "   https://stackoverflow.com/questions/54754153/autograd-grad-for-tensor-in-pytorch\n",
    "\n",
    "2. utilize torch.autograd.grad() to get jacobian matrix elements along the batch dimension "
   ]
  },
  {
   "cell_type": "markdown",
   "metadata": {},
   "source": [
    "Toy problem to get jacobian: \n",
    "\n",
    "* $B_x = x^3 -y^2, B_y = y^2 + z^2, B_z = z^3 - x^2$"
   ]
  },
  {
   "cell_type": "code",
   "execution_count": 8,
   "metadata": {},
   "outputs": [],
   "source": [
    "import torch \n",
    "\n",
    "x = torch.arange(0,10,dtype=torch.float32,requires_grad=True)\n",
    "y = torch.arange(0,10,dtype=torch.float32,requires_grad=True)\n",
    "z = torch.arange(0,10,dtype=torch.float32,requires_grad=True)\n",
    "\n",
    "Bx = x**3 - y**2\n",
    "By = y**2 + z**2 \n",
    "Bz = z**3 - x**2"
   ]
  },
  {
   "cell_type": "code",
   "execution_count": 9,
   "metadata": {},
   "outputs": [
    {
     "data": {
      "text/plain": [
       "tensor([[  0.,   0.,   0.],\n",
       "        [  0.,   2.,   0.],\n",
       "        [  4.,   8.,   4.],\n",
       "        [ 18.,  18.,  18.],\n",
       "        [ 48.,  32.,  48.],\n",
       "        [100.,  50., 100.],\n",
       "        [180.,  72., 180.],\n",
       "        [294.,  98., 294.],\n",
       "        [448., 128., 448.],\n",
       "        [648., 162., 648.]], grad_fn=<StackBackward0>)"
      ]
     },
     "execution_count": 9,
     "metadata": {},
     "output_type": "execute_result"
    }
   ],
   "source": [
    "B = torch.stack([Bx,By,Bz],dim=1)\n",
    "B"
   ]
  },
  {
   "cell_type": "code",
   "execution_count": 10,
   "metadata": {},
   "outputs": [],
   "source": [
    "# get the gradinet of y w.r.t. x (in our case x is along the batch-dim)\n",
    "def get_grad(y,x):\n",
    "    return torch.autograd.grad(y,[x],torch.ones_like(y),create_graph=True,allow_unused=True)[0]\n",
    "\n",
    "# this find the columns of jacobian matrix \n",
    "def get_jacob_col(Y,x):\n",
    "    jacob_col = []\n",
    "    for ii in range(Y.shape[-1]):\n",
    "        jacob_col.append(get_grad(Y[:,ii],x).unsqueeze(dim=1)) \n",
    "    return torch.cat(jacob_col,dim=1)\n",
    "\n",
    "# note shape of Y (batch_dim,output_dim), x(batch_dim) -> returns (batch_dim,output_dim,input_dim)\n",
    "# here input dim is 3 (x1,x2,x3)\n",
    "def get_jacob(Y,x1,x2,x3):\n",
    "    Jx = get_jacob_col(Y,x1)\n",
    "    Jy = get_jacob_col(Y,x2)\n",
    "    Jz = get_jacob_col(Y,x3)\n",
    "    return torch.stack((Jx,Jy,Jz),dim=1).permute(0,2,1)\n",
    "    "
   ]
  },
  {
   "cell_type": "code",
   "execution_count": 11,
   "metadata": {},
   "outputs": [
    {
     "data": {
      "text/plain": [
       "tensor([[[  0.,   0.,   0.],\n",
       "         [  0.,   0.,   0.],\n",
       "         [  0.,   0.,   0.]],\n",
       "\n",
       "        [[  3.,  -2.,   0.],\n",
       "         [  0.,   2.,   2.],\n",
       "         [ -2.,   0.,   3.]],\n",
       "\n",
       "        [[ 12.,  -4.,   0.],\n",
       "         [  0.,   4.,   4.],\n",
       "         [ -4.,   0.,  12.]],\n",
       "\n",
       "        [[ 27.,  -6.,   0.],\n",
       "         [  0.,   6.,   6.],\n",
       "         [ -6.,   0.,  27.]],\n",
       "\n",
       "        [[ 48.,  -8.,   0.],\n",
       "         [  0.,   8.,   8.],\n",
       "         [ -8.,   0.,  48.]],\n",
       "\n",
       "        [[ 75., -10.,   0.],\n",
       "         [  0.,  10.,  10.],\n",
       "         [-10.,   0.,  75.]],\n",
       "\n",
       "        [[108., -12.,   0.],\n",
       "         [  0.,  12.,  12.],\n",
       "         [-12.,   0., 108.]],\n",
       "\n",
       "        [[147., -14.,   0.],\n",
       "         [  0.,  14.,  14.],\n",
       "         [-14.,   0., 147.]],\n",
       "\n",
       "        [[192., -16.,   0.],\n",
       "         [  0.,  16.,  16.],\n",
       "         [-16.,   0., 192.]],\n",
       "\n",
       "        [[243., -18.,   0.],\n",
       "         [  0.,  18.,  18.],\n",
       "         [-18.,   0., 243.]]], grad_fn=<PermuteBackward0>)"
      ]
     },
     "execution_count": 11,
     "metadata": {},
     "output_type": "execute_result"
    }
   ],
   "source": [
    "get_jacob(B,x,y,z)"
   ]
  },
  {
   "cell_type": "markdown",
   "metadata": {},
   "source": [
    "* (b) Let's use pytorch inbuilt  **jacobian** function to get the jacobin for our toy problem "
   ]
  },
  {
   "cell_type": "code",
   "execution_count": 12,
   "metadata": {},
   "outputs": [],
   "source": [
    "import torch \n",
    "\n",
    "x = torch.arange(0,10,dtype=torch.float32,requires_grad=True)\n",
    "y = torch.arange(0,10,dtype=torch.float32,requires_grad=True)\n",
    "z = torch.arange(0,10,dtype=torch.float32,requires_grad=True)\n",
    "\n",
    "def get_B(X):\n",
    "    Bx = X[:,0]**3 - X[:,1]**2\n",
    "    By = X[:,1]**2 + X[:,2]**2 \n",
    "    Bz = X[:,2]**3 - X[:,0]**2\n",
    "    B = torch.stack([Bx,By,Bz],dim=1)\n",
    "    return B\n",
    "\n",
    "X = torch.stack([x,y,z],dim=1)\n"
   ]
  },
  {
   "cell_type": "code",
   "execution_count": 13,
   "metadata": {},
   "outputs": [],
   "source": [
    "#using torch.autograd.functional.jacobian\n",
    "B_jacob = torch.autograd.functional.jacobian(get_B,X) \n",
    "#the off-diagonal elements of 0th and 2nd dimension are all zero. So we remove them\n",
    "B_grad  = torch.diagonal(B_jacob,offset=0,dim1=0,dim2=2)                   # (output_dim, input_dim, batch_size)\n",
    "B_grad  = B_grad.permute(2,0,1)       "
   ]
  },
  {
   "cell_type": "code",
   "execution_count": 14,
   "metadata": {},
   "outputs": [
    {
     "data": {
      "text/plain": [
       "tensor([[[  0.,   0.,   0.],\n",
       "         [  0.,   0.,   0.],\n",
       "         [  0.,   0.,   0.]],\n",
       "\n",
       "        [[  3.,  -2.,   0.],\n",
       "         [  0.,   2.,   2.],\n",
       "         [ -2.,   0.,   3.]],\n",
       "\n",
       "        [[ 12.,  -4.,   0.],\n",
       "         [  0.,   4.,   4.],\n",
       "         [ -4.,   0.,  12.]],\n",
       "\n",
       "        [[ 27.,  -6.,   0.],\n",
       "         [  0.,   6.,   6.],\n",
       "         [ -6.,   0.,  27.]],\n",
       "\n",
       "        [[ 48.,  -8.,   0.],\n",
       "         [  0.,   8.,   8.],\n",
       "         [ -8.,   0.,  48.]],\n",
       "\n",
       "        [[ 75., -10.,   0.],\n",
       "         [  0.,  10.,  10.],\n",
       "         [-10.,   0.,  75.]],\n",
       "\n",
       "        [[108., -12.,   0.],\n",
       "         [  0.,  12.,  12.],\n",
       "         [-12.,   0., 108.]],\n",
       "\n",
       "        [[147., -14.,   0.],\n",
       "         [  0.,  14.,  14.],\n",
       "         [-14.,   0., 147.]],\n",
       "\n",
       "        [[192., -16.,   0.],\n",
       "         [  0.,  16.,  16.],\n",
       "         [-16.,   0., 192.]],\n",
       "\n",
       "        [[243., -18.,   0.],\n",
       "         [  0.,  18.,  18.],\n",
       "         [-18.,   0., 243.]]])"
      ]
     },
     "execution_count": 14,
     "metadata": {},
     "output_type": "execute_result"
    }
   ],
   "source": [
    "B_grad"
   ]
  },
  {
   "cell_type": "markdown",
   "metadata": {},
   "source": [
    "### How to prevent gradient tracking of a varibale  \n",
    "\n",
    "- x.requires_grad_(False)\n",
    "- x.detach()\n",
    "- or using torch.no_grad() context manager "
   ]
  },
  {
   "cell_type": "code",
   "execution_count": 15,
   "metadata": {},
   "outputs": [
    {
     "name": "stdout",
     "output_type": "stream",
     "text": [
      "tensor([0.7201, 0.3558, 0.4785], requires_grad=True)\n",
      "tensor([0.7201, 0.3558, 0.4785])\n"
     ]
    }
   ],
   "source": [
    "x = torch.rand(3,requires_grad=True)\n",
    "print(x)\n",
    "\n",
    "# if we want to prevent gradient tracking of varible x \n",
    "x.requires_grad_(False)\n",
    "print(x)"
   ]
  },
  {
   "cell_type": "code",
   "execution_count": 16,
   "metadata": {},
   "outputs": [
    {
     "name": "stdout",
     "output_type": "stream",
     "text": [
      "tensor([0.7154, 0.2369, 0.9745], requires_grad=True)\n",
      "tensor([0.7154, 0.2369, 0.9745])\n"
     ]
    }
   ],
   "source": [
    "x = torch.rand(3,requires_grad=True)\n",
    "print(x)\n",
    "\n",
    "# remove gradient tracking of variable x \n",
    "y = x.detach()\n",
    "print(y)"
   ]
  },
  {
   "cell_type": "code",
   "execution_count": 17,
   "metadata": {},
   "outputs": [
    {
     "name": "stdout",
     "output_type": "stream",
     "text": [
      "tensor([1.8116, 3.0144, 1.4517])\n"
     ]
    }
   ],
   "source": [
    "x = torch.randn(3,requires_grad=True)\n",
    "\n",
    "with torch.no_grad(): # don't track gradient here \n",
    "    y = x+2 \n",
    "    print(y)"
   ]
  },
  {
   "cell_type": "markdown",
   "metadata": {},
   "source": [
    "### How to stop accumulation of gradients (zero-outing gradients)"
   ]
  },
  {
   "cell_type": "code",
   "execution_count": 18,
   "metadata": {},
   "outputs": [
    {
     "name": "stdout",
     "output_type": "stream",
     "text": [
      "tensor(12., grad_fn=<SumBackward0>)\n",
      "tensor([3., 3., 3., 3.])\n",
      "tensor(12., grad_fn=<SumBackward0>)\n",
      "tensor([6., 6., 6., 6.])\n",
      "tensor(12., grad_fn=<SumBackward0>)\n",
      "tensor([9., 9., 9., 9.])\n"
     ]
    }
   ],
   "source": [
    "weights = torch.ones(4,requires_grad=True)\n",
    "\n",
    "for eopoch in range(3):\n",
    "    model_output = (weights*3).sum()\n",
    "    print(model_output)\n",
    "    model_output.backward()\n",
    "    print(weights.grad)"
   ]
  },
  {
   "cell_type": "code",
   "execution_count": 19,
   "metadata": {},
   "outputs": [
    {
     "name": "stdout",
     "output_type": "stream",
     "text": [
      "tensor([3., 3., 3., 3.])\n",
      "tensor([3., 3., 3., 3.])\n",
      "tensor([3., 3., 3., 3.])\n"
     ]
    }
   ],
   "source": [
    "weights = torch.tensor([1.,2.,3.,4.],dtype=torch.float32,requires_grad=True)\n",
    "\n",
    "for eopoch in range(3):\n",
    "    model_output = (weights*3).sum()\n",
    "    model_output.backward()\n",
    "    print(weights.grad)\n",
    "    weights.grad.zero_()"
   ]
  },
  {
   "cell_type": "markdown",
   "metadata": {},
   "source": [
    "### Backpropergation: chain rule to get the derivtive of function (final) w.r.t wieght parameter\n",
    "\n",
    "* y = a(x)\n",
    "* z = b(y)\n",
    "\n",
    "* chain rule : $\\frac{\\partial z}{\\partial x} = \\frac{\\partial z}{\\partial y} \\cdot \\frac{\\partial y}{\\partial x}$\n",
    "\n",
    "* at each node (**one type of computation is done here**) of the computational graph it finds the local gradient "
   ]
  },
  {
   "cell_type": "code",
   "execution_count": 20,
   "metadata": {},
   "outputs": [
    {
     "name": "stdout",
     "output_type": "stream",
     "text": [
      "loss value = 0.25\n",
      "gradient of loss w.r.t. w = -1.0\n"
     ]
    }
   ],
   "source": [
    "x = torch.tensor(1.0)\n",
    "y = torch.tensor(2.0)\n",
    "\n",
    "w = torch.tensor(1.5,requires_grad=True)\n",
    "\n",
    "# forward pass\n",
    "y_hat = w*x\n",
    "loss = (y_hat - y)**2 \n",
    "print(f'loss value = {loss}')\n",
    "\n",
    "# backward pass \n",
    "loss.backward()\n",
    "print(f'gradient of loss w.r.t. w = {w.grad}')\n"
   ]
  },
  {
   "cell_type": "markdown",
   "metadata": {},
   "source": [
    "### Gradient descent: Way to optimize the weight to reduce the error function \n",
    "\n",
    "1. First we are going to update weights using **numpy** , note that we need to know the derivatives of the error function w.r.t. weights  \n",
    "\n",
    "2. Advantage of using **Pytorch** is it find the gradient for us, we don't need to manually implement the gradient computation w.r.t. weights "
   ]
  },
  {
   "cell_type": "code",
   "execution_count": 21,
   "metadata": {},
   "outputs": [
    {
     "name": "stdout",
     "output_type": "stream",
     "text": [
      "Prediction before training:f(5)=0.000\n",
      "epoch 1: w = 1.500,loss=30.00000000\n",
      "epoch 2: w = 1.500,loss=4.79999924\n",
      "epoch 3: w = 1.500,loss=0.76800019\n",
      "epoch 4: w = 1.500,loss=0.12288000\n",
      "epoch 5: w = 1.500,loss=0.01966083\n",
      "epoch 6: w = 1.500,loss=0.00314570\n",
      "epoch 7: w = 1.500,loss=0.00050332\n",
      "epoch 8: w = 1.500,loss=0.00008053\n",
      "epoch 9: w = 1.500,loss=0.00001288\n",
      "epoch 10: w = 1.500,loss=0.00000206\n",
      "Prediction after training:f(5)=9.999\n"
     ]
    }
   ],
   "source": [
    "# f = w*x with w=2 \n",
    "X = np.array([1,2,3,4],dtype=np.float32)\n",
    "Y = np.array([2,4,6,8],dtype=np.float32)\n",
    "\n",
    "# weight paramter (we want to update this)\n",
    "W = 0.0 \n",
    "\n",
    "# model prediction \n",
    "def forward(x):\n",
    "    return W*x\n",
    "\n",
    "# loss \n",
    "def loss(y,y_pred):\n",
    "    return ((y-y_pred)**2).mean()\n",
    "\n",
    "# gradient \n",
    "# MSE = 1/N * (w*x-y)**2 \n",
    "# dJ/dw = 1/N* 2x * (w*x -y)\n",
    "\n",
    "# gradinet of loss w.r.t. weight \n",
    "def gradient(x,y,y_pred):\n",
    "    return np.dot(2*x, y_pred-y).mean()\n",
    "\n",
    "print(f'Prediction before training:f(5)={forward(5):.3f}')\n",
    "\n",
    "# training \n",
    "lr = 0.01\n",
    "n_iters = 10 \n",
    "\n",
    "for epoch in range(n_iters):\n",
    "    y_pred = forward(X)             # y_pred \n",
    "    l = loss(Y,y_pred)              # loss   \n",
    "    dw = gradient(X,Y,y_pred)       # dL/dw\n",
    "    W-=lr*dw                        # update w \n",
    "    \n",
    "    if epoch % 1 ==0:\n",
    "        print(f'epoch {epoch +1}: w = {w:.3f},loss={l:.8f}')\n",
    "    \n",
    "    \n",
    "print(f'Prediction after training:f(5)={forward(5):.3f}')"
   ]
  },
  {
   "cell_type": "code",
   "execution_count": 22,
   "metadata": {},
   "outputs": [
    {
     "name": "stdout",
     "output_type": "stream",
     "text": [
      "epoch 1: w = 0.300,loss=30.00000000\n",
      "epoch 3: w = 0.772,loss=15.66018772\n",
      "epoch 5: w = 1.113,loss=8.17471695\n",
      "epoch 7: w = 1.359,loss=4.26725292\n",
      "epoch 9: w = 1.537,loss=2.22753215\n"
     ]
    }
   ],
   "source": [
    "# f = w*x with w=2 \n",
    "X = torch.tensor([1,2,3,4],dtype=torch.float32) \n",
    "Y = torch.tensor([2,4,6,8],dtype=torch.float32)\n",
    "W = torch.tensor(0.0,dtype=torch.float32,requires_grad=True)  \n",
    "\n",
    "# model prediction \n",
    "def forward(x):\n",
    "    return W*x\n",
    "\n",
    "# loss \n",
    "def loss(y,y_pred):\n",
    "    return ((y-y_pred)**2).mean()\n",
    "\n",
    "# training \n",
    "lr = 0.01\n",
    "n_iters = 10 \n",
    "\n",
    "for epoch in range(n_iters):\n",
    "    y_pred = forward(X)      # y_pred \n",
    "    l = loss(Y,y_pred)       # loss \n",
    "    l.backward()             # dL/dw \n",
    "    with torch.no_grad():\n",
    "        W-=lr*W.grad         # update weight \n",
    "    W.grad.zero_()           # zero-out gradient \n",
    "        \n",
    "    if epoch % 2 ==0:\n",
    "        print(f'epoch {epoch +1}: w = {W:.3f},loss={l:.8f}')"
   ]
  },
  {
   "cell_type": "markdown",
   "metadata": {},
   "source": [
    "#### This example shows the usage of **pytorch** in-buit functions to make the gradient descent easy\n",
    "- nn.MSELoss() to get the error \n",
    "- torch.optim.SGD() to manully update the weights s.t. minimize the error(or to do gradient decent)"
   ]
  },
  {
   "cell_type": "code",
   "execution_count": 23,
   "metadata": {},
   "outputs": [
    {
     "name": "stdout",
     "output_type": "stream",
     "text": [
      "epoch 1: w = 0.300,loss=30.00000000\n",
      "epoch 2: w = 0.555,loss=21.67499924\n",
      "epoch 3: w = 0.772,loss=15.66018772\n",
      "epoch 4: w = 0.956,loss=11.31448650\n",
      "epoch 5: w = 1.113,loss=8.17471695\n",
      "epoch 6: w = 1.246,loss=5.90623236\n",
      "epoch 7: w = 1.359,loss=4.26725292\n",
      "epoch 8: w = 1.455,loss=3.08308983\n",
      "epoch 9: w = 1.537,loss=2.22753215\n",
      "epoch 10: w = 1.606,loss=1.60939169\n"
     ]
    }
   ],
   "source": [
    "import torch.nn as nn\n",
    "import torch\n",
    "\n",
    "X = torch.tensor([1,2,3,4],dtype=torch.float32)\n",
    "Y = torch.tensor([2,4,6,8],dtype=torch.float32)\n",
    "\n",
    "W = torch.tensor(0.0,dtype=torch.float32,requires_grad=True) \n",
    "\n",
    "# model prediction \n",
    "def forward(x):\n",
    "    return W*x\n",
    "\n",
    "# loss \n",
    "loss = nn.MSELoss()\n",
    "optimizer = torch.optim.SGD([W],lr=0.01)\n",
    "\n",
    "# training \n",
    "n_iters = 10 \n",
    "\n",
    "for epoch in range(n_iters):\n",
    "    y_pred = forward(X)         # y_pred \n",
    "    l = loss(Y,y_pred)          # loss \n",
    "    l.backward()                # dl/dw\n",
    "    optimizer.step()            # update w \n",
    "    optimizer.zero_grad()       # zero-out gradient \n",
    "    \n",
    "    if epoch % 1 ==0:\n",
    "        print(f'epoch {epoch +1}: w = {W:.3f},loss={l:.8f}')\n",
    "    \n"
   ]
  },
  {
   "cell_type": "markdown",
   "metadata": {},
   "source": [
    "### Using all **Pytorch** functions "
   ]
  },
  {
   "cell_type": "markdown",
   "metadata": {},
   "source": [
    "1. Design the model (input size, output size, forward pass)\n",
    "\n",
    "2. Construct loss and optimizer \n",
    "\n",
    "3. Training loop:\n",
    "\n",
    "    - forward pass: compute prediction \n",
    "    - backward pass: gradients \n",
    "    - update the weights "
   ]
  },
  {
   "cell_type": "code",
   "execution_count": 24,
   "metadata": {},
   "outputs": [
    {
     "name": "stdout",
     "output_type": "stream",
     "text": [
      "Prediction before training:f(5)=1.973\n",
      "epoch 1: w = 0.535,loss=21.27290535\n",
      "epoch 101: w = 1.744,loss=0.73334575\n",
      "epoch 201: w = 1.968,loss=0.02578374\n",
      "epoch 301: w = 2.009,loss=0.00137958\n",
      "epoch 401: w = 2.016,loss=0.00051042\n",
      "epoch 501: w = 2.017,loss=0.00045357\n",
      "epoch 601: w = 2.017,loss=0.00042627\n",
      "epoch 701: w = 2.017,loss=0.00040146\n",
      "epoch 801: w = 2.016,loss=0.00037816\n",
      "epoch 901: w = 2.016,loss=0.00035621\n",
      "Prediction after training:f(5)=10.031\n"
     ]
    }
   ],
   "source": [
    "import torch.nn as nn\n",
    "import torch\n",
    "\n",
    "X = torch.tensor([[1],[2],[3],[4]],dtype=torch.float32)\n",
    "Y = torch.tensor([[2],[4],[6],[8]],dtype=torch.float32)\n",
    "X_test = torch.tensor([5],dtype=torch.float32)\n",
    "num_smaples,num_features = X.shape\n",
    "\n",
    "# model prediction \n",
    "model = nn.Linear(num_features,num_features)           # this gves y_pred \n",
    "\n",
    "# loss \n",
    "loss = nn.MSELoss()\n",
    "optimizer = torch.optim.SGD(model.parameters(),lr=0.001)\n",
    "\n",
    "print(f'Prediction before training:f(5)={model(X_test.detach()).item():.3f}')\n",
    "\n",
    "# training \n",
    "n_iters = 1000\n",
    "\n",
    "for epoch in range(n_iters):\n",
    "    y_pred = model(X)              # y_pred \n",
    "    l = loss(Y,y_pred)             # loss \n",
    "    l.backward()                   # dL/dw\n",
    "    optimizer.step()               # update w \n",
    "    optimizer.zero_grad()          # zero grad \n",
    "        \n",
    "    if epoch % 100 ==0:\n",
    "        [w,b] = model.parameters()\n",
    "        print(f'epoch {epoch +1}: w = {w[0][0]:.3f},loss={l:.8f}')\n",
    "    \n",
    "    \n",
    "print(f'Prediction after training:f(5)={model(X_test.detach()).item():.3f}')"
   ]
  },
  {
   "cell_type": "code",
   "execution_count": null,
   "metadata": {},
   "outputs": [],
   "source": []
  }
 ],
 "metadata": {
  "kernelspec": {
   "display_name": "base",
   "language": "python",
   "name": "python3"
  },
  "language_info": {
   "codemirror_mode": {
    "name": "ipython",
    "version": 3
   },
   "file_extension": ".py",
   "mimetype": "text/x-python",
   "name": "python",
   "nbconvert_exporter": "python",
   "pygments_lexer": "ipython3",
   "version": "3.9.13"
  }
 },
 "nbformat": 4,
 "nbformat_minor": 2
}

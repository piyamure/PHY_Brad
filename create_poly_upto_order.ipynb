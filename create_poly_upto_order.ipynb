{
 "cells": [
  {
   "cell_type": "code",
   "execution_count": 4,
   "metadata": {},
   "outputs": [],
   "source": [
    "import numpy as np\n",
    "from create_poly_lib import get_poly_lib"
   ]
  },
  {
   "cell_type": "code",
   "execution_count": 5,
   "metadata": {},
   "outputs": [
    {
     "data": {
      "text/plain": [
       "array([[ 1.        ,  1.        ,  0.5       ,  0.25      ,  1.        ,\n",
       "         0.5       ,  0.25      ,  0.25      ,  0.125     ,  0.0625    ,\n",
       "         1.        ,  0.5       ,  0.25      ,  0.25      ,  0.125     ,\n",
       "         0.0625    ,  0.125     ,  0.0625    ,  0.03125   ,  0.015625  ,\n",
       "         1.        ,  0.5       ,  0.25      ,  0.25      ,  0.125     ,\n",
       "         0.0625    ,  0.125     ,  0.0625    ,  0.03125   ,  0.015625  ,\n",
       "         0.0625    ,  0.03125   ,  0.015625  ,  0.0078125 ,  0.00390625],\n",
       "       [ 1.        , -1.        , -0.45      ,  0.95      ,  1.        ,\n",
       "         0.45      , -0.95      ,  0.2025    , -0.4275    ,  0.9025    ,\n",
       "        -1.        , -0.45      ,  0.95      , -0.2025    ,  0.4275    ,\n",
       "        -0.9025    , -0.091125  ,  0.192375  , -0.406125  ,  0.857375  ,\n",
       "         1.        ,  0.45      , -0.95      ,  0.2025    , -0.4275    ,\n",
       "         0.9025    ,  0.091125  , -0.192375  ,  0.406125  , -0.857375  ,\n",
       "         0.04100625, -0.08656875,  0.18275625, -0.38581875,  0.81450625],\n",
       "       [ 1.        , -1.        ,  0.        ,  0.34      ,  1.        ,\n",
       "        -0.        , -0.34      ,  0.        ,  0.        ,  0.1156    ,\n",
       "        -1.        ,  0.        ,  0.34      , -0.        , -0.        ,\n",
       "        -0.1156    ,  0.        ,  0.        ,  0.        ,  0.039304  ,\n",
       "         1.        , -0.        , -0.34      ,  0.        ,  0.        ,\n",
       "         0.1156    , -0.        , -0.        , -0.        , -0.039304  ,\n",
       "         0.        ,  0.        ,  0.        ,  0.        ,  0.01336336],\n",
       "       [ 1.        ,  0.23      ,  0.78      , -0.96      ,  0.0529    ,\n",
       "         0.1794    , -0.2208    ,  0.6084    , -0.7488    ,  0.9216    ,\n",
       "         0.012167  ,  0.041262  , -0.050784  ,  0.139932  , -0.172224  ,\n",
       "         0.211968  ,  0.474552  , -0.584064  ,  0.718848  , -0.884736  ,\n",
       "         0.00279841,  0.00949026, -0.01168032,  0.03218436, -0.03961152,\n",
       "         0.04875264,  0.10914696, -0.13433472,  0.16533504, -0.20348928,\n",
       "         0.37015056, -0.45556992,  0.56070144, -0.69009408,  0.84934656]])"
      ]
     },
     "execution_count": 5,
     "metadata": {},
     "output_type": "execute_result"
    }
   ],
   "source": [
    "# evalue polynomial function on array of coordinate points [[x_1,y_1,z_1],[x_2,y_2,z_2],...,[x_n,y_n,z_n]]\n",
    "coords = np.array([[1,0.5,0.25],[-1.,-.45,0.95],[-1,0,.34],[0.23,0.78,-0.96]])\n",
    "get_poly_lib(4,coords)"
   ]
  },
  {
   "cell_type": "markdown",
   "metadata": {},
   "source": [
    "Let's try these ideas \n",
    "\n",
    "* idea 1: use the idea explained in PNN \n",
    "\n",
    "* idea 2: use psudo-inverse (with Harmonic terms), may be with sequentially threshold least square idea (to remove small coefficints,those capture the noise)\n",
    "\n",
    "* idea 3: use polynomial regression(not harmonic terms) with Physics constraints "
   ]
  },
  {
   "cell_type": "code",
   "execution_count": null,
   "metadata": {},
   "outputs": [],
   "source": []
  }
 ],
 "metadata": {
  "kernelspec": {
   "display_name": "base",
   "language": "python",
   "name": "python3"
  },
  "language_info": {
   "codemirror_mode": {
    "name": "ipython",
    "version": 3
   },
   "file_extension": ".py",
   "mimetype": "text/x-python",
   "name": "python",
   "nbconvert_exporter": "python",
   "pygments_lexer": "ipython3",
   "version": "3.9.13"
  }
 },
 "nbformat": 4,
 "nbformat_minor": 2
}

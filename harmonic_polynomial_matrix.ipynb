{
 "cells": [
  {
   "cell_type": "code",
   "execution_count": 46,
   "metadata": {},
   "outputs": [],
   "source": [
    "import numpy as np\n",
    "import sympy as sp \n",
    "from sympy import assoc_legendre\n",
    "import matplotlib.pyplot as plt"
   ]
  },
  {
   "cell_type": "markdown",
   "metadata": {},
   "source": [
    "* If we consider the $B_x$ component of the field\n",
    "\n",
    "$\\hspace{1cm} \\begin{bmatrix}\n",
    "    B^{(x)}_1\\\\\n",
    "    B^{(x)}_2\\\\\n",
    "    B^{(x)}_3\\\\\n",
    "    .\\\\\n",
    "    .\\\\\n",
    "    B^{(x)}_m\n",
    "    \\end{bmatrix} = \\begin{bmatrix}\n",
    "    0 & 0 & 1 & y_1 & 0 &-\\frac{x_1}{2} & z_1 & x_1\\\\\n",
    "    0 & 0 & 1 & y_2 & 0 &-\\frac{x_2}{2} & z_2 & x_2\\\\\n",
    "    0 & 0 & 1 & y_3 & 0 &-\\frac{x_3}{2} & z_3 & x_3\\\\\n",
    "    . & . & . & . & . & . & . & .\\\\\n",
    "    . & . & . & . & . & . & . & .\\\\\n",
    "    0 & 0 & 1 & y_m & 0 &-\\frac{x_m}{2} & z_m & x_m\\\\\n",
    "    \\end{bmatrix} \\begin{bmatrix}\n",
    "    a_{0,-1}\\\\\n",
    "    a_{0,0}\\\\\n",
    "    a_{0,1}\\\\\n",
    "    .\\\\\n",
    "    a_{1,1}\\\\\n",
    "    a_{1,2}\n",
    "    \\end{bmatrix} \n",
    "    $ "
   ]
  },
  {
   "cell_type": "markdown",
   "metadata": {},
   "source": [
    "* If we consider the $B_y$ component of the field\n",
    "\n",
    "$\\hspace{1cm} \\begin{bmatrix}\n",
    "    B^{(y)}_1\\\\\n",
    "    B^{(y)}_2\\\\\n",
    "    B^{(y)}_3\\\\\n",
    "    .\\\\\n",
    "    .\\\\\n",
    "    B^{(y)}_m\n",
    "    \\end{bmatrix} = \\begin{bmatrix}\n",
    "    1 & 0 & 0 & x_1 & z_1 &-\\frac{y_1}{2} & 0 & y_1\\\\\n",
    "    1 & 0 & 0 & x_2 & z_2 &-\\frac{y_2}{2} & 0 & y_2\\\\\n",
    "    1 & 0 & 0 & x_3 & z_3 &-\\frac{y_3}{2} & 0 & y_3\\\\\n",
    "    . & . & . & . & . & . & . & .\\\\\n",
    "    . & . & . & . & . & . & . & .\\\\\n",
    "    1 & 0 & 0 & x_m & z_m &-\\frac{y_m}{2} & 0 & y_m\\\\\n",
    "    \\end{bmatrix} \\begin{bmatrix}\n",
    "    a_{0,-1}\\\\\n",
    "    a_{0,0}\\\\\n",
    "    a_{0,1}\\\\\n",
    "    .\\\\\n",
    "    a_{1,1}\\\\\n",
    "    a_{1,2}\n",
    "    \\end{bmatrix} \n",
    "    $ "
   ]
  },
  {
   "cell_type": "markdown",
   "metadata": {},
   "source": [
    "* If we consider the $B_z$ component of the field\n",
    "\n",
    "$\\hspace{1cm} \\begin{bmatrix}\n",
    "    B^{(z)}_1\\\\\n",
    "    B^{(z)}_2\\\\\n",
    "    B^{(z)}_3\\\\\n",
    "    .\\\\\n",
    "    .\\\\\n",
    "    B^{(z)}_m\n",
    "    \\end{bmatrix} = \\begin{bmatrix}\n",
    "    0 & 1 & 0 & 0 & y_1 & z_1 & x_1 & 0\\\\\n",
    "    0 & 1 & 0 & 0 & y_2 & z_2 & x_2 & 0\\\\\n",
    "    0 & 1 & 0 & 0 & y_3 & z_3 & x_3 & 0\\\\\n",
    "    . & . & . & . & . & . & . & .\\\\\n",
    "    . & . & . & . & . & . & . & .\\\\\n",
    "    0 & 1 & 0 & 0 & y_m & z_m & x_m & 0\\\\\n",
    "    \\end{bmatrix} \\begin{bmatrix}\n",
    "    a_{0,-1}\\\\\n",
    "    a_{0,0}\\\\\n",
    "    a_{0,1}\\\\\n",
    "    .\\\\\n",
    "    a_{1,1}\\\\\n",
    "    a_{1,2}\n",
    "    \\end{bmatrix} \n",
    "    $ "
   ]
  },
  {
   "cell_type": "code",
   "execution_count": 47,
   "metadata": {},
   "outputs": [],
   "source": [
    "from harmonic_poly import basis_upto_order"
   ]
  },
  {
   "cell_type": "code",
   "execution_count": 48,
   "metadata": {},
   "outputs": [],
   "source": [
    "# get the haronic polynomials of order 3 (note this is little expensive operation)\n",
    "l = 3\n",
    "Phi_x,Phi_y,Phi_z = basis_upto_order(l)"
   ]
  },
  {
   "cell_type": "code",
   "execution_count": 49,
   "metadata": {},
   "outputs": [],
   "source": [
    "# create a mesh grid to evalute basis function on \n",
    "length = np.linspace(-1,1,11)\n",
    "xv,yv,zv= np.meshgrid(length,length,length)"
   ]
  },
  {
   "cell_type": "code",
   "execution_count": null,
   "metadata": {},
   "outputs": [],
   "source": [
    "# this is a helper function to get the total number of basis functions (upto order l)\n",
    "def get_no_of_poly(l):\n",
    "    sum = 0\n",
    "    sum_arry = [sum]\n",
    "    for i in range(l+1):\n",
    "        sum += 2*(i+1) + 1\n",
    "        sum_arry.append(sum)\n",
    "    return sum_arry[-1]\n",
    "\n",
    "m = get_no_of_poly(l)\n",
    "n = xv.flatten().shape[0]\n",
    "print(n,m)"
   ]
  },
  {
   "cell_type": "code",
   "execution_count": 123,
   "metadata": {},
   "outputs": [],
   "source": [
    "# this evaluate basis functions(upto order l) on numpy meshgrid \n",
    "def get_Phi_upto(l,xv,yv,zv):\n",
    "    Phi_xx = Phi_x(xv,yv,zv)\n",
    "    Phi_yy = Phi_y(xv,yv,zv)\n",
    "    Phi_zz = Phi_z(xv,yv,zv)\n",
    "    \n",
    "    m = get_no_of_poly(l)\n",
    "    n = xv.flatten().shape[0]\n",
    "    Phi = np.zeros((3,n,m))\n",
    "    for i in range(m):\n",
    "        Phi[0,:,i] = np.array(Phi_xx[i]).flatten()\n",
    "        Phi[1,:,i] = np.array(Phi_yy[i]).flatten()\n",
    "        Phi[2,:,i] = np.array(Phi_zz[i]).flatten()\n",
    "    return Phi[0],Phi[1],Phi[2]"
   ]
  },
  {
   "cell_type": "code",
   "execution_count": 124,
   "metadata": {},
   "outputs": [],
   "source": [
    "Phi_xx,Phi_yy,Phi_zz = get_Phi_upto(l,xv,yv,zv)"
   ]
  },
  {
   "cell_type": "code",
   "execution_count": 125,
   "metadata": {},
   "outputs": [
    {
     "data": {
      "text/plain": [
       "array([[ 0.  ,  0.  ,  1.  , ..., -2.  , -0.  ,  2.  ],\n",
       "       [ 0.  ,  0.  ,  1.  , ..., -0.92, -0.  ,  2.  ],\n",
       "       [ 0.  ,  0.  ,  1.  , ..., -0.08, -0.  ,  2.  ],\n",
       "       ...,\n",
       "       [ 0.  ,  0.  ,  1.  , ...,  0.08,  0.  , -2.  ],\n",
       "       [ 0.  ,  0.  ,  1.  , ...,  0.92,  0.  , -2.  ],\n",
       "       [ 0.  ,  0.  ,  1.  , ...,  2.  ,  0.  , -2.  ]])"
      ]
     },
     "execution_count": 125,
     "metadata": {},
     "output_type": "execute_result"
    }
   ],
   "source": [
    "Phi_xx"
   ]
  },
  {
   "cell_type": "code",
   "execution_count": 126,
   "metadata": {},
   "outputs": [
    {
     "data": {
      "text/plain": [
       "array([[ 1.  ,  0.  ,  0.  , ...,  2.  ,  6.  ,  2.  ],\n",
       "       [ 1.  ,  0.  ,  0.  , ...,  0.92,  4.8 ,  2.  ],\n",
       "       [ 1.  ,  0.  ,  0.  , ...,  0.08,  3.6 ,  2.  ],\n",
       "       ...,\n",
       "       [ 1.  ,  0.  ,  0.  , ..., -0.08, -3.6 , -2.  ],\n",
       "       [ 1.  ,  0.  ,  0.  , ..., -0.92, -4.8 , -2.  ],\n",
       "       [ 1.  ,  0.  ,  0.  , ..., -2.  , -6.  , -2.  ]])"
      ]
     },
     "execution_count": 126,
     "metadata": {},
     "output_type": "execute_result"
    }
   ],
   "source": [
    "Phi_yy"
   ]
  },
  {
   "cell_type": "code",
   "execution_count": 127,
   "metadata": {},
   "outputs": [
    {
     "data": {
      "text/plain": [
       "array([[ 0.,  1.,  0., ..., -0.,  2.,  0.],\n",
       "       [ 0.,  1.,  0., ..., -0.,  2.,  0.],\n",
       "       [ 0.,  1.,  0., ..., -0.,  2.,  0.],\n",
       "       ...,\n",
       "       [ 0.,  1.,  0., ...,  0., -2.,  0.],\n",
       "       [ 0.,  1.,  0., ...,  0., -2.,  0.],\n",
       "       [ 0.,  1.,  0., ...,  0., -2.,  0.]])"
      ]
     },
     "execution_count": 127,
     "metadata": {},
     "output_type": "execute_result"
    }
   ],
   "source": [
    "Phi_zz"
   ]
  },
  {
   "cell_type": "code",
   "execution_count": 128,
   "metadata": {},
   "outputs": [
    {
     "data": {
      "text/plain": [
       "array([ 0.5,  0.5,  0.5, ..., -0.5, -0.5, -0.5])"
      ]
     },
     "execution_count": 128,
     "metadata": {},
     "output_type": "execute_result"
    }
   ],
   "source": [
    "# this select a given harmonic from a list of harmonics (evaluated on a meshgrid)\n",
    "def get_slected_harmonic(l,m):\n",
    "    sum = 0\n",
    "    sum_arry = [sum]\n",
    "    for i in range(l+1):\n",
    "        sum += 2*(i+1) + 1\n",
    "        sum_arry.append(sum)\n",
    "    idx = sum_arry[l] + l + 1 + m\n",
    "    return Phi_xx[:,idx],Phi_yy[:,idx],Phi_zz[:,idx]\n",
    "\n",
    "Phi_xxx,Phi_yyy,Phi_zzz = get_slected_harmonic(1,0)\n",
    "Phi_xxx"
   ]
  },
  {
   "cell_type": "code",
   "execution_count": null,
   "metadata": {},
   "outputs": [],
   "source": []
  }
 ],
 "metadata": {
  "kernelspec": {
   "display_name": "base",
   "language": "python",
   "name": "python3"
  },
  "language_info": {
   "codemirror_mode": {
    "name": "ipython",
    "version": 3
   },
   "file_extension": ".py",
   "mimetype": "text/x-python",
   "name": "python",
   "nbconvert_exporter": "python",
   "pygments_lexer": "ipython3",
   "version": "3.10.9"
  }
 },
 "nbformat": 4,
 "nbformat_minor": 2
}

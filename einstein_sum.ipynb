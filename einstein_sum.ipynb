{
 "cells": [
  {
   "cell_type": "code",
   "execution_count": 1,
   "metadata": {},
   "outputs": [],
   "source": [
    "import numpy as np"
   ]
  },
  {
   "cell_type": "code",
   "execution_count": 4,
   "metadata": {},
   "outputs": [
    {
     "data": {
      "text/plain": [
       "array([[8, 2, 9, 7],\n",
       "       [6, 3, 5, 9],\n",
       "       [3, 5, 4, 8]])"
      ]
     },
     "execution_count": 4,
     "metadata": {},
     "output_type": "execute_result"
    }
   ],
   "source": [
    "A = np.random.randint(0,10,size=(3,4))\n",
    "A"
   ]
  },
  {
   "cell_type": "code",
   "execution_count": 5,
   "metadata": {},
   "outputs": [
    {
     "data": {
      "text/plain": [
       "array([[9, 0, 8, 2, 6],\n",
       "       [3, 7, 3, 9, 8],\n",
       "       [8, 5, 5, 7, 6],\n",
       "       [5, 5, 7, 7, 7]])"
      ]
     },
     "execution_count": 5,
     "metadata": {},
     "output_type": "execute_result"
    }
   ],
   "source": [
    "B = np.random.randint(10,size=(4,5))\n",
    "B"
   ]
  },
  {
   "cell_type": "markdown",
   "metadata": {},
   "source": [
    "### Matrix multiplication "
   ]
  },
  {
   "cell_type": "code",
   "execution_count": 7,
   "metadata": {},
   "outputs": [
    {
     "data": {
      "text/plain": [
       "array([[185,  94, 164, 146, 167],\n",
       "       [148,  91, 145, 137, 153],\n",
       "       [114,  95, 115, 135, 138]])"
      ]
     },
     "execution_count": 7,
     "metadata": {},
     "output_type": "execute_result"
    }
   ],
   "source": [
    "# matrix multiplication \n",
    "\n",
    "C = A@B\n",
    "C"
   ]
  },
  {
   "cell_type": "code",
   "execution_count": 8,
   "metadata": {},
   "outputs": [
    {
     "data": {
      "text/plain": [
       "array([[185,  94, 164, 146, 167],\n",
       "       [148,  91, 145, 137, 153],\n",
       "       [114,  95, 115, 135, 138]])"
      ]
     },
     "execution_count": 8,
     "metadata": {},
     "output_type": "execute_result"
    }
   ],
   "source": [
    "# mat mul using eistein sum \n",
    "# a_ij, b_jk -> c_ik\n",
    "C_1 = np.einsum(\"ij,jk -> ik\", A, B)\n",
    "C_1"
   ]
  },
  {
   "cell_type": "markdown",
   "metadata": {},
   "source": [
    "### Element wise multiplication \n"
   ]
  },
  {
   "cell_type": "code",
   "execution_count": 11,
   "metadata": {},
   "outputs": [
    {
     "data": {
      "text/plain": [
       "array([[81,  0, 48, 14, 12],\n",
       "       [12, 56, 15, 81, 40],\n",
       "       [24, 40, 45, 35, 36],\n",
       "       [ 0,  0, 63,  0, 21]])"
      ]
     },
     "execution_count": 11,
     "metadata": {},
     "output_type": "execute_result"
    }
   ],
   "source": [
    "D = np.random.randint(10,size=(4,5))\n",
    "\n",
    "E = B * D\n",
    "E"
   ]
  },
  {
   "cell_type": "code",
   "execution_count": 13,
   "metadata": {},
   "outputs": [
    {
     "data": {
      "text/plain": [
       "array([[81,  0, 48, 14, 12],\n",
       "       [12, 56, 15, 81, 40],\n",
       "       [24, 40, 45, 35, 36],\n",
       "       [ 0,  0, 63,  0, 21]])"
      ]
     },
     "execution_count": 13,
     "metadata": {},
     "output_type": "execute_result"
    }
   ],
   "source": [
    "# using einsum \n",
    "E_1 = np.einsum(\"ij, ij -> ij\", B, D)\n",
    "E_1"
   ]
  },
  {
   "cell_type": "markdown",
   "metadata": {},
   "source": [
    "### Transpose \n",
    "\n"
   ]
  },
  {
   "cell_type": "code",
   "execution_count": 14,
   "metadata": {},
   "outputs": [
    {
     "data": {
      "text/plain": [
       "array([[8, 6, 3],\n",
       "       [2, 3, 5],\n",
       "       [9, 5, 4],\n",
       "       [7, 9, 8]])"
      ]
     },
     "execution_count": 14,
     "metadata": {},
     "output_type": "execute_result"
    }
   ],
   "source": [
    "A_T = np.transpose(A)\n",
    "A_T"
   ]
  },
  {
   "cell_type": "code",
   "execution_count": 15,
   "metadata": {},
   "outputs": [
    {
     "data": {
      "text/plain": [
       "array([[8, 6, 3],\n",
       "       [2, 3, 5],\n",
       "       [9, 5, 4],\n",
       "       [7, 9, 8]])"
      ]
     },
     "execution_count": 15,
     "metadata": {},
     "output_type": "execute_result"
    }
   ],
   "source": [
    "# using einsum \n",
    "\n",
    "A_T = np.einsum(\"ij -> ji\", A)\n",
    "A_T"
   ]
  },
  {
   "cell_type": "markdown",
   "metadata": {},
   "source": [
    "### More complex matrix multiplication tasks \n",
    "\n",
    "* The ***np.einsum()*** is very convenient  for complex matrix multiplication tasks which involves matrix multiplication only along certain axis\n",
    "\n",
    "* Sometimes **einsum()** is little more expressive when the task is complex "
   ]
  },
  {
   "cell_type": "markdown",
   "metadata": {},
   "source": [
    "Ex-01"
   ]
  },
  {
   "cell_type": "code",
   "execution_count": 16,
   "metadata": {},
   "outputs": [],
   "source": [
    "A = np.random.randint(10, size=(2,3,4))\n",
    "B = np.random.randint(10, size=(2,4,5))"
   ]
  },
  {
   "cell_type": "code",
   "execution_count": 17,
   "metadata": {},
   "outputs": [
    {
     "data": {
      "text/plain": [
       "array([[[5, 1, 2, 2],\n",
       "        [0, 1, 4, 2],\n",
       "        [7, 5, 0, 8]],\n",
       "\n",
       "       [[6, 4, 2, 7],\n",
       "        [4, 3, 3, 8],\n",
       "        [1, 8, 2, 9]]])"
      ]
     },
     "execution_count": 17,
     "metadata": {},
     "output_type": "execute_result"
    }
   ],
   "source": [
    "A"
   ]
  },
  {
   "cell_type": "code",
   "execution_count": 18,
   "metadata": {},
   "outputs": [
    {
     "data": {
      "text/plain": [
       "array([[[9, 7, 7, 1, 7],\n",
       "        [0, 1, 3, 8, 4],\n",
       "        [1, 2, 9, 4, 1],\n",
       "        [9, 3, 3, 3, 1]],\n",
       "\n",
       "       [[2, 3, 6, 2, 0],\n",
       "        [6, 0, 4, 5, 6],\n",
       "        [8, 7, 6, 0, 8],\n",
       "        [0, 1, 7, 7, 2]]])"
      ]
     },
     "execution_count": 18,
     "metadata": {},
     "output_type": "execute_result"
    }
   ],
   "source": [
    "B"
   ]
  },
  {
   "cell_type": "code",
   "execution_count": 21,
   "metadata": {},
   "outputs": [
    {
     "data": {
      "text/plain": [
       "array([[[ 65,  46,  62,  27,  43],\n",
       "        [ 22,  15,  45,  30,  10],\n",
       "        [135,  78,  88,  71,  77]],\n",
       "\n",
       "       [[ 52,  39, 113,  81,  54],\n",
       "        [ 50,  41, 110,  79,  58],\n",
       "        [ 66,  26, 113, 105,  82]]])"
      ]
     },
     "execution_count": 21,
     "metadata": {},
     "output_type": "execute_result"
    }
   ],
   "source": [
    "# using numy \n",
    "\n",
    "C = np.matmul(A,B)\n",
    "C"
   ]
  },
  {
   "cell_type": "code",
   "execution_count": 22,
   "metadata": {},
   "outputs": [
    {
     "data": {
      "text/plain": [
       "array([[[ 65,  46,  62,  27,  43],\n",
       "        [ 22,  15,  45,  30,  10],\n",
       "        [135,  78,  88,  71,  77]],\n",
       "\n",
       "       [[ 52,  39, 113,  81,  54],\n",
       "        [ 50,  41, 110,  79,  58],\n",
       "        [ 66,  26, 113, 105,  82]]])"
      ]
     },
     "execution_count": 22,
     "metadata": {},
     "output_type": "execute_result"
    }
   ],
   "source": [
    "# using einstein sum \n",
    "\n",
    "C = np.einsum(\"ijk, ikl -> ijl\", A,B)\n",
    "C"
   ]
  },
  {
   "cell_type": "markdown",
   "metadata": {},
   "source": [
    "Ex -02"
   ]
  },
  {
   "cell_type": "code",
   "execution_count": 23,
   "metadata": {},
   "outputs": [],
   "source": [
    "# we can't multiply A and B \n",
    "\n",
    "A = np.random.randint(10,size=(1,4,8)) # we need to reshape from (1,4,8) -> (1,4,4,2)\n",
    "B = np.random.randint(10,size=(1,4,4)) # we need to reshape this (1,4,4) -> (1,4,4,1)\n",
    "\n",
    "# let's reshape A and B (this reshaping has some meaning)\n",
    "\n",
    "AR = A.reshape(1,4,4,2)\n",
    "BR = B.reshape(1,4,4,1)"
   ]
  },
  {
   "cell_type": "code",
   "execution_count": 24,
   "metadata": {},
   "outputs": [
    {
     "data": {
      "text/plain": [
       "array([[[7, 9, 8, 6, 5, 3, 0, 1],\n",
       "        [1, 2, 2, 9, 3, 7, 3, 0],\n",
       "        [1, 0, 1, 2, 3, 5, 4, 0],\n",
       "        [6, 3, 6, 1, 5, 1, 5, 5]]])"
      ]
     },
     "execution_count": 24,
     "metadata": {},
     "output_type": "execute_result"
    }
   ],
   "source": [
    "A"
   ]
  },
  {
   "cell_type": "code",
   "execution_count": 25,
   "metadata": {},
   "outputs": [
    {
     "data": {
      "text/plain": [
       "array([[[0, 6, 5, 0],\n",
       "        [0, 8, 9, 2],\n",
       "        [2, 4, 3, 7],\n",
       "        [6, 5, 5, 9]]])"
      ]
     },
     "execution_count": 25,
     "metadata": {},
     "output_type": "execute_result"
    }
   ],
   "source": [
    "B"
   ]
  },
  {
   "cell_type": "code",
   "execution_count": 26,
   "metadata": {},
   "outputs": [
    {
     "data": {
      "text/plain": [
       "array([[[[7, 9],\n",
       "         [8, 6],\n",
       "         [5, 3],\n",
       "         [0, 1]],\n",
       "\n",
       "        [[1, 2],\n",
       "         [2, 9],\n",
       "         [3, 7],\n",
       "         [3, 0]],\n",
       "\n",
       "        [[1, 0],\n",
       "         [1, 2],\n",
       "         [3, 5],\n",
       "         [4, 0]],\n",
       "\n",
       "        [[6, 3],\n",
       "         [6, 1],\n",
       "         [5, 1],\n",
       "         [5, 5]]]])"
      ]
     },
     "execution_count": 26,
     "metadata": {},
     "output_type": "execute_result"
    }
   ],
   "source": [
    "AR"
   ]
  },
  {
   "cell_type": "code",
   "execution_count": 27,
   "metadata": {},
   "outputs": [
    {
     "data": {
      "text/plain": [
       "array([[[[0],\n",
       "         [6],\n",
       "         [5],\n",
       "         [0]],\n",
       "\n",
       "        [[0],\n",
       "         [8],\n",
       "         [9],\n",
       "         [2]],\n",
       "\n",
       "        [[2],\n",
       "         [4],\n",
       "         [3],\n",
       "         [7]],\n",
       "\n",
       "        [[6],\n",
       "         [5],\n",
       "         [5],\n",
       "         [9]]]])"
      ]
     },
     "execution_count": 27,
     "metadata": {},
     "output_type": "execute_result"
    }
   ],
   "source": [
    "BR"
   ]
  },
  {
   "cell_type": "code",
   "execution_count": 32,
   "metadata": {},
   "outputs": [
    {
     "data": {
      "text/plain": [
       "array([[[[ 73,  51]],\n",
       "\n",
       "        [[ 49, 135]],\n",
       "\n",
       "        [[ 43,  23]],\n",
       "\n",
       "        [[136,  73]]]])"
      ]
     },
     "execution_count": 32,
     "metadata": {},
     "output_type": "execute_result"
    }
   ],
   "source": [
    "# let's do BR.T @ A\n",
    "# BR.T has shape of (1,4,1,4) and AR has (1,4,4,2) -> (1,4,1,2)\n",
    "\n",
    "R = np.matmul(np.transpose(BR, (0,1,3,2)), AR)\n",
    "R"
   ]
  },
  {
   "cell_type": "code",
   "execution_count": 35,
   "metadata": {},
   "outputs": [
    {
     "data": {
      "text/plain": [
       "((1, 4, 4, 1), (1, 4, 4, 2))"
      ]
     },
     "execution_count": 35,
     "metadata": {},
     "output_type": "execute_result"
    }
   ],
   "source": [
    "BR.shape, AR.shape"
   ]
  },
  {
   "cell_type": "code",
   "execution_count": 37,
   "metadata": {},
   "outputs": [
    {
     "data": {
      "text/plain": [
       "array([[[[ 73,  51]],\n",
       "\n",
       "        [[ 49, 135]],\n",
       "\n",
       "        [[ 43,  23]],\n",
       "\n",
       "        [[136,  73]]]])"
      ]
     },
     "execution_count": 37,
     "metadata": {},
     "output_type": "execute_result"
    }
   ],
   "source": [
    "# using einsum \n",
    "# B: (ijkl) -> B.T:(ijlk)\n",
    "# A: (ijkt) -> (ijkt)\n",
    "# B.T @ A -> (ijlt)\n",
    "\n",
    "R = np.einsum(\"ijkl,ijkt -> ijlt\",BR,AR)\n",
    "R"
   ]
  },
  {
   "cell_type": "code",
   "execution_count": null,
   "metadata": {},
   "outputs": [],
   "source": []
  }
 ],
 "metadata": {
  "kernelspec": {
   "display_name": "base",
   "language": "python",
   "name": "python3"
  },
  "language_info": {
   "codemirror_mode": {
    "name": "ipython",
    "version": 3
   },
   "file_extension": ".py",
   "mimetype": "text/x-python",
   "name": "python",
   "nbconvert_exporter": "python",
   "pygments_lexer": "ipython3",
   "version": "3.9.13"
  }
 },
 "nbformat": 4,
 "nbformat_minor": 2
}

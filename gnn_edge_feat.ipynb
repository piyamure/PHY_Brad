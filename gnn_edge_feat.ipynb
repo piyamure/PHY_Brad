{
 "cells": [
  {
   "cell_type": "code",
   "execution_count": 49,
   "metadata": {},
   "outputs": [],
   "source": [
    "import numpy as np"
   ]
  },
  {
   "cell_type": "markdown",
   "metadata": {},
   "source": [
    "### How the edge features of a graph are aggregated along with the node features in GNN\n",
    "\n",
    "* Let's say we have a graph G(V,E), where V represents the nodes and E represents the edges of the graph. \n",
    "\n",
    " $$ \\text{node features} = \n",
    "\\begin{bmatrix} \n",
    "\\mathbf{x_1} & ... & \\mathbf{x_n}\\\\\n",
    "\\end{bmatrix}\n",
    "$$\n",
    "\n",
    "* If the size of the node features vector is $d^n$, the node features array as shape of $(N,d^n)$ with N is the number of nodes in the graph G\n",
    "$$\\text{edge features} = \n",
    "\\begin{bmatrix} \n",
    "\\mathbf{x_{e_{1,1}}} & ... & \\mathbf{x_{e_{1,n}}}\\\\\n",
    "\\vdots & \\ddots & \\vdots \\\\\n",
    "\\mathbf{x_{e_{n,1}}} & ... & \\mathbf{x_{e_{n,n}}}\\\\\n",
    "\\end{bmatrix}\n",
    "$$\n",
    "\n",
    "* If the size of the edge features vector is $d^e$, the node features array as shape of $(N,N,d^e)$\n",
    "\n",
    "$$\\text{combined features} = \\text{edge features} + \\text{node features} = \n",
    "\\begin{bmatrix} \n",
    "\\mathbf{x_{e_{1,1}}} + \\mathbf{x_1} & ... & \\mathbf{x_{e_{1,n}}} + \\mathbf{x_n}\\\\\n",
    "\\vdots & \\ddots & \\vdots \\\\\n",
    "\\mathbf{x_{e_{n,1}}} + \\mathbf{x_1} & ... & \\mathbf{x_{e_{n,n}}} + \\mathbf{x_n}\\\\\n",
    "\\end{bmatrix}\n",
    "$$\n",
    "\n",
    "* Then the size of the combined  features array has shape of $(N,N,d^e + d^n)$. Note for this we need to have the shape of $d^n$ = $d^e$\n",
    "$$\n",
    "\\text{masked features} = A \\circ \\text{combined features} = \n",
    "\\begin{bmatrix} \n",
    "a_{1,1}(\\mathbf{x_{e_{1,1}}} + \\mathbf{x_1}) & ... & a_{1,n}(\\mathbf{x_{e_{1,n}}} + \\mathbf{x_n})\\\\\n",
    "\\vdots & \\ddots & \\vdots \\\\\n",
    "a_{n,1}(\\mathbf{x_{e_{n,1}}} + \\mathbf{x_1}) & ... & a_{n,n}(\\mathbf{x_{e_{n,n}}} + \\mathbf{x_n})\\\\\n",
    "\\end{bmatrix}\n",
    "$$\n",
    "\n",
    "* To select the edge features present in the graph we need to mask the above array with Adjacency matrix $A$\n",
    "\n",
    "\n",
    "$$\n",
    "\\begin{bmatrix} \n",
    "a_{1,1}(\\mathbf{x_{e_{1,1}}} + \\mathbf{x_1}) + ...+ a_{1,n}(\\mathbf{x_{e_{1,n}}} + \\mathbf{x_n})\\\\\n",
    "\\vdots \\\\\n",
    "a_{n,1}(\\mathbf{x_{e_{n,1}}} + \\mathbf{x_1}) + ... + a_{n,n}(\\mathbf{x_{e_{n,n}}} + \\mathbf{x_n})\\\\\n",
    "\\end{bmatrix}\n",
    "$$\n",
    "\n",
    "* Finally we now reduce this matrix by summing along the rows to perform the aggregation (of the messages at current node) operation \n"
   ]
  },
  {
   "cell_type": "code",
   "execution_count": 50,
   "metadata": {},
   "outputs": [
    {
     "data": {
      "text/plain": [
       "array([[0, 6],\n",
       "       [1, 4],\n",
       "       [7, 5]])"
      ]
     },
     "execution_count": 50,
     "metadata": {},
     "output_type": "execute_result"
    }
   ],
   "source": [
    "N = 3 # number of nodes \n",
    "d = 2 # the dimention of node (edge) features \n",
    "\n",
    "# the node feature array: shape(A) = N,d\n",
    "A = np.random.randint(0,10,(N,d))\n",
    "#A = np.expand_dims(A,axis=1)\n",
    "A\n"
   ]
  },
  {
   "cell_type": "code",
   "execution_count": 51,
   "metadata": {},
   "outputs": [
    {
     "data": {
      "text/plain": [
       "array([[[3, 2],\n",
       "        [9, 4],\n",
       "        [1, 3]],\n",
       "\n",
       "       [[8, 9],\n",
       "        [2, 6],\n",
       "        [1, 4]],\n",
       "\n",
       "       [[3, 7],\n",
       "        [0, 3],\n",
       "        [9, 0]]])"
      ]
     },
     "execution_count": 51,
     "metadata": {},
     "output_type": "execute_result"
    }
   ],
   "source": [
    "# the edge faeture array: shape(B) = N,N,d\n",
    "B = np.random.randint(0,10,(N,N,d))\n",
    "B"
   ]
  },
  {
   "cell_type": "code",
   "execution_count": 52,
   "metadata": {},
   "outputs": [
    {
     "data": {
      "text/plain": [
       "array([[[ 3,  8],\n",
       "        [10,  8],\n",
       "        [ 8,  8]],\n",
       "\n",
       "       [[ 8, 15],\n",
       "        [ 3, 10],\n",
       "        [ 8,  9]],\n",
       "\n",
       "       [[ 3, 13],\n",
       "        [ 1,  7],\n",
       "        [16,  5]]])"
      ]
     },
     "execution_count": 52,
     "metadata": {},
     "output_type": "execute_result"
    }
   ],
   "source": [
    "A + B"
   ]
  },
  {
   "cell_type": "code",
   "execution_count": 53,
   "metadata": {},
   "outputs": [
    {
     "data": {
      "text/plain": [
       "array([[1, 0, 1],\n",
       "       [0, 0, 1],\n",
       "       [0, 0, 1]])"
      ]
     },
     "execution_count": 53,
     "metadata": {},
     "output_type": "execute_result"
    }
   ],
   "source": [
    "# adjacancy matrix: shape(N,N)\n",
    "Ad =  np.random.randint(0,2,(N,N))\n",
    "Ad"
   ]
  },
  {
   "cell_type": "code",
   "execution_count": 54,
   "metadata": {},
   "outputs": [
    {
     "data": {
      "text/plain": [
       "array([[[1],\n",
       "        [0],\n",
       "        [1]],\n",
       "\n",
       "       [[0],\n",
       "        [0],\n",
       "        [1]],\n",
       "\n",
       "       [[0],\n",
       "        [0],\n",
       "        [1]]])"
      ]
     },
     "execution_count": 54,
     "metadata": {},
     "output_type": "execute_result"
    }
   ],
   "source": [
    "# lets rehsape Adjacancy matrix to have shape of: (N,N,1)\n",
    "M = np.expand_dims(Ad,axis=-1)\n",
    "M"
   ]
  },
  {
   "cell_type": "code",
   "execution_count": 55,
   "metadata": {},
   "outputs": [
    {
     "data": {
      "text/plain": [
       "array([[[ 3,  8],\n",
       "        [10,  8],\n",
       "        [ 8,  8]],\n",
       "\n",
       "       [[ 8, 15],\n",
       "        [ 3, 10],\n",
       "        [ 8,  9]],\n",
       "\n",
       "       [[ 3, 13],\n",
       "        [ 1,  7],\n",
       "        [16,  5]]])"
      ]
     },
     "execution_count": 55,
     "metadata": {},
     "output_type": "execute_result"
    }
   ],
   "source": [
    "# lets add Node features and Edge features together \n",
    "# A: (N,d), B: (N,N,d) , with broadcasting A: (1,N,d), B: (N,N,d) \n",
    "# so A + B : (N,N,d)\n",
    "C = A + B \n",
    "C"
   ]
  },
  {
   "cell_type": "code",
   "execution_count": 56,
   "metadata": {},
   "outputs": [
    {
     "data": {
      "text/plain": [
       "array([[[ 3,  8],\n",
       "        [ 0,  0],\n",
       "        [ 8,  8]],\n",
       "\n",
       "       [[ 0,  0],\n",
       "        [ 0,  0],\n",
       "        [ 8,  9]],\n",
       "\n",
       "       [[ 0,  0],\n",
       "        [ 0,  0],\n",
       "        [16,  5]]])"
      ]
     },
     "execution_count": 56,
     "metadata": {},
     "output_type": "execute_result"
    }
   ],
   "source": [
    "# lets use the mask to select the (node + edge feature) only in the graph connected nodes (i.e. edges)\n",
    "\n",
    "MC = M * C\n",
    "MC"
   ]
  },
  {
   "cell_type": "code",
   "execution_count": 57,
   "metadata": {},
   "outputs": [
    {
     "data": {
      "text/plain": [
       "array([[11, 16],\n",
       "       [ 8,  9],\n",
       "       [16,  5]])"
      ]
     },
     "execution_count": 57,
     "metadata": {},
     "output_type": "execute_result"
    }
   ],
   "source": [
    "# lets aggrigate node and edge feature \n",
    "# F: shape (N,d)\n",
    "F = np.sum(MC, axis=1)\n",
    "F"
   ]
  },
  {
   "cell_type": "markdown",
   "metadata": {},
   "source": [
    "Broadcasting examples "
   ]
  },
  {
   "cell_type": "code",
   "execution_count": 58,
   "metadata": {},
   "outputs": [],
   "source": [
    "u = np.random.randint(0,10,(3,2))\n",
    "v = np.random.randint(0,10,(3,3,2))"
   ]
  },
  {
   "cell_type": "code",
   "execution_count": 59,
   "metadata": {},
   "outputs": [
    {
     "data": {
      "text/plain": [
       "array([[3, 4],\n",
       "       [2, 9],\n",
       "       [7, 8]])"
      ]
     },
     "execution_count": 59,
     "metadata": {},
     "output_type": "execute_result"
    }
   ],
   "source": [
    "u\n"
   ]
  },
  {
   "cell_type": "code",
   "execution_count": 60,
   "metadata": {},
   "outputs": [
    {
     "data": {
      "text/plain": [
       "array([[[3, 6],\n",
       "        [4, 1],\n",
       "        [9, 2]],\n",
       "\n",
       "       [[4, 7],\n",
       "        [4, 0],\n",
       "        [7, 3]],\n",
       "\n",
       "       [[4, 9],\n",
       "        [7, 3],\n",
       "        [5, 1]]])"
      ]
     },
     "execution_count": 60,
     "metadata": {},
     "output_type": "execute_result"
    }
   ],
   "source": [
    "v"
   ]
  },
  {
   "cell_type": "code",
   "execution_count": 61,
   "metadata": {},
   "outputs": [
    {
     "data": {
      "text/plain": [
       "array([[[ 6, 10],\n",
       "        [ 6, 10],\n",
       "        [16, 10]],\n",
       "\n",
       "       [[ 7, 11],\n",
       "        [ 6,  9],\n",
       "        [14, 11]],\n",
       "\n",
       "       [[ 7, 13],\n",
       "        [ 9, 12],\n",
       "        [12,  9]]])"
      ]
     },
     "execution_count": 61,
     "metadata": {},
     "output_type": "execute_result"
    }
   ],
   "source": [
    "# here u will sum along 0 th axis (along rows)\n",
    "u + v"
   ]
  },
  {
   "cell_type": "code",
   "execution_count": 62,
   "metadata": {},
   "outputs": [
    {
     "data": {
      "text/plain": [
       "array([[[3, 4]],\n",
       "\n",
       "       [[2, 9]],\n",
       "\n",
       "       [[7, 8]]])"
      ]
     },
     "execution_count": 62,
     "metadata": {},
     "output_type": "execute_result"
    }
   ],
   "source": [
    "# uu shape : (n,1,d)\n",
    "uu = np.expand_dims(u,axis=1)\n",
    "uu"
   ]
  },
  {
   "cell_type": "code",
   "execution_count": 64,
   "metadata": {},
   "outputs": [
    {
     "data": {
      "text/plain": [
       "array([[[3, 6],\n",
       "        [4, 1],\n",
       "        [9, 2]],\n",
       "\n",
       "       [[4, 7],\n",
       "        [4, 0],\n",
       "        [7, 3]],\n",
       "\n",
       "       [[4, 9],\n",
       "        [7, 3],\n",
       "        [5, 1]]])"
      ]
     },
     "execution_count": 64,
     "metadata": {},
     "output_type": "execute_result"
    }
   ],
   "source": [
    "v"
   ]
  },
  {
   "cell_type": "code",
   "execution_count": 63,
   "metadata": {},
   "outputs": [
    {
     "data": {
      "text/plain": [
       "array([[[ 6, 10],\n",
       "        [ 7,  5],\n",
       "        [12,  6]],\n",
       "\n",
       "       [[ 6, 16],\n",
       "        [ 6,  9],\n",
       "        [ 9, 12]],\n",
       "\n",
       "       [[11, 17],\n",
       "        [14, 11],\n",
       "        [12,  9]]])"
      ]
     },
     "execution_count": 63,
     "metadata": {},
     "output_type": "execute_result"
    }
   ],
   "source": [
    "# now the summision is along 1st axis (along columns)\n",
    "uu + v"
   ]
  },
  {
   "cell_type": "code",
   "execution_count": null,
   "metadata": {},
   "outputs": [],
   "source": []
  }
 ],
 "metadata": {
  "kernelspec": {
   "display_name": "base",
   "language": "python",
   "name": "python3"
  },
  "language_info": {
   "codemirror_mode": {
    "name": "ipython",
    "version": 3
   },
   "file_extension": ".py",
   "mimetype": "text/x-python",
   "name": "python",
   "nbconvert_exporter": "python",
   "pygments_lexer": "ipython3",
   "version": "3.9.13"
  }
 },
 "nbformat": 4,
 "nbformat_minor": 2
}
